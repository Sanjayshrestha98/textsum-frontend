{
 "cells": [
  {
   "cell_type": "code",
   "execution_count": 1,
   "metadata": {
    "id": "06QFZGxsf_KJ"
   },
   "outputs": [
    {
     "name": "stdout",
     "output_type": "stream",
     "text": [
      "Requirement already satisfied: transformers==4.40.1 in c:\\users\\sanja\\anaconda3\\envs\\cuda\\lib\\site-packages (4.40.1)\n",
      "Requirement already satisfied: filelock in c:\\users\\sanja\\anaconda3\\envs\\cuda\\lib\\site-packages (from transformers==4.40.1) (3.15.4)\n",
      "Requirement already satisfied: huggingface-hub<1.0,>=0.19.3 in c:\\users\\sanja\\anaconda3\\envs\\cuda\\lib\\site-packages (from transformers==4.40.1) (0.24.6)\n",
      "Requirement already satisfied: numpy>=1.17 in c:\\users\\sanja\\anaconda3\\envs\\cuda\\lib\\site-packages (from transformers==4.40.1) (1.24.4)\n",
      "Requirement already satisfied: packaging>=20.0 in c:\\users\\sanja\\anaconda3\\envs\\cuda\\lib\\site-packages (from transformers==4.40.1) (24.1)\n",
      "Requirement already satisfied: pyyaml>=5.1 in c:\\users\\sanja\\anaconda3\\envs\\cuda\\lib\\site-packages (from transformers==4.40.1) (6.0.2)\n",
      "Requirement already satisfied: regex!=2019.12.17 in c:\\users\\sanja\\anaconda3\\envs\\cuda\\lib\\site-packages (from transformers==4.40.1) (2024.7.24)\n",
      "Requirement already satisfied: requests in c:\\users\\sanja\\anaconda3\\envs\\cuda\\lib\\site-packages (from transformers==4.40.1) (2.32.3)\n",
      "Requirement already satisfied: tokenizers<0.20,>=0.19 in c:\\users\\sanja\\anaconda3\\envs\\cuda\\lib\\site-packages (from transformers==4.40.1) (0.19.1)\n",
      "Requirement already satisfied: safetensors>=0.4.1 in c:\\users\\sanja\\anaconda3\\envs\\cuda\\lib\\site-packages (from transformers==4.40.1) (0.4.4)\n",
      "Requirement already satisfied: tqdm>=4.27 in c:\\users\\sanja\\anaconda3\\envs\\cuda\\lib\\site-packages (from transformers==4.40.1) (4.66.5)\n",
      "Requirement already satisfied: fsspec>=2023.5.0 in c:\\users\\sanja\\anaconda3\\envs\\cuda\\lib\\site-packages (from huggingface-hub<1.0,>=0.19.3->transformers==4.40.1) (2024.6.1)\n",
      "Requirement already satisfied: typing-extensions>=3.7.4.3 in c:\\users\\sanja\\anaconda3\\envs\\cuda\\lib\\site-packages (from huggingface-hub<1.0,>=0.19.3->transformers==4.40.1) (4.12.2)\n",
      "Requirement already satisfied: colorama in c:\\users\\sanja\\anaconda3\\envs\\cuda\\lib\\site-packages (from tqdm>=4.27->transformers==4.40.1) (0.4.6)\n",
      "Requirement already satisfied: charset-normalizer<4,>=2 in c:\\users\\sanja\\anaconda3\\envs\\cuda\\lib\\site-packages (from requests->transformers==4.40.1) (3.3.2)\n",
      "Requirement already satisfied: idna<4,>=2.5 in c:\\users\\sanja\\anaconda3\\envs\\cuda\\lib\\site-packages (from requests->transformers==4.40.1) (3.7)\n",
      "Requirement already satisfied: urllib3<3,>=1.21.1 in c:\\users\\sanja\\anaconda3\\envs\\cuda\\lib\\site-packages (from requests->transformers==4.40.1) (2.2.2)\n",
      "Requirement already satisfied: certifi>=2017.4.17 in c:\\users\\sanja\\anaconda3\\envs\\cuda\\lib\\site-packages (from requests->transformers==4.40.1) (2024.7.4)\n",
      "Note: you may need to restart the kernel to use updated packages.\n"
     ]
    }
   ],
   "source": [
    "pip install transformers==4.40.1"
   ]
  },
  {
   "cell_type": "code",
   "execution_count": 2,
   "metadata": {},
   "outputs": [
    {
     "name": "stdout",
     "output_type": "stream",
     "text": [
      "Requirement already satisfied: accelerate in c:\\users\\sanja\\anaconda3\\envs\\cuda\\lib\\site-packages (0.33.0)\n",
      "Requirement already satisfied: numpy<2.0.0,>=1.17 in c:\\users\\sanja\\anaconda3\\envs\\cuda\\lib\\site-packages (from accelerate) (1.24.4)\n",
      "Requirement already satisfied: packaging>=20.0 in c:\\users\\sanja\\anaconda3\\envs\\cuda\\lib\\site-packages (from accelerate) (24.1)\n",
      "Requirement already satisfied: psutil in c:\\users\\sanja\\anaconda3\\envs\\cuda\\lib\\site-packages (from accelerate) (5.9.0)\n",
      "Requirement already satisfied: pyyaml in c:\\users\\sanja\\anaconda3\\envs\\cuda\\lib\\site-packages (from accelerate) (6.0.2)\n",
      "Requirement already satisfied: torch>=1.10.0 in c:\\users\\sanja\\anaconda3\\envs\\cuda\\lib\\site-packages (from accelerate) (2.4.0+cu124)\n",
      "Requirement already satisfied: huggingface-hub>=0.21.0 in c:\\users\\sanja\\anaconda3\\envs\\cuda\\lib\\site-packages (from accelerate) (0.24.6)\n",
      "Requirement already satisfied: safetensors>=0.3.1 in c:\\users\\sanja\\anaconda3\\envs\\cuda\\lib\\site-packages (from accelerate) (0.4.4)\n",
      "Requirement already satisfied: filelock in c:\\users\\sanja\\anaconda3\\envs\\cuda\\lib\\site-packages (from huggingface-hub>=0.21.0->accelerate) (3.15.4)\n",
      "Requirement already satisfied: fsspec>=2023.5.0 in c:\\users\\sanja\\anaconda3\\envs\\cuda\\lib\\site-packages (from huggingface-hub>=0.21.0->accelerate) (2024.6.1)\n",
      "Requirement already satisfied: requests in c:\\users\\sanja\\anaconda3\\envs\\cuda\\lib\\site-packages (from huggingface-hub>=0.21.0->accelerate) (2.32.3)\n",
      "Requirement already satisfied: tqdm>=4.42.1 in c:\\users\\sanja\\anaconda3\\envs\\cuda\\lib\\site-packages (from huggingface-hub>=0.21.0->accelerate) (4.66.5)\n",
      "Requirement already satisfied: typing-extensions>=3.7.4.3 in c:\\users\\sanja\\anaconda3\\envs\\cuda\\lib\\site-packages (from huggingface-hub>=0.21.0->accelerate) (4.12.2)\n",
      "Requirement already satisfied: sympy in c:\\users\\sanja\\anaconda3\\envs\\cuda\\lib\\site-packages (from torch>=1.10.0->accelerate) (1.12)\n",
      "Requirement already satisfied: networkx in c:\\users\\sanja\\anaconda3\\envs\\cuda\\lib\\site-packages (from torch>=1.10.0->accelerate) (3.0)\n",
      "Requirement already satisfied: jinja2 in c:\\users\\sanja\\anaconda3\\envs\\cuda\\lib\\site-packages (from torch>=1.10.0->accelerate) (3.1.3)\n",
      "Requirement already satisfied: colorama in c:\\users\\sanja\\anaconda3\\envs\\cuda\\lib\\site-packages (from tqdm>=4.42.1->huggingface-hub>=0.21.0->accelerate) (0.4.6)\n",
      "Requirement already satisfied: MarkupSafe>=2.0 in c:\\users\\sanja\\anaconda3\\envs\\cuda\\lib\\site-packages (from jinja2->torch>=1.10.0->accelerate) (2.1.5)\n",
      "Requirement already satisfied: charset-normalizer<4,>=2 in c:\\users\\sanja\\anaconda3\\envs\\cuda\\lib\\site-packages (from requests->huggingface-hub>=0.21.0->accelerate) (3.3.2)\n",
      "Requirement already satisfied: idna<4,>=2.5 in c:\\users\\sanja\\anaconda3\\envs\\cuda\\lib\\site-packages (from requests->huggingface-hub>=0.21.0->accelerate) (3.7)\n",
      "Requirement already satisfied: urllib3<3,>=1.21.1 in c:\\users\\sanja\\anaconda3\\envs\\cuda\\lib\\site-packages (from requests->huggingface-hub>=0.21.0->accelerate) (2.2.2)\n",
      "Requirement already satisfied: certifi>=2017.4.17 in c:\\users\\sanja\\anaconda3\\envs\\cuda\\lib\\site-packages (from requests->huggingface-hub>=0.21.0->accelerate) (2024.7.4)\n",
      "Requirement already satisfied: mpmath>=0.19 in c:\\users\\sanja\\anaconda3\\envs\\cuda\\lib\\site-packages (from sympy->torch>=1.10.0->accelerate) (1.3.0)\n",
      "Note: you may need to restart the kernel to use updated packages.\n"
     ]
    }
   ],
   "source": [
    "pip install accelerate -U"
   ]
  },
  {
   "cell_type": "code",
   "execution_count": 3,
   "metadata": {},
   "outputs": [],
   "source": [
    "# pip uninstall torch torchvision torchaudio"
   ]
  },
  {
   "cell_type": "code",
   "execution_count": 4,
   "metadata": {},
   "outputs": [
    {
     "name": "stdout",
     "output_type": "stream",
     "text": [
      "Requirement already satisfied: sentencepiece==0.1.94 in c:\\users\\sanja\\anaconda3\\envs\\cuda\\lib\\site-packages (0.1.94)\n",
      "Note: you may need to restart the kernel to use updated packages.\n"
     ]
    }
   ],
   "source": [
    "pip install sentencepiece==0.1.94"
   ]
  },
  {
   "cell_type": "code",
   "execution_count": 5,
   "metadata": {},
   "outputs": [
    {
     "name": "stdout",
     "output_type": "stream",
     "text": [
      "Looking in indexes: https://download.pytorch.org/whl/cu124\n",
      "Requirement already satisfied: torch in c:\\users\\sanja\\anaconda3\\envs\\cuda\\lib\\site-packages (2.4.0+cu124)\n",
      "Requirement already satisfied: torchvision in c:\\users\\sanja\\anaconda3\\envs\\cuda\\lib\\site-packages (0.19.0+cu124)\n",
      "Requirement already satisfied: torchaudio in c:\\users\\sanja\\anaconda3\\envs\\cuda\\lib\\site-packages (2.4.0+cu124)\n",
      "Requirement already satisfied: filelock in c:\\users\\sanja\\anaconda3\\envs\\cuda\\lib\\site-packages (from torch) (3.15.4)\n",
      "Requirement already satisfied: typing-extensions>=4.8.0 in c:\\users\\sanja\\anaconda3\\envs\\cuda\\lib\\site-packages (from torch) (4.12.2)\n",
      "Requirement already satisfied: sympy in c:\\users\\sanja\\anaconda3\\envs\\cuda\\lib\\site-packages (from torch) (1.12)\n",
      "Requirement already satisfied: networkx in c:\\users\\sanja\\anaconda3\\envs\\cuda\\lib\\site-packages (from torch) (3.0)\n",
      "Requirement already satisfied: jinja2 in c:\\users\\sanja\\anaconda3\\envs\\cuda\\lib\\site-packages (from torch) (3.1.3)\n",
      "Requirement already satisfied: fsspec in c:\\users\\sanja\\anaconda3\\envs\\cuda\\lib\\site-packages (from torch) (2024.6.1)\n",
      "Requirement already satisfied: numpy in c:\\users\\sanja\\anaconda3\\envs\\cuda\\lib\\site-packages (from torchvision) (1.24.4)\n",
      "Requirement already satisfied: pillow!=8.3.*,>=5.3.0 in c:\\users\\sanja\\anaconda3\\envs\\cuda\\lib\\site-packages (from torchvision) (10.2.0)\n",
      "Requirement already satisfied: MarkupSafe>=2.0 in c:\\users\\sanja\\anaconda3\\envs\\cuda\\lib\\site-packages (from jinja2->torch) (2.1.5)\n",
      "Requirement already satisfied: mpmath>=0.19 in c:\\users\\sanja\\anaconda3\\envs\\cuda\\lib\\site-packages (from sympy->torch) (1.3.0)\n",
      "Note: you may need to restart the kernel to use updated packages.\n"
     ]
    }
   ],
   "source": [
    "pip install torch torchvision torchaudio --index-url https://download.pytorch.org/whl/cu124"
   ]
  },
  {
   "cell_type": "code",
   "execution_count": 6,
   "metadata": {},
   "outputs": [
    {
     "name": "stdout",
     "output_type": "stream",
     "text": [
      "Requirement already satisfied: datasets in c:\\users\\sanja\\anaconda3\\envs\\cuda\\lib\\site-packages (2.21.0)\n",
      "Requirement already satisfied: filelock in c:\\users\\sanja\\anaconda3\\envs\\cuda\\lib\\site-packages (from datasets) (3.15.4)\n",
      "Requirement already satisfied: numpy>=1.17 in c:\\users\\sanja\\anaconda3\\envs\\cuda\\lib\\site-packages (from datasets) (1.24.4)\n",
      "Requirement already satisfied: pyarrow>=15.0.0 in c:\\users\\sanja\\anaconda3\\envs\\cuda\\lib\\site-packages (from datasets) (17.0.0)\n",
      "Requirement already satisfied: dill<0.3.9,>=0.3.0 in c:\\users\\sanja\\anaconda3\\envs\\cuda\\lib\\site-packages (from datasets) (0.3.8)\n",
      "Requirement already satisfied: pandas in c:\\users\\sanja\\anaconda3\\envs\\cuda\\lib\\site-packages (from datasets) (2.0.3)\n",
      "Requirement already satisfied: requests>=2.32.2 in c:\\users\\sanja\\anaconda3\\envs\\cuda\\lib\\site-packages (from datasets) (2.32.3)\n",
      "Requirement already satisfied: tqdm>=4.66.3 in c:\\users\\sanja\\anaconda3\\envs\\cuda\\lib\\site-packages (from datasets) (4.66.5)\n",
      "Requirement already satisfied: xxhash in c:\\users\\sanja\\anaconda3\\envs\\cuda\\lib\\site-packages (from datasets) (3.5.0)\n",
      "Requirement already satisfied: multiprocess in c:\\users\\sanja\\anaconda3\\envs\\cuda\\lib\\site-packages (from datasets) (0.70.16)\n",
      "Requirement already satisfied: fsspec<=2024.6.1,>=2023.1.0 in c:\\users\\sanja\\anaconda3\\envs\\cuda\\lib\\site-packages (from fsspec[http]<=2024.6.1,>=2023.1.0->datasets) (2024.6.1)\n",
      "Requirement already satisfied: aiohttp in c:\\users\\sanja\\anaconda3\\envs\\cuda\\lib\\site-packages (from datasets) (3.10.5)\n",
      "Requirement already satisfied: huggingface-hub>=0.21.2 in c:\\users\\sanja\\anaconda3\\envs\\cuda\\lib\\site-packages (from datasets) (0.24.6)\n",
      "Requirement already satisfied: packaging in c:\\users\\sanja\\anaconda3\\envs\\cuda\\lib\\site-packages (from datasets) (24.1)\n",
      "Requirement already satisfied: pyyaml>=5.1 in c:\\users\\sanja\\anaconda3\\envs\\cuda\\lib\\site-packages (from datasets) (6.0.2)\n",
      "Requirement already satisfied: aiohappyeyeballs>=2.3.0 in c:\\users\\sanja\\anaconda3\\envs\\cuda\\lib\\site-packages (from aiohttp->datasets) (2.4.0)\n",
      "Requirement already satisfied: aiosignal>=1.1.2 in c:\\users\\sanja\\anaconda3\\envs\\cuda\\lib\\site-packages (from aiohttp->datasets) (1.3.1)\n",
      "Requirement already satisfied: attrs>=17.3.0 in c:\\users\\sanja\\anaconda3\\envs\\cuda\\lib\\site-packages (from aiohttp->datasets) (24.2.0)\n",
      "Requirement already satisfied: frozenlist>=1.1.1 in c:\\users\\sanja\\anaconda3\\envs\\cuda\\lib\\site-packages (from aiohttp->datasets) (1.4.1)\n",
      "Requirement already satisfied: multidict<7.0,>=4.5 in c:\\users\\sanja\\anaconda3\\envs\\cuda\\lib\\site-packages (from aiohttp->datasets) (6.0.5)\n",
      "Requirement already satisfied: yarl<2.0,>=1.0 in c:\\users\\sanja\\anaconda3\\envs\\cuda\\lib\\site-packages (from aiohttp->datasets) (1.9.4)\n",
      "Requirement already satisfied: async-timeout<5.0,>=4.0 in c:\\users\\sanja\\anaconda3\\envs\\cuda\\lib\\site-packages (from aiohttp->datasets) (4.0.3)\n",
      "Requirement already satisfied: typing-extensions>=3.7.4.3 in c:\\users\\sanja\\anaconda3\\envs\\cuda\\lib\\site-packages (from huggingface-hub>=0.21.2->datasets) (4.12.2)\n",
      "Requirement already satisfied: charset-normalizer<4,>=2 in c:\\users\\sanja\\anaconda3\\envs\\cuda\\lib\\site-packages (from requests>=2.32.2->datasets) (3.3.2)\n",
      "Requirement already satisfied: idna<4,>=2.5 in c:\\users\\sanja\\anaconda3\\envs\\cuda\\lib\\site-packages (from requests>=2.32.2->datasets) (3.7)\n",
      "Requirement already satisfied: urllib3<3,>=1.21.1 in c:\\users\\sanja\\anaconda3\\envs\\cuda\\lib\\site-packages (from requests>=2.32.2->datasets) (2.2.2)\n",
      "Requirement already satisfied: certifi>=2017.4.17 in c:\\users\\sanja\\anaconda3\\envs\\cuda\\lib\\site-packages (from requests>=2.32.2->datasets) (2024.7.4)\n",
      "Requirement already satisfied: colorama in c:\\users\\sanja\\anaconda3\\envs\\cuda\\lib\\site-packages (from tqdm>=4.66.3->datasets) (0.4.6)\n",
      "Requirement already satisfied: python-dateutil>=2.8.2 in c:\\users\\sanja\\anaconda3\\envs\\cuda\\lib\\site-packages (from pandas->datasets) (2.9.0)\n",
      "Requirement already satisfied: pytz>=2020.1 in c:\\users\\sanja\\anaconda3\\envs\\cuda\\lib\\site-packages (from pandas->datasets) (2024.1)\n",
      "Requirement already satisfied: tzdata>=2022.1 in c:\\users\\sanja\\anaconda3\\envs\\cuda\\lib\\site-packages (from pandas->datasets) (2024.1)\n",
      "Requirement already satisfied: six>=1.5 in c:\\users\\sanja\\anaconda3\\envs\\cuda\\lib\\site-packages (from python-dateutil>=2.8.2->pandas->datasets) (1.16.0)\n",
      "Note: you may need to restart the kernel to use updated packages.\n"
     ]
    }
   ],
   "source": [
    "pip install datasets"
   ]
  },
  {
   "cell_type": "code",
   "execution_count": 7,
   "metadata": {},
   "outputs": [
    {
     "name": "stderr",
     "output_type": "stream",
     "text": [
      "c:\\Users\\sanja\\anaconda3\\envs\\cuda\\lib\\site-packages\\tqdm\\auto.py:21: TqdmWarning: IProgress not found. Please update jupyter and ipywidgets. See https://ipywidgets.readthedocs.io/en/stable/user_install.html\n",
      "  from .autonotebook import tqdm as notebook_tqdm\n"
     ]
    },
    {
     "name": "stdout",
     "output_type": "stream",
     "text": [
      "{'article': \"a recent systematic analysis showed that in 2011 , 314 ( 296 - 331 ) million children younger than 5 years were mildly , moderately or severely stunted and 258 ( 240 - 274 ) million were mildly , moderately or severely underweight in the developing countries . \\n in iran a study among 752 high school girls in sistan and baluchestan showed prevalence of 16.2% , 8.6% and 1.5% , for underweight , overweight and obesity , respectively . \\n the prevalence of malnutrition among elementary school aged children in tehran varied from 6% to 16% . \\n anthropometric study of elementary school students in shiraz revealed that 16% of them suffer from malnutrition and low body weight . \\n snack should have 300 - 400 kcal energy and could provide 5 - 10 g of protein / day . nowadays , school nutrition programs are running as the national programs , world - wide . national school lunch program in the united states \\n there are also some reports regarding school feeding programs in developing countries . in vietnam , \\n school base program showed an improvement in nutrient intakes . in iran a national free food program ( nffp ) \\n is implemented in elementary schools of deprived areas to cover all poor students . however , this program is not conducted in slums and poor areas of the big cities so many malnourished children with low socio - economic situation are not covered by nffp . although the rate of poverty in areas known as deprived is higher than other areas , many students in deprived areas are not actually poor and can afford food . \\n hence , nutritional value of the nffp is lower than the scientific recommended snacks for this age group . \\n furthermore , lack of variety of food packages has decreased the tendency of children toward nffp . on the other hand , \\n the most important one is ministry of education ( moe ) of iran , which is responsible for selecting and providing the packages for targeted schools . \\n the ministry of health ( moh ) is supervising the health situation of students and their health needs . \\n welfare organizations , along with charities , have the indirect effect on nutritional status of students by financial support of their family . \\n provincial governors have also the role of coordinating and supervising all activities of these organizations . \\n parent - teacher association is a community - based institution that participates in school 's policy such as nffp . \\n in addition to these organizations , nutritional literacy of students , their parents and teachers , is a very important issue , which could affect nutritional status of school age children . \\n therefore , the present study was conducted with the aim of improving the nffp , so that by its resources all poor children will be covered even in big cities . \\n moreover , all food packages were replaced by nutritious and diverse packages that were accessible for non - poor children . according to the aim of this study and multiple factors that could affect the problem , \\n public health advocacy has been chosen as the best strategy to deal with this issue . \\n therefore , the present study determines the effects of nutrition intervention in an advocacy process model on the prevalence of underweight in school aged children in the poor area of shiraz , iran . \\n this interventional study has been carried out between 2009 and 2010 in shiraz , iran . \\n this survey was approved by the research committee of shiraz university of medical sciences . in coordination with education organization of fars province \\n two elementary schools and one middle school in the third region of the urban area of shiraz were selected randomly . in those schools all \\n students ( 2897 , 7 - 13 years old ) were screened based on their body mass index ( bmi ) by nutritionists . according to convenience method all \\n students divided to two groups based on their economic situation ; family revenue and head of household 's job and nutrition situation ; the first group were poor and malnourished students and the other group were well nourished or well - off students . \\n for this report , the children 's height and weight were entered into center for disease control and prevention ( cdc ) to calculate bmi and bmi - for - age z - scores based on cdc for diseases control and prevention and growth standards . \\n the significance of the difference between proportions was calculated using two - tailed z - tests for independent proportions . for implementing the interventions , \\n the advocacy process model weight was to the nearest 0.1 kg on a balance scale ( model # seca scale ) . \\n standing height was measured to the nearest 0.1 cm with a wall - mounted stadiometer . \\n advocacy group formation : this step was started with stakeholder analysis and identifying the stakeholders . \\n the team was formed with representatives of all stakeholders include ; education organization , welfare organization , deputy for health of shiraz university , food and cosmetic product supervisory office and several non - governmental organizations and charities . situation analysis : this was carried out by use of existing data such as formal report of organizations , literature review and focus group with experts . \\n the prevalence of malnutrition and its related factors among students was determined and weaknesses and strengths of the nffp were analyzed . \\n accordingly , three sub - groups were established : research and evaluation , education and justification and executive group . designing the strategies : \\n three strategies were identified ; education and justification campaign , nutritional intervention ( providing nutritious , safe and diverse snacks ) and networking . performing the interventions : interventions that were implementing in selected schools were providing a diverse and nutritious snack package along with nutrition education for both groups while the first group ( poor and malnourished students ) was utilized the package free of charge . \\n education and justification intervention : regarding the literature review and expert opinion , an educational group affiliated with the advocacy team has prepared educational booklets about nutritional information for each level ( degree ) . \\n accordingly , education of these booklets has been integrated into regular education of students and they educated and justified for better nutrition life - style . \\n it leads the educational group to hold several meeting with the student 's parents to justify them about the project and its benefit for their children . \\n after these meetings , parental desire for participation in the project illustrated the effectiveness of the justification meeting with them . \\n for educate fifteen talk show programs in tv and radio , 12 published papers in the local newspaper , have implemented to mobilize the community and gain their support . \\n healthy diet , the importance of breakfast and snack in adolescence , wrong food habits among school age children , role of the family to improve food habit of children were the main topics , in which media campaign has focused on . \\n nutritional intervention : the snack basket of the students was replaced with traditional , nutritious and diverse foods . in general , the new snack package in average has provided 380 kcal energy , 15 g protein along with sufficient calcium and iron . \\n low economic and malnourished children were supported by executive group affiliated with advocacy team and the rest of them prepare their snack by themselves . \\n research and evaluation : in this step , the literacy and anthropometric indices ( bmi ) of students were assessed before and after the interventions . \\n the reference for anthropometric measures was the world health organization / national center for health statistics ( who / nchs ) standards and the cut - offs were - two standard deviations ( sd ) from the mean . \\n each student that was malnourished and poor has been taken into account for free food and nutritious snacks . \\n demographic information , height , weight and knowledge of the students were measured by use of a validated and reliable ( cronbach 's alpha was 0.61 ) questionnaire . \\n this project is granted by shiraz university of medical sciences , charities and welfare organization and education organization of fars province . \\n statistical analyses were performed using the statistical package for the social sciences ( spss ) software , version 17.0 ( spss inc . , \\n the results are expressed as mean  sd and proportions as appropriated . in order to determine the effective variables on the malnutrition status \\n paired t test was used to compare the end values with baseline ones in each group . \\n in this project , the who z - score cut - offs used were as follow : using bmi - for - age z - scores ; overweight : > + 1 sd , i.e. , z - score > 1 ( equivalent to bmi 25 kg / m ) , obesity : > + 2 sd ( equivalent to bmi 30 kg / m ) , thinness : < 2 sd and severe thinness : < 3 sd . \\n this interventional study has been carried out between 2009 and 2010 in shiraz , iran . \\n this survey was approved by the research committee of shiraz university of medical sciences . in coordination with education organization of fars province \\n two elementary schools and one middle school in the third region of the urban area of shiraz were selected randomly . in those schools all \\n students ( 2897 , 7 - 13 years old ) were screened based on their body mass index ( bmi ) by nutritionists . according to convenience method all \\n students divided to two groups based on their economic situation ; family revenue and head of household 's job and nutrition situation ; the first group were poor and malnourished students and the other group were well nourished or well - off students . \\n for this report , the children 's height and weight were entered into center for disease control and prevention ( cdc ) to calculate bmi and bmi - for - age z - scores based on cdc for diseases control and prevention and growth standards . \\n the significance of the difference between proportions was calculated using two - tailed z - tests for independent proportions . for implementing the interventions , \\n weight was to the nearest 0.1 kg on a balance scale ( model # seca scale ) . \\n standing height was measured to the nearest 0.1 cm with a wall - mounted stadiometer . \\n advocacy group formation : this step was started with stakeholder analysis and identifying the stakeholders . \\n the team was formed with representatives of all stakeholders include ; education organization , welfare organization , deputy for health of shiraz university , food and cosmetic product supervisory office and several non - governmental organizations and charities . situation analysis : this was carried out by use of existing data such as formal report of organizations , literature review and focus group with experts . \\n the prevalence of malnutrition and its related factors among students was determined and weaknesses and strengths of the nffp were analyzed . \\n accordingly , three sub - groups were established : research and evaluation , education and justification and executive group . designing the strategies : \\n three strategies were identified ; education and justification campaign , nutritional intervention ( providing nutritious , safe and diverse snacks ) and networking . performing the interventions : interventions that were implementing in selected schools were providing a diverse and nutritious snack package along with nutrition education for both groups while the first group ( poor and malnourished students ) was utilized the package free of charge . duration of intervention was 6 months . \\n education and justification intervention : regarding the literature review and expert opinion , an educational group affiliated with the advocacy team has prepared educational booklets about nutritional information for each level ( degree ) . \\n accordingly , education of these booklets has been integrated into regular education of students and they educated and justified for better nutrition life - style . obviously , student 's families had remarkable effect on children 's food habit . \\n it leads the educational group to hold several meeting with the student 's parents to justify them about the project and its benefit for their children . \\n after these meetings , parental desire for participation in the project illustrated the effectiveness of the justification meeting with them . \\n educate fifteen talk show programs in tv and radio , 12 published papers in the local newspaper , have implemented to mobilize the community and gain their support . \\n healthy diet , the importance of breakfast and snack in adolescence , wrong food habits among school age children , role of the family to improve food habit of children were the main topics , in which media campaign has focused on . \\n nutritional intervention : the snack basket of the students was replaced with traditional , nutritious and diverse foods . in general , the new snack package in average has provided 380 kcal energy , 15 g protein along with sufficient calcium and iron . \\n low economic and malnourished children were supported by executive group affiliated with advocacy team and the rest of them prepare their snack by themselves . \\n research and evaluation : in this step , the literacy and anthropometric indices ( bmi ) of students were assessed before and after the interventions . \\n the reference for anthropometric measures was the world health organization / national center for health statistics ( who / nchs ) standards and the cut - offs were - two standard deviations ( sd ) from the mean . \\n each student that was malnourished and poor has been taken into account for free food and nutritious snacks . \\n demographic information , height , weight and knowledge of the students were measured by use of a validated and reliable ( cronbach 's alpha was 0.61 ) questionnaire . \\n this project is granted by shiraz university of medical sciences , charities and welfare organization and education organization of fars province . \\n advocacy group formation : this step was started with stakeholder analysis and identifying the stakeholders . \\n the team was formed with representatives of all stakeholders include ; education organization , welfare organization , deputy for health of shiraz university , food and cosmetic product supervisory office and several non - governmental organizations and charities . \\n situation analysis : this was carried out by use of existing data such as formal report of organizations , literature review and focus group with experts . \\n the prevalence of malnutrition and its related factors among students was determined and weaknesses and strengths of the nffp were analyzed . \\n accordingly , three sub - groups were established : research and evaluation , education and justification and executive group . \\n designing the strategies : three strategies were identified ; education and justification campaign , nutritional intervention ( providing nutritious , safe and diverse snacks ) and networking . \\n performing the interventions : interventions that were implementing in selected schools were providing a diverse and nutritious snack package along with nutrition education for both groups while the first group ( poor and malnourished students ) was utilized the package free of charge . \\n education and justification intervention : regarding the literature review and expert opinion , an educational group affiliated with the advocacy team has prepared educational booklets about nutritional information for each level ( degree ) . \\n accordingly , education of these booklets has been integrated into regular education of students and they educated and justified for better nutrition life - style . obviously , student 's families had remarkable effect on children 's food habit . \\n it leads the educational group to hold several meeting with the student 's parents to justify them about the project and its benefit for their children . \\n after these meetings , parental desire for participation in the project illustrated the effectiveness of the justification meeting with them . \\n educate fifteen talk show programs in tv and radio , 12 published papers in the local newspaper , have implemented to mobilize the community and gain their support . \\n healthy diet , the importance of breakfast and snack in adolescence , wrong food habits among school age children , role of the family to improve food habit of children were the main topics , in which media campaign has focused on . nutritional intervention : the snack basket of the students \\n was replaced with traditional , nutritious and diverse foods . in general , the new snack package in average has provided 380 kcal energy , 15 g protein along with sufficient calcium and iron . \\n low economic and malnourished children were supported by executive group affiliated with advocacy team and the rest of them prepare their snack by themselves . \\n research and evaluation : in this step , the literacy and anthropometric indices ( bmi ) of students were assessed before and after the interventions . \\n the reference for anthropometric measures was the world health organization / national center for health statistics ( who / nchs ) standards and the cut - offs were - two standard deviations ( sd ) from the mean . \\n each student that was malnourished and poor has been taken into account for free food and nutritious snacks . \\n demographic information , height , weight and knowledge of the students were measured by use of a validated and reliable ( cronbach 's alpha was 0.61 ) questionnaire . \\n this project is granted by shiraz university of medical sciences , charities and welfare organization and education organization of fars province . \\n statistical analyses were performed using the statistical package for the social sciences ( spss ) software , version 17.0 ( spss inc . , chicago , il , usa ) . \\n the results are expressed as mean  sd and proportions as appropriated . in order to determine the effective variables on the malnutrition status \\n paired t test was used to compare the end values with baseline ones in each group . \\n two - sided p < 0.05 was considered to be statistically significant . in this project , \\n the who z - score cut - offs used were as follow : using bmi - for - age z - scores ; overweight : > + 1 sd , i.e. , z - score > 1 ( equivalent to bmi 25 kg / m ) , obesity : > + 2 sd ( equivalent to bmi 30 \\n kg / m ) , thinness : < 2 sd and severe thinness : < 3 sd . \\n study population contains 2897 children ; 70.8% were primary school students and 29.2% were secondary school students . \\n 2336 ( 80.5% ) out of total students were well - off and 561 children ( 19.5% ) were indigent . \\n 19.5% of subjects were in case group ( n = 561 ) and 80.5% were in the control group ( n = 2336 ) . \\n the mean of age in welfare group was 10.0  2.3 and 10.5  2.5 in non - welfare group . \\n demographic characteristics of school aged children in shiraz , iran table 2 shows the frequency of subjects in different categories of bmi for age in non - welfare and welfare groups of school aged children separately among boys and girls before and after a nutrition intervention based on advocacy process model in shiraz , iran . \\n the frequency of subjects with bmi lower than < 2 sd decreased significantly after intervention among non - welfare girls ( p < 0.01 ) . \\n however , there were no significant decreases in the frequency of subjects with bmi lower than < 2 sd boys . \\n when we assess the effect of intervention in total population without separating by sex groups , we found no significant change in this population [ table 3 ] . \\n bmi for age for iranian students aged 7 - 14 years based on gender according to who growth standards 2007 bmi for age for iranian students aged 7 - 14 years according to who growth standards 2007 in non - welfare and welfare groups of total population table 4 has shown the prevalence of normal bmi , mild , moderate and severe malnutrition in non - welfare and welfare groups of school aged children separately among boys and girls before and after a nutrition intervention based on advocacy process model . according to this table \\n there were no significant differences in the prevalence of mild , moderate and severe malnutrition among girls and boys . \\n table 4 also shows the mean of all anthropometric indices changed significantly after intervention both among girls and boys . \\n the pre- and post - test education assessment in both groups showed that the student 's average knowledge score has been significantly increased from 12.5  3.2 to 16.8  4.3 ( p < 0.0001 ) . \\n bmi , height and weight in non - welfare and welfare groups of school aged children separately in males and females before and after a nutrition intervention based on advocacy process model in shiraz , iran according to study 's finding the odds ratio ( or ) of sever thinness and thinness in non - welfare compared with welfare is 3.5 ( or = 3.5 , confidence interval [ ci ] = 2.5 - 3.9 , p < 0.001 ) . \\n furthermore , the finding showed or of overweight and obesity in welfare compared to non - welfare is 19.3 ( or = 19.3 , ci = 2.5 - 3.9 , p = 0.04 ) . \\n the result of this community intervention study revealed that nutrition intervention based on advocacy program had been successful to reduce the prevalence of underweight among poor girls . \\n this study shows determinant factor of nutritional status of school age children was their socio - economic level . according to our knowledge , \\n this is the first study , which determines the effect of a community intervention based on advocacy process on the malnutrition indices in a big city ( shiraz ) in iran . \\n the other program in iran ( nffp ) is specified to deprived area and is not conducted in big cities . \\n allocating millions of dollars to nffp by government , selecting the malnourished students through an active screening system at primary and middle schools , paying attention of policy makers to student 's nutrition have provided the opportunity to combat the problem . however , negligence of under - poverty line , providing poor snacks in terms of nutritional value and lack of variety are the main defects of this program . \\n advocacy by definition is a blending of science , ethics and politics for comprehensive approaching health issues . by using advocacy program in california among the high school students for improving their nutrition and physical activity \\n angeles unified school district participants emphasized on nutrition classes for families as well as students in addition to other interventions . in the present study \\n another study revealed that evaluability assessment gave stakeholders the opportunity to reflect on the project and its implementation issues . \\n it seems that in iran , free food program among the students not only is needed in deprived areas , but also it should be performed in big cities such as shiraz . at baseline , \\n no significant difference was founded among wealthy students between the pre- and post - nutritional status intervention . \\n in contrast , the numbers of students who have malnutrition decreased from 44% to 39.4% , which was identified as a significant among impecunious girls students . \\n there was also a significant increase in the proportion of children with bmi that was normal for age ( 2 to + 1 sd ) most of the published community interventions showed better results among females compared with males . \\n this difference in the impact of nutritional interventions between male and female might be related to the different age of puberty in the female population compared to the male population . in the age range of the present study female \\n although , there is no nffp in big cities of iran , there are some programs for improving the nutritional status such as providing free milk in schools . \\n a recent publication has shown that school feeding programs focus on milk supplementation had beneficial effects on the physical function and school performances specifically among girls in iran . \\n the results of the mentioned study showed an improvement in the weight of children , psychological test 's scores and the grade - point average following this school feeding program . \\n the intervention in the present study had focused on the snack intake in the school time . \\n there are some reports regarding the nutrition transition in iran , which shows the importance of nutrition intervention to provide more healthy eating dietary habits among welfare groups of adolescents . \\n hence , nutrition intervention especially in the form of nutrition education is needed in big cities and among welfare children and adolescents . although a study among iranian adolescents showed that dietary behavior of adolescents does not accord to their knowledge , which emphasize on the necessity of community intervention programs . a recent study regarding the major dietary pattern among iranian children showed the presence of four major dietary patterns , in which fast food pattern and sweet pattern as two major dietary patterns can be mentioned among iranian children . in advocacy program audience 's analysis \\n accordingly , one of the prominent strategies in this study was working with media and was meeting with parent - teacher association that both of them were secondary target audiences \\n . we also took into account policy makers in different levels , from national to local as primary audiences . \\n advocacy team had several meetings with management and planning organization at national level and education organization of the fars province as well as principal of the targeted schools . \\n providing nutritious snacks need contribution of private sector such as food industries or factories , but their benefits should be warranted . \\n another choice was community involvement ; which can be achieved by female health volunteers who are working with the health system . \\n advocacy team by using the support of charities and female health volunteers could establish a local factory that produced student 's snacks based on the new definition . however , there are some challenges on the way of expanding this program . \\n mass production of the proposed snacks according to different desires and cultures and getting involvement of food industries with respect to marketing issues is one of those challenges . \\n moreover , providing a supportive environment in order to change the food habits of the students and their parents among the wide range of the population require a sustainable and continuous inter - sector collaboration . \\n although in a limited number of schools , in our study , interventions and advocacy program was successful , expanding this model to another areas around the country depends on convincing the policy makers at national level . in this \\n regard , advocacy team should prepare evidenced based profile and transitional planning to convince the policy makers for improving the rule and regulation of nffp . \\n the same as this study in other studies have also emphasized that there must be efforts to strengthen the capacity within the schools to deal with the nutritional problems either overweight , obesity or malnutrition by using of educational and nutritional intervention . \\n assessing the dietary adherence is very important in nutrition intervention among population . as this population was children and adolescents we had a limitation in the blood sample collection to assess the subject 's dietary adherence . \\n furthermore , this intervention was only focused on the intake of snack in school time and we did not have comprehensive information on the dietary intake of children and adolescents after school all over the day . \\n the investigators propose further investigation in different areas of the country based on socio - cultural differences in order to make necessary modification and adapt this model to other areas . \\n regarding the nutritional needs of the school age children , provision of a good platform for implementing and expanding this efficient model to the whole country based upon the socio - economic situation of each region is advisable to the moh and the moe . \\n community nutrition intervention based on the advocacy process model is effective on reducing the prevalence of underweight specifically among female school aged children .\", 'abstract': \"background : the present study was carried out to assess the effects of community nutrition intervention based on advocacy approach on malnutrition status among school - aged children in shiraz , iran.materials and methods : this case - control nutritional intervention has been done between 2008 and 2009 on 2897 primary and secondary school boys and girls ( 7 - 13 years old ) based on advocacy approach in shiraz , iran . \\n the project provided nutritious snacks in public schools over a 2-year period along with advocacy oriented actions in order to implement and promote nutritional intervention . for evaluation of effectiveness of the intervention growth monitoring indices of pre- and post - intervention were statistically compared.results:the frequency of subjects with body mass index lower than 5% decreased significantly after intervention among girls ( p = 0.02 ) . \\n however , there were no significant changes among boys or total population . \\n the mean of all anthropometric indices changed significantly after intervention both among girls and boys as well as in total population . \\n the pre- and post - test education assessment in both groups showed that the student 's average knowledge score has been significantly increased from 12.5  3.2 to 16.8  4.3 ( p < 0.0001).conclusion : this study demonstrates the potential success and scalability of school feeding programs in iran . \\n community nutrition intervention based on the advocacy process model is effective on reducing the prevalence of underweight specifically among female school aged children .\"}\n"
     ]
    }
   ],
   "source": [
    "from datasets import load_dataset\n",
    "\n",
    "# Load your dataset\n",
    "dataset = load_dataset('csv', data_files={'train': 'D://MASTERS//FinalThesis//textsumm-web//summ-frontend//app//python-scripts//pubmed_dataset//train.csv',\n",
    "                                          'validation': 'D://MASTERS//FinalThesis//textsumm-web//summ-frontend//app//python-scripts//pubmed_dataset//validation.csv',\n",
    "                                          'test': 'D://MASTERS//FinalThesis//textsumm-web//summ-frontend//app//python-scripts//pubmed_dataset//test.csv'})\n",
    "\n",
    "# Example to see how the dataset looks\n",
    "print(dataset['train'][0])\n"
   ]
  },
  {
   "cell_type": "code",
   "execution_count": 8,
   "metadata": {},
   "outputs": [],
   "source": [
    "import torch"
   ]
  },
  {
   "cell_type": "code",
   "execution_count": 9,
   "metadata": {},
   "outputs": [
    {
     "name": "stdout",
     "output_type": "stream",
     "text": [
      "True\n",
      "NVIDIA GeForce GTX 1660 Ti\n"
     ]
    }
   ],
   "source": [
    "print(torch.cuda.is_available())  # Should return True if CUDA is enabled and available\n",
    "print(torch.cuda.get_device_name(0))"
   ]
  },
  {
   "cell_type": "code",
   "execution_count": 10,
   "metadata": {},
   "outputs": [],
   "source": [
    "import torch \n",
    "\n",
    "# Limit PyTorch to use only 50% of the available GPU memory\n",
    "torch.cuda.set_per_process_memory_fraction(0.8, device=0)"
   ]
  },
  {
   "cell_type": "code",
   "execution_count": 11,
   "metadata": {},
   "outputs": [
    {
     "name": "stdout",
     "output_type": "stream",
     "text": [
      "Package             Version\n",
      "------------------- ------------\n",
      "absl-py             2.1.0\n",
      "accelerate          0.33.0\n",
      "aiohappyeyeballs    2.4.0\n",
      "aiohttp             3.10.5\n",
      "aiosignal           1.3.1\n",
      "annotated-types     0.7.0\n",
      "anyio               4.4.0\n",
      "asttokens           2.4.1\n",
      "async-timeout       4.0.3\n",
      "attrs               24.2.0\n",
      "backcall            0.2.0\n",
      "certifi             2024.7.4\n",
      "charset-normalizer  3.3.2\n",
      "click               8.1.7\n",
      "colorama            0.4.6\n",
      "comm                0.2.2\n",
      "contourpy           1.1.1\n",
      "cycler              0.12.1\n",
      "datasets            2.21.0\n",
      "debugpy             1.6.7\n",
      "decorator           5.1.1\n",
      "dill                0.3.8\n",
      "exceptiongroup      1.2.2\n",
      "executing           2.0.1\n",
      "fastapi             0.112.1\n",
      "filelock            3.15.4\n",
      "fonttools           4.53.1\n",
      "frozenlist          1.4.1\n",
      "fsspec              2024.6.1\n",
      "graphviz            0.20.3\n",
      "h11                 0.14.0\n",
      "huggingface-hub     0.24.6\n",
      "idna                3.7\n",
      "importlib_metadata  8.4.0\n",
      "importlib_resources 6.4.4\n",
      "ipykernel           6.29.5\n",
      "ipython             8.12.0\n",
      "jedi                0.19.1\n",
      "Jinja2              3.1.3\n",
      "joblib              1.4.2\n",
      "jupyter_client      8.6.2\n",
      "jupyter_core        5.7.2\n",
      "kiwisolver          1.4.5\n",
      "MarkupSafe          2.1.5\n",
      "matplotlib          3.7.5\n",
      "matplotlib-inline   0.1.7\n",
      "mpmath              1.3.0\n",
      "multidict           6.0.5\n",
      "multiprocess        0.70.16\n",
      "nest_asyncio        1.6.0\n",
      "networkx            3.0\n",
      "nltk                3.9.1\n",
      "numpy               1.24.4\n",
      "packaging           24.1\n",
      "pandas              2.0.3\n",
      "parso               0.8.4\n",
      "pickleshare         0.7.5\n",
      "pillow              10.2.0\n",
      "pip                 24.2\n",
      "platformdirs        4.2.2\n",
      "prompt_toolkit      3.0.47\n",
      "psutil              5.9.0\n",
      "pure_eval           0.2.3\n",
      "pyarrow             17.0.0\n",
      "pydantic            2.8.2\n",
      "pydantic_core       2.20.1\n",
      "Pygments            2.18.0\n",
      "pyparsing           3.1.2\n",
      "python-dateutil     2.9.0\n",
      "pytz                2024.1\n",
      "pywin32             305.1\n",
      "PyYAML              6.0.2\n",
      "pyzmq               24.0.1\n",
      "regex               2024.7.24\n",
      "requests            2.32.3\n",
      "rouge_score         0.1.2\n",
      "safetensors         0.4.4\n",
      "scikit-learn        1.3.2\n",
      "scipy               1.10.1\n",
      "seaborn             0.13.2\n",
      "sentencepiece       0.1.94\n",
      "setuptools          72.1.0\n",
      "six                 1.16.0\n",
      "sniffio             1.3.1\n",
      "stack-data          0.6.2\n",
      "starlette           0.38.2\n",
      "sympy               1.12\n",
      "tabulate            0.9.0\n",
      "threadpoolctl       3.5.0\n",
      "tokenizers          0.19.1\n",
      "torch               2.4.0+cu124\n",
      "torchaudio          2.4.0+cu124\n",
      "torchvision         0.19.0+cu124\n",
      "torchviz            0.0.2\n",
      "tornado             6.2\n",
      "tqdm                4.66.5\n",
      "traitlets           5.14.3\n",
      "transformers        4.40.1\n",
      "typing_extensions   4.12.2\n",
      "tzdata              2024.1\n",
      "urllib3             2.2.2\n",
      "uvicorn             0.30.6\n",
      "wcwidth             0.2.13\n",
      "wheel               0.43.0\n",
      "xxhash              3.5.0\n",
      "yarl                1.9.4\n",
      "zipp                3.20.0\n",
      "Note: you may need to restart the kernel to use updated packages.\n"
     ]
    }
   ],
   "source": [
    "pip list"
   ]
  },
  {
   "cell_type": "code",
   "execution_count": 12,
   "metadata": {},
   "outputs": [
    {
     "name": "stdout",
     "output_type": "stream",
     "text": [
      "Files removed: 2\n",
      "Note: you may need to restart the kernel to use updated packages.\n"
     ]
    }
   ],
   "source": [
    "pip cache purge"
   ]
  },
  {
   "cell_type": "code",
   "execution_count": 13,
   "metadata": {},
   "outputs": [
    {
     "name": "stdout",
     "output_type": "stream",
     "text": [
      "Requirement already satisfied: seaborn in c:\\users\\sanja\\anaconda3\\envs\\cuda\\lib\\site-packages (0.13.2)\n",
      "Requirement already satisfied: numpy!=1.24.0,>=1.20 in c:\\users\\sanja\\anaconda3\\envs\\cuda\\lib\\site-packages (from seaborn) (1.24.4)\n",
      "Requirement already satisfied: pandas>=1.2 in c:\\users\\sanja\\anaconda3\\envs\\cuda\\lib\\site-packages (from seaborn) (2.0.3)\n",
      "Requirement already satisfied: matplotlib!=3.6.1,>=3.4 in c:\\users\\sanja\\anaconda3\\envs\\cuda\\lib\\site-packages (from seaborn) (3.7.5)\n",
      "Requirement already satisfied: contourpy>=1.0.1 in c:\\users\\sanja\\anaconda3\\envs\\cuda\\lib\\site-packages (from matplotlib!=3.6.1,>=3.4->seaborn) (1.1.1)\n",
      "Requirement already satisfied: cycler>=0.10 in c:\\users\\sanja\\anaconda3\\envs\\cuda\\lib\\site-packages (from matplotlib!=3.6.1,>=3.4->seaborn) (0.12.1)\n",
      "Requirement already satisfied: fonttools>=4.22.0 in c:\\users\\sanja\\anaconda3\\envs\\cuda\\lib\\site-packages (from matplotlib!=3.6.1,>=3.4->seaborn) (4.53.1)\n",
      "Requirement already satisfied: kiwisolver>=1.0.1 in c:\\users\\sanja\\anaconda3\\envs\\cuda\\lib\\site-packages (from matplotlib!=3.6.1,>=3.4->seaborn) (1.4.5)\n",
      "Requirement already satisfied: packaging>=20.0 in c:\\users\\sanja\\anaconda3\\envs\\cuda\\lib\\site-packages (from matplotlib!=3.6.1,>=3.4->seaborn) (24.1)\n",
      "Requirement already satisfied: pillow>=6.2.0 in c:\\users\\sanja\\anaconda3\\envs\\cuda\\lib\\site-packages (from matplotlib!=3.6.1,>=3.4->seaborn) (10.2.0)\n",
      "Requirement already satisfied: pyparsing>=2.3.1 in c:\\users\\sanja\\anaconda3\\envs\\cuda\\lib\\site-packages (from matplotlib!=3.6.1,>=3.4->seaborn) (3.1.2)\n",
      "Requirement already satisfied: python-dateutil>=2.7 in c:\\users\\sanja\\anaconda3\\envs\\cuda\\lib\\site-packages (from matplotlib!=3.6.1,>=3.4->seaborn) (2.9.0)\n",
      "Requirement already satisfied: importlib-resources>=3.2.0 in c:\\users\\sanja\\anaconda3\\envs\\cuda\\lib\\site-packages (from matplotlib!=3.6.1,>=3.4->seaborn) (6.4.4)\n",
      "Requirement already satisfied: pytz>=2020.1 in c:\\users\\sanja\\anaconda3\\envs\\cuda\\lib\\site-packages (from pandas>=1.2->seaborn) (2024.1)\n",
      "Requirement already satisfied: tzdata>=2022.1 in c:\\users\\sanja\\anaconda3\\envs\\cuda\\lib\\site-packages (from pandas>=1.2->seaborn) (2024.1)\n",
      "Requirement already satisfied: zipp>=3.1.0 in c:\\users\\sanja\\anaconda3\\envs\\cuda\\lib\\site-packages (from importlib-resources>=3.2.0->matplotlib!=3.6.1,>=3.4->seaborn) (3.20.0)\n",
      "Requirement already satisfied: six>=1.5 in c:\\users\\sanja\\anaconda3\\envs\\cuda\\lib\\site-packages (from python-dateutil>=2.7->matplotlib!=3.6.1,>=3.4->seaborn) (1.16.0)\n",
      "Note: you may need to restart the kernel to use updated packages.\n"
     ]
    }
   ],
   "source": [
    "pip install seaborn"
   ]
  },
  {
   "cell_type": "code",
   "execution_count": 14,
   "metadata": {},
   "outputs": [],
   "source": [
    "import seaborn as sns\n",
    "import matplotlib.pyplot as plt"
   ]
  },
  {
   "cell_type": "code",
   "execution_count": 15,
   "metadata": {},
   "outputs": [],
   "source": [
    "def filter_empty(examples):\n",
    "    return examples['article'] is not None and examples['abstract'] is not None\n",
    "        \n",
    "filtered_dataset = dataset.filter(filter_empty)"
   ]
  },
  {
   "cell_type": "code",
   "execution_count": 16,
   "metadata": {},
   "outputs": [],
   "source": [
    "# Function to calculate lengths of articles and abstracts\n",
    "def calculate_lengths(dataset, column_name):\n",
    "    return [len(item[column_name].split()) for item in dataset]\n"
   ]
  },
  {
   "cell_type": "code",
   "execution_count": 17,
   "metadata": {},
   "outputs": [],
   "source": [
    "# Get lengths of articles and abstracts for the training set\n",
    "train_article_lengths = calculate_lengths(filtered_dataset['train'], 'article')\n",
    "train_abstract_lengths = calculate_lengths(filtered_dataset['train'], 'abstract')\n",
    "\n",
    "# Get lengths of articles and abstracts for the validation set\n",
    "val_article_lengths = calculate_lengths(filtered_dataset['validation'], 'article')\n",
    "val_abstract_lengths = calculate_lengths(filtered_dataset['validation'], 'abstract')\n"
   ]
  },
  {
   "cell_type": "code",
   "execution_count": 18,
   "metadata": {},
   "outputs": [
    {
     "data": {
      "image/png": "[encoded data removed]",
      "text/plain": [
       "<Figure size 1400x700 with 2 Axes>"
      ]
     },
     "metadata": {},
     "output_type": "display_data"
    }
   ],
   "source": [
    "# Calculate lengths for validation set\n",
    "val_article_lengths = calculate_lengths(dataset['validation'], 'article')\n",
    "val_abstract_lengths = calculate_lengths(dataset['validation'], 'abstract')\n",
    "\n",
    "plt.figure(figsize=(14, 7))\n",
    "\n",
    "# Plot article lengths comparison\n",
    "plt.subplot(1, 2, 1)\n",
    "sns.histplot(train_article_lengths, color='blue', label='Train', kde=True, bins=50)\n",
    "sns.histplot(val_article_lengths, color='green', label='Validation', kde=True, bins=50)\n",
    "plt.title('Article Lengths: Train vs Validation')\n",
    "plt.xlabel('Number of Words')\n",
    "plt.ylabel('Frequency')\n",
    "plt.legend()\n",
    "\n",
    "# Plot abstract lengths comparison\n",
    "plt.subplot(1, 2, 2)\n",
    "sns.histplot(train_abstract_lengths, color='blue', label='Train', kde=True, bins=50)\n",
    "sns.histplot(val_abstract_lengths, color='green', label='Validation', kde=True, bins=50)\n",
    "plt.title('Abstract Lengths: Train vs Validation')\n",
    "plt.xlabel('Number of Words')\n",
    "plt.ylabel('Frequency')\n",
    "plt.legend()\n",
    "\n",
    "plt.tight_layout()\n",
    "plt.show()\n"
   ]
  },
  {
   "cell_type": "code",
   "execution_count": 19,
   "metadata": {},
   "outputs": [
    {
     "data": {
      "image/png": "[encoded data removed]",
      "text/plain": [
       "<Figure size 1400x700 with 2 Axes>"
      ]
     },
     "metadata": {},
     "output_type": "display_data"
    }
   ],
   "source": [
    "plt.figure(figsize=(14, 7))\n",
    "\n",
    "# Plot article lengths for the training set\n",
    "plt.subplot(1, 2, 1)\n",
    "sns.histplot(train_article_lengths, bins=50, kde=True)\n",
    "plt.title('Distribution of Article Lengths in Training Set')\n",
    "plt.xlabel('Number of Words')\n",
    "plt.ylabel('Frequency')\n",
    "\n",
    "# Plot abstract lengths for the training set\n",
    "plt.subplot(1, 2, 2)\n",
    "sns.histplot(train_abstract_lengths, bins=50, kde=True)\n",
    "plt.title('Distribution of Abstract Lengths in Training Set')\n",
    "plt.xlabel('Number of Words')\n",
    "plt.ylabel('Frequency')\n",
    "\n",
    "plt.tight_layout()\n",
    "plt.show()\n"
   ]
  },
  {
   "cell_type": "code",
   "execution_count": 20,
   "metadata": {},
   "outputs": [
    {
     "name": "stderr",
     "output_type": "stream",
     "text": [
      "c:\\Users\\sanja\\anaconda3\\envs\\cuda\\lib\\site-packages\\huggingface_hub\\file_download.py:1150: FutureWarning: `resume_download` is deprecated and will be removed in version 1.0.0. Downloads always resume when possible. If you want to force a new download, use `force_download=True`.\n",
      "  warnings.warn(\n",
      "You are using the default legacy behaviour of the <class 'transformers.models.t5.tokenization_t5.T5Tokenizer'>. This is expected, and simply means that the `legacy` (previous) behavior will be used so nothing changes for you. If you want to use the new behaviour, set `legacy=False`. This should only be set if you understand what it means, and thoroughly read the reason why this was added as explained in https://github.com/huggingface/transformers/pull/24565\n",
      "Special tokens have been added in the vocabulary, make sure the associated word embeddings are fine-tuned or trained.\n"
     ]
    }
   ],
   "source": [
    "import json\n",
    "\n",
    "from transformers import T5Tokenizer, T5ForConditionalGeneration, T5Config\n",
    "\n",
    "display_architecture=True\n",
    "\n",
    "model = T5ForConditionalGeneration.from_pretrained('t5-small')\n",
    "tokenizer = T5Tokenizer.from_pretrained('t5-small')\n",
    "device = torch.device(\"cuda\" if torch.cuda.is_available() else \"cpu\")\n",
    "\n",
    "# Move the model to the device\n",
    "model = model.to(device)\n"
   ]
  },
  {
   "cell_type": "code",
   "execution_count": 21,
   "metadata": {},
   "outputs": [
    {
     "name": "stdout",
     "output_type": "stream",
     "text": [
      "Requirement already satisfied: absl-py in c:\\users\\sanja\\anaconda3\\envs\\cuda\\lib\\site-packages (2.1.0)\n",
      "Note: you may need to restart the kernel to use updated packages.\n"
     ]
    }
   ],
   "source": [
    "pip install absl-py"
   ]
  },
  {
   "cell_type": "code",
   "execution_count": 22,
   "metadata": {},
   "outputs": [
    {
     "name": "stdout",
     "output_type": "stream",
     "text": [
      "Requirement already satisfied: nltk in c:\\users\\sanja\\anaconda3\\envs\\cuda\\lib\\site-packages (3.9.1)\n",
      "Requirement already satisfied: click in c:\\users\\sanja\\anaconda3\\envs\\cuda\\lib\\site-packages (from nltk) (8.1.7)\n",
      "Requirement already satisfied: joblib in c:\\users\\sanja\\anaconda3\\envs\\cuda\\lib\\site-packages (from nltk) (1.4.2)\n",
      "Requirement already satisfied: regex>=2021.8.3 in c:\\users\\sanja\\anaconda3\\envs\\cuda\\lib\\site-packages (from nltk) (2024.7.24)\n",
      "Requirement already satisfied: tqdm in c:\\users\\sanja\\anaconda3\\envs\\cuda\\lib\\site-packages (from nltk) (4.66.5)\n",
      "Requirement already satisfied: colorama in c:\\users\\sanja\\anaconda3\\envs\\cuda\\lib\\site-packages (from click->nltk) (0.4.6)\n",
      "Note: you may need to restart the kernel to use updated packages.\n"
     ]
    }
   ],
   "source": [
    "pip install nltk\n"
   ]
  },
  {
   "cell_type": "code",
   "execution_count": 23,
   "metadata": {},
   "outputs": [
    {
     "name": "stdout",
     "output_type": "stream",
     "text": [
      "Requirement already satisfied: rouge-score in c:\\users\\sanja\\anaconda3\\envs\\cuda\\lib\\site-packages (0.1.2)\n",
      "Requirement already satisfied: absl-py in c:\\users\\sanja\\anaconda3\\envs\\cuda\\lib\\site-packages (from rouge-score) (2.1.0)\n",
      "Requirement already satisfied: nltk in c:\\users\\sanja\\anaconda3\\envs\\cuda\\lib\\site-packages (from rouge-score) (3.9.1)\n",
      "Requirement already satisfied: numpy in c:\\users\\sanja\\anaconda3\\envs\\cuda\\lib\\site-packages (from rouge-score) (1.24.4)\n",
      "Requirement already satisfied: six>=1.14.0 in c:\\users\\sanja\\anaconda3\\envs\\cuda\\lib\\site-packages (from rouge-score) (1.16.0)\n",
      "Requirement already satisfied: click in c:\\users\\sanja\\anaconda3\\envs\\cuda\\lib\\site-packages (from nltk->rouge-score) (8.1.7)\n",
      "Requirement already satisfied: joblib in c:\\users\\sanja\\anaconda3\\envs\\cuda\\lib\\site-packages (from nltk->rouge-score) (1.4.2)\n",
      "Requirement already satisfied: regex>=2021.8.3 in c:\\users\\sanja\\anaconda3\\envs\\cuda\\lib\\site-packages (from nltk->rouge-score) (2024.7.24)\n",
      "Requirement already satisfied: tqdm in c:\\users\\sanja\\anaconda3\\envs\\cuda\\lib\\site-packages (from nltk->rouge-score) (4.66.5)\n",
      "Requirement already satisfied: colorama in c:\\users\\sanja\\anaconda3\\envs\\cuda\\lib\\site-packages (from click->nltk->rouge-score) (0.4.6)\n",
      "Note: you may need to restart the kernel to use updated packages.\n"
     ]
    }
   ],
   "source": [
    "pip install rouge-score\n"
   ]
  },
  {
   "cell_type": "code",
   "execution_count": 24,
   "metadata": {},
   "outputs": [
    {
     "name": "stdout",
     "output_type": "stream",
     "text": [
      "Requirement already satisfied: tabulate in c:\\users\\sanja\\anaconda3\\envs\\cuda\\lib\\site-packages (0.9.0)\n",
      "Note: you may need to restart the kernel to use updated packages.\n"
     ]
    }
   ],
   "source": [
    "pip install tabulate\n"
   ]
  },
  {
   "cell_type": "code",
   "execution_count": 25,
   "metadata": {},
   "outputs": [
    {
     "name": "stderr",
     "output_type": "stream",
     "text": [
      "C:\\Users\\sanja\\AppData\\Local\\Temp\\ipykernel_17780\\2260095638.py:23: FutureWarning: load_metric is deprecated and will be removed in the next major version of datasets. Use 'evaluate.load' instead, from the new library 🤗 Evaluate: https://huggingface.co/docs/evaluate\n",
      "  rouge = load_metric(\"rouge\", trust_remote_code=True)\n"
     ]
    },
    {
     "name": "stdout",
     "output_type": "stream",
     "text": [
      "+----------+-------------+-----------+------------+\n",
      "| Metric   |   Precision |    Recall |   F1-score |\n",
      "+==========+=============+===========+============+\n",
      "| ROUGE-1  |    0.454776 | 0.143103  |  0.206228  |\n",
      "+----------+-------------+-----------+------------+\n",
      "| ROUGE-2  |    0.152374 | 0.0467351 |  0.0679219 |\n",
      "+----------+-------------+-----------+------------+\n",
      "| ROUGE-L  |    0.316835 | 0.0984887 |  0.142301  |\n",
      "+----------+-------------+-----------+------------+\n"
     ]
    }
   ],
   "source": [
    "import pandas as pd\n",
    "from datasets import load_dataset, load_metric\n",
    "\n",
    "\n",
    "from tabulate import tabulate\n",
    "test_articles  = dataset['test']['article']\n",
    "test_abstracts = dataset['test']['abstract']\n",
    "\n",
    "# Use only a subset of 1,000 samples (for quicker evaluation)\n",
    "subset_size = min(1000, len(test_articles))\n",
    "test_articles_subset = test_articles[:subset_size]\n",
    "test_abstracts_subset = test_abstracts[:subset_size]\n",
    "\n",
    "# Generate predictions\n",
    "predictions = []\n",
    "for article in test_articles_subset:\n",
    "    input_ids = tokenizer.encode(\"summarize: \" + article, return_tensors=\"pt\", max_length=512, truncation=True).to(device)\n",
    "    outputs = model.generate(input_ids, max_length=100, num_beams=2, early_stopping=True)\n",
    "    pred_summary = tokenizer.decode(outputs[0], skip_special_tokens=True)\n",
    "    predictions.append(pred_summary)\n",
    "\n",
    "# Evaluate using ROUGE metric with `trust_remote_code=True`\n",
    "rouge = load_metric(\"rouge\", trust_remote_code=True)\n",
    "results = rouge.compute(predictions=predictions, references=test_abstracts_subset)\n",
    "\n",
    "# Prepare data for the table\n",
    "table_data = [\n",
    "    [\"ROUGE-1\", results['rouge1'].mid.precision, results['rouge1'].mid.recall, results['rouge1'].mid.fmeasure],\n",
    "    [\"ROUGE-2\", results['rouge2'].mid.precision, results['rouge2'].mid.recall, results['rouge2'].mid.fmeasure],\n",
    "    [\"ROUGE-L\", results['rougeL'].mid.precision, results['rougeL'].mid.recall, results['rougeL'].mid.fmeasure]\n",
    "]\n",
    "\n",
    "# Define table headers\n",
    "headers = [\"Metric\", \"Precision\", \"Recall\", \"F1-score\"]\n",
    "\n",
    "# Display the table\n",
    "print(tabulate(table_data, headers=headers, tablefmt=\"grid\"))\n"
   ]
  },
  {
   "cell_type": "code",
   "execution_count": 26,
   "metadata": {},
   "outputs": [],
   "source": [
    "def preprocess_function(examples):\n",
    "    # inputs = [\"summarize: \" + (doc if doc else \"\") for doc in examples['article']] #skipping empty values\n",
    "    inputs = [\"summarize: \" + doc for doc in examples['article']]\n",
    "    model_inputs = tokenizer(inputs, max_length=512, truncation=True, padding=\"max_length\")\n",
    "\n",
    "    # Setup the tokenizer for targets\n",
    "    with tokenizer.as_target_tokenizer():\n",
    "        labels = tokenizer(examples['abstract'], max_length=128, truncation=True, padding=\"max_length\")\n",
    "\n",
    "    model_inputs[\"labels\"] = labels[\"input_ids\"]\n",
    "    return model_inputs"
   ]
  },
  {
   "cell_type": "code",
   "execution_count": 27,
   "metadata": {},
   "outputs": [
    {
     "name": "stdout",
     "output_type": "stream",
     "text": [
      "Loaded tokenized dataset from disk.\n"
     ]
    }
   ],
   "source": [
    "import os\n",
    "from datasets import load_from_disk, DatasetDict\n",
    "\n",
    "# Define the path where the tokenized dataset is saved\n",
    "tokenized_dataset_path = \"D://MASTERS//FinalThesis//textsumm-web//summ-frontend//app//python-scripts//tokenized_dataset\"\n",
    "\n",
    "# Check if the tokenized dataset is already present\n",
    "if os.path.exists(tokenized_dataset_path):\n",
    "    # Load the tokenized dataset from disk\n",
    "    tokenized_datasets = load_from_disk(tokenized_dataset_path)\n",
    "    print(\"Loaded tokenized dataset from disk.\")\n",
    "else:\n",
    "    # Tokenize the dataset\n",
    "    tokenized_datasets = filtered_dataset.map(preprocess_function, batched=True)\n",
    "    \n",
    "    # Save the tokenized dataset to disk\n",
    "    tokenized_datasets.save_to_disk(tokenized_dataset_path)\n",
    "    print(\"Tokenized dataset saved to disk.\")"
   ]
  },
  {
   "cell_type": "code",
   "execution_count": 28,
   "metadata": {},
   "outputs": [],
   "source": [
    "import torch \n",
    "\n",
    "torch.cuda.empty_cache()\n"
   ]
  },
  {
   "cell_type": "code",
   "execution_count": 29,
   "metadata": {},
   "outputs": [],
   "source": [
    "import os\n",
    "\n",
    "os.environ[\"PYTORCH_CUDA_ALLOC_CONF\"] = \"expandable_segments:True\"\n"
   ]
  },
  {
   "cell_type": "code",
   "execution_count": 30,
   "metadata": {},
   "outputs": [
    {
     "name": "stdout",
     "output_type": "stream",
     "text": [
      "{'article': \"venous thromboembolism ( vte ) comprising of deep vein thrombosis ( dvt ) and pulmonary embolism ( pe ) can result in significant mortality , morbidity , and healthcare expenditure . \\n approximately , one - third of patients with symptomatic vte manifests pe , whereas two - thirds manifest dvt alone . \\n both dvt and pe can be clinically silent ( asymptomatic ) and hence not suspected . \\n if undiagnosed , asymptomatic vte can lead to chronic venous disease or recurrent vte and long - term debilitating sequelae such as postthrombotic syndrome and chronic thromboembolic pulmonary hypertension . \\n vte is not only disabling but also prolongs hospital stay and increases the cost of treatment . \\n along with myocardial infarction and arrhythmia ( due to electrolyte imbalance ) , pe is one of the commonest causes of sudden unexplained deaths in hospitalized patients . \\n it is estimated that 20 million cases of lower extremity dvt occur in the usa alone . \\n the prevailing notion that the incidence of vte in asians is less than that in the western population has been disproved by recent studies . \\n the incidence of postoperative dvt in indian patients undergoing major lower limb surgery is as high ( 43.2% and 60% patients in the groups with and without prophylaxis , respectively ) as seen in the western world . \\n given the growing burden of vte in india and lack of substantial indian data on characteristics of vte patients , use of diagnostics tools , prophylaxis , treatment options , and clinical outcomes in vte , there was a need to systematically collect such data . \\n data on patient characteristics , clinical outcomes , predictors of mortality in acute dvt , management strategies and temporal trends in vte . \\n the intent was to collect and provide data that would reflect actual day - to - day clinical practice , rather than results of highly controlled clinical trials with restricted study populations and imposed experimental intervention . \\n consecutive medical records of inpatients and outpatients between january 2006 and december 2010 , meeting eligibility criteria ( confirmed diagnosis of acute or acute - on - chronic dvt by doppler ultrasound scan and/or pe by chest computed tomography scan , pulmonary angiography or v / q scan ) were identified and collected from the general medical records and/or radiology departments at each of the three participating hospitals . \\n hospital data were used to obtain the total number of patients who were annually registered at the hospital from 2006 to 2010 . \\n data were processed and analyzed using sas ( version 9.1 , statistical analysis system ) . for the purpose of analysis ,  acute - on - chronic \\n descriptive statistics were used to present patient characteristics , management strategies , and clinical outcomes of patients . \\n annual incidence rates ( 95% ci ) of vte per 100,000 hospital registrations over a period of 5 years were reported for each site . \\n fisher 's exact test was used to determine differences in the incidence of acute dvt ( pe ) over the years 20062010 . \\n armitage trend test was used to examine the direction ( positive or negative ) of the trend . as primary analyses \\n the remaining 41% ( 393/949 ) medical records were not included because they did not satisfy the inclusion criteria . \\n data from seven patients were excluded as there was no radiologically confirmed diagnosis of pe . \\n a total of 64% ( 352/549 ) patients had acute dvt without pe , 23% ( 124/549 ) had acute dvt with pe , and 13% ( 73/549 ) had pe . \\n eighty - seven percent ( 476/549 ) of patients had acute dvt ( pe ) , and 36% ( 197/549 ) had pe (  acute dvt ) [ figure 1 ] . \\n overall distribution of venous thromboembolism patients ( n = 549 ) a total of 21% ( 115/549 ) of patients visited the hospitals directly without being referred by a physician . \\n venous thromboembolism patients referred from different medical specialties ( n=434 ) the demographic characteristics of the vte patients are mentioned in table 2 . \\n demographic characteristics of venous thromboembolism patients ( n=549 ) a total of 182 patients had evidence of one risk factor , 126 had evidence of two risk factors , 70 had evidence of three risk factors and 31 had four or more risk factors recorded . \\n patients undergoing orthopedic surgery constituted 22% ( 33/152 ) of all surgical patients [ table 3 ] . \\n risk factors for venous thromboembolism based on a review of the available records , 157 patients had a single co - morbidity , 81 had two co - morbidities , 23 had three co - morbidities , and 16 had four or more co - morbidities . \\n ( myocardial infarction , heart failure , chronic obstructive pulmonary disease , ventilator dependency , sepsis , or pneumonia ) [ table 4 ] . \\n co - morbidities in venous thromboembolism patients of the 476 patients with dvt , 2% ( 9 ) had upper extremity dvt , 97% ( 462 ) had lower extremity dvt and the site of dvt was not known in 5 patients . \\n a total of 31% ( 143/462 ) patients had dvt in the right limb , 54% ( 249/462 ) in the left limb and 9% ( 41/462 ) in both limbs ( site not known in 29 patients ) . \\n of the 462 patients with lower extremity dvt , 61% had proximal dvt , 13% had distal dvt , and 7% had proximal and distal dvt . \\n a total of 39% ( 215/549 ) patients were diagnosed with vte during their hospital stay , 54% ( 296/549 ) were admitted to hospital with a diagnosis of vte , and 7% ( 38/549 ) were diagnosed and continued to be managed in the outpatient department [ figure 2 ] . \\n place of detection of venous thromboembolism ( n = 549 ) duration of hospitalization after diagnosis of venous thromboembolism a smaller proportion of patients ( 15% ; 81/549 ) was diagnosed with vte during the postoperative period . \\n figure 3 shows the proportion of patients with vte at different time points during the postoperative period . \\n of those diagnosed beyond 6 weeks , 21% ( 3/14 ) had orthopedic surgery ( hip fracture surgery ) . \\n diagnosis of venous thromboembolism during the postoperative period ( n = 81 ) the most common ( 73% ) symptom was  swelling of the limb  among patients with vte [ table 6 ] . \\n symptoms in venous thromboembolism patients in merely 4% of all the patients , dvt was also confirmed by venography . \\n pe was confirmed by pulmonary angiography in 27% of all the patients [ table 7 ] . \\n . heparin ( low molecular weight heparin [ lmwh]/unfractionated heparin [ ufh ] ) alone , a combination of heparin ( lmwh / ufh ) and oral anticoagulant ( warfarin ) , and fondaparinux sodium alone were recommended to 82% ( 420/515 ) , 13% ( 66/515 ) , and 2% ( 12/515 ) patients , respectively as initial anticoagulation . \\n five percent ( 25/515 ) of patients were recommended lmwh alone , and 76% ( 393/515 ) were recommended either warfarin or acenocoumarol alone for long - term anticoagulation . \\n the median duration of initial anticoagulation was 5 days while that of long - term anticoagulation was 180 days ( 6 months ) . \\n anticoagulants were needed to be stopped because of bleeding in only 2% ( 9/515 ) patients . \\n clinical outcomes in patients diagnosed with venous thromboembolism during hospital stay clinical outcomes in patients admitted to hospital with a diagnosis of venous thromboembolism the annual incidence of acute dvt ( pe ) increased from 2006 to 2010 at all the three sites [ figure 4 ] . \\n however , a formal site - wise statistical analysis could not be performed to analyse trends in the incidence rates in acute dvt ( pe ) and pe alone as there were zero observations in some instances . \\n incidence of acute deep vein thrombosis ( with or without pulmonary embolism ) over a 5 years period ( 20062010 ) at three sites \\n demographic characteristics of venous thromboembolism patients ( n=549 ) a total of 182 patients had evidence of one risk factor , 126 had evidence of two risk factors , 70 had evidence of three risk factors and 31 had four or more risk factors recorded . \\n patients undergoing orthopedic surgery constituted 22% ( 33/152 ) of all surgical patients [ table 3 ] . \\n risk factors for venous thromboembolism based on a review of the available records , 157 patients had a single co - morbidity , 81 had two co - morbidities , 23 had three co - morbidities , and 16 had four or more co - morbidities . \\n ( myocardial infarction , heart failure , chronic obstructive pulmonary disease , ventilator dependency , sepsis , or pneumonia ) [ table 4 ] . \\n 2% ( 9 ) had upper extremity dvt , 97% ( 462 ) had lower extremity dvt and the site of dvt was not known in 5 patients . \\n a total of 31% ( 143/462 ) patients had dvt in the right limb , 54% ( 249/462 ) in the left limb and 9% ( 41/462 ) in both limbs ( site not known in 29 patients ) . of the 462 patients with lower extremity dvt \\n , 61% had proximal dvt , 13% had distal dvt , and 7% had proximal and distal dvt . \\n a total of 39% ( 215/549 ) patients were diagnosed with vte during their hospital stay , 54% ( 296/549 ) were admitted to hospital with a diagnosis of vte , and 7% ( 38/549 ) were diagnosed and continued to be managed in the outpatient department [ figure 2 ] . \\n place of detection of venous thromboembolism ( n = 549 ) duration of hospitalization after diagnosis of venous thromboembolism a smaller proportion of patients ( 15% ; 81/549 ) was diagnosed with vte during the postoperative period . \\n figure 3 shows the proportion of patients with vte at different time points during the postoperative period . of those diagnosed beyond 6 weeks \\n diagnosis of venous thromboembolism during the postoperative period ( n = 81 ) the most common ( 73% ) symptom was  swelling of the limb  among patients with vte [ table 6 ] . \\n a total of 182 patients had evidence of one risk factor , 126 had evidence of two risk factors , 70 had evidence of three risk factors and 31 had four or more risk factors recorded . \\n patients undergoing orthopedic surgery constituted 22% ( 33/152 ) of all surgical patients [ table 3 ] . \\n based on a review of the available records , 157 patients had a single co - morbidity , 81 had two co - morbidities , 23 had three co - morbidities , and 16 had four or more co - morbidities . \\n ( myocardial infarction , heart failure , chronic obstructive pulmonary disease , ventilator dependency , sepsis , or pneumonia ) [ table 4 ] . \\n of the 476 patients with dvt , 2% ( 9 ) had upper extremity dvt , 97% ( 462 ) had lower extremity dvt and the site of dvt was not known in 5 patients . \\n a total of 31% ( 143/462 ) patients had dvt in the right limb , 54% ( 249/462 ) in the left limb and 9% ( 41/462 ) in both limbs ( site not known in 29 patients ) . \\n of the 462 patients with lower extremity dvt , 61% had proximal dvt , 13% had distal dvt , and 7% had proximal and distal dvt . \\n a total of 39% ( 215/549 ) patients were diagnosed with vte during their hospital stay , 54% ( 296/549 ) were admitted to hospital with a diagnosis of vte , and 7% ( 38/549 ) were diagnosed and continued to be managed in the outpatient department [ figure 2 ] . \\n place of detection of venous thromboembolism ( n = 549 ) duration of hospitalization after diagnosis of venous thromboembolism a smaller proportion of patients ( 15% ; 81/549 ) was diagnosed with vte during the postoperative period . \\n figure 3 shows the proportion of patients with vte at different time points during the postoperative period . of those diagnosed beyond 6 weeks \\n diagnosis of venous thromboembolism during the postoperative period ( n = 81 ) the most common ( 73% ) symptom was  swelling of the limb  among patients with vte [ table 6 ] \\n pe was confirmed by pulmonary angiography in 27% of all the patients [ table 7 ] . \\n heparin ( low molecular weight heparin [ lmwh]/unfractionated heparin [ ufh ] ) alone , a combination of heparin ( lmwh / ufh ) and oral anticoagulant ( warfarin ) , and fondaparinux sodium alone were recommended to 82% ( 420/515 ) , 13% ( 66/515 ) , and 2% ( 12/515 ) patients , respectively as initial anticoagulation . \\n five percent ( 25/515 ) of patients were recommended lmwh alone , and 76% ( 393/515 ) were recommended either warfarin or acenocoumarol alone for long - term anticoagulation . \\n the median duration of initial anticoagulation was 5 days while that of long - term anticoagulation was 180 days ( 6 months ) . \\n anticoagulants were needed to be stopped because of bleeding in only 2% ( 9/515 ) patients . \\n clinical outcomes in patients diagnosed with venous thromboembolism during hospital stay clinical outcomes in patients admitted to hospital with a diagnosis of venous thromboembolism the annual incidence of acute dvt ( pe ) increased from 2006 to 2010 at all the three sites [ figure 4 ] . \\n however , a formal site - wise statistical analysis could not be performed to analyse trends in the incidence rates in acute dvt ( pe ) and pe alone as there were zero observations in some instances . \\n incidence of acute deep vein thrombosis ( with or without pulmonary embolism ) over a 5 years period ( 20062010 ) at three sites \\n pe was confirmed by pulmonary angiography in 27% of all the patients [ table 7 ] . \\n heparin ( low molecular weight heparin [ lmwh]/unfractionated heparin [ ufh ] ) alone , a combination of heparin ( lmwh / ufh ) and oral anticoagulant ( warfarin ) , and fondaparinux sodium alone were recommended to 82% ( 420/515 ) , 13% ( 66/515 ) , and 2% ( 12/515 ) patients , respectively as initial anticoagulation . \\n five percent ( 25/515 ) of patients were recommended lmwh alone , and 76% ( 393/515 ) were recommended either warfarin or acenocoumarol alone for long - term anticoagulation . \\n the median duration of initial anticoagulation was 5 days while that of long - term anticoagulation was 180 days ( 6 months ) . \\n anticoagulants were needed to be stopped because of bleeding in only 2% ( 9/515 ) patients . \\n clinical outcomes in patients diagnosed with venous thromboembolism during hospital stay clinical outcomes in patients admitted to hospital with a diagnosis of venous thromboembolism \\n the annual incidence of acute dvt ( pe ) increased from 2006 to 2010 at all the three sites [ figure 4 ] . \\n however , a formal site - wise statistical analysis could not be performed to analyse trends in the incidence rates in acute dvt ( pe ) and pe alone as there were zero observations in some instances . \\n incidence of acute deep vein thrombosis ( with or without pulmonary embolism ) over a 5 years period ( 20062010 ) at three sites \\n to our knowledge , this is the first multicenter , retrospective registry in india involving patients with vte that reflect real - world clinical practice . in contrast with the western data in which vte is predominantly a disease of older age , 44% patients in our study were between 40 and 59 years of age while 34% were below 40 years , particularly those with pe . in a study from north india , \\n men constituted 70% of our registry , more than those reported from vellore registry ( 48% ) , but similar to those reported in the endorse ( epidemiologic international day for the evaluation of patients at risk for vte in the acute hospital care setting ) study ( 69% ) . \\n one of the reasons for this could be significantly high levels of homocysteine ( thrombophilia marker ) in males as compared to females as reported in an indian study . \\n fewer indian women use oral contraceptives and postmenopausal hormone replacement therapy , which are known to be risk factors for thrombosis . \\n this is supported by the fact that only 1% of women in this registry reported the use of oral contraceptives , and none reported use of hormonal replacement therapy . \\n a total of 28% of the overall referrals were from cardiologists . the majority ( 82% ) of the referrals were from medical rather than surgical ( 15% ) specialties as against a referral rate of 93% from surgeons at vellore . \\n our finding complements that from the endorse study in which 55% of the medical patients at risk of vte had cardiovascular disease . majority ( 53% ) of patients in our study had co - morbid cardiovascular disease including diabetes mellitus ; it is possible that these patients visited a cardiologist for their cardiovascular ailment ( s ) and were then referred by the cardiologist to vascular disease specialist ( investigator ) . \\n most ( 89% ) of these patients had swelling of the ( lower ) limb . \\n it is possible that these patients may not have felt the need to visit a specialist for a symptom like  swelling of limb ,  instead visited their family physician . \\n it is very encouraging to know that family physicians suspected dvt in these situations and referred the patient to a specialist . \\n patients with a history of vte are about 8 times more likely to develop a new episode during a subsequent high - risk period compared with patients without a history of dvt or pe . \\n prior history of dvt was the most ( 34% ) common risk factor in patients who had only dvt , whereas past history of pe , trauma , and immobilization for more than 3 days were the most common risk factors in patients who had only pe . \\n our results ( major lower limb surgery as a risk factor in 3% patients ) appear to be consistent with those reported in the endorse study , which reported dvt in 4.4% patients undergoing major lower limb surgery . \\n other studies from india have reported a dvt incidence rate ranging from 8% to 20% in major lower limb surgery . \\n however , in our study , only 7% of patients had malignancy as a predisposing factor . among the malignancies , genitourinary cancer had the highest incidence ( 45% ) . \\n hypertension ( 25% ) was the most common co - morbidity followed by diabetes mellitus ( 19% ) in this patient population . \\n in addition , obesity ( 11% ) was a common risk factor in dvt complicated by pe . \\n our findings support an asian ( korean ) study that demonstrated prevalence of the metabolic syndrome in 48% patients with vte . \\n co - morbid neurological disease ( other than stroke ) and ventilator dependency were also commonly found in patients with dvt ( 10% ) and pe ( 11% ) respectively . \\n both these conditions immobilize patients for prolonged periods of time , predisposing them to vte . \\n venography and pulmonary angiography are the gold standard for diagnosis of dvt and pe respectively . in our study \\n , venography was used in just 4% patients and pulmonary angiography in less than one - third of the patients . \\n perhaps the relatively high cost of these tests and limited availability of such procedures may be the limiting factors . \\n overall , most ( 93% ) patients were managed as inpatients ( 39% diagnosed with vte during hospital stay and 54% admitted to hospital with a diagnosis of vte ) . \\n a mean duration of hospitalization of 79 days after diagnosis of vte is supported by published data . in selected low - risk patients , outpatient treatment of dvt and pe may be considered . \\n this approach was observed in a small proportion ( 7% ) of patients who were managed on an outpatient basis , nearly all ( 97% ) of whom had only dvt . \\n the reported prevalence of postsurgical vte in our study ( 15% ) was half of that ( 30% ) reported in vellore registry . \\n this could be explained by higher referral rate from surgeons at vellore compared to that of our sites . \\n most ( 40% ; 32/81 ) dvt cases were diagnosed between 2 and 6 postoperative weeks , but pe in most cases ( 70% ; 7/10 ) was diagnosed during the first postoperative week . \\n we notice that acute dvt complicated by pe was less ( 6% ; 7/124 ) frequently diagnosed during the postoperative period as against 18% ( 64/352 ) and 14% ( 10/73 ) of acute dvt alone and pe alone , respectively . \\n the use and duration of anticoagulants in our registry appears to be consistent with the american college of chest physicians treatment guidelines , which recommend at least 5 days of initial anticoagulation with parenteral anticoagulation ( lmwh , fondaparinux , intravenous ufh , or subcutaneous ufh ) and at least 3 months of long - term anticoagulation treatment with vitamin k antagonist . \\n bleeding is the most serious complication of anticoagulation treatment and is a major concern for clinicians particularly as the patient 's age advances . in this registry , \\n anticoagulant treatment was needed to be stopped because of bleeding in only 2% of the study population . \\n the prospective reite registry has reported a rate of 3% for major / fatal bleeds . \\n thus , the fear of bleeding complications , which decreases the use of anticoagulant treatment , appears to be minimal . \\n dvt complicated by pe ( 60% ) and pe alone ( 75% ) were more frequently shifted to intensive care unit than those who had dvt alone ( 25% ) . similar to published data in which hospital readmission rate for vte was 5% for primary and 14% for secondary diagnosis , we report a hospital readmission rate of 6% ; however we do not know the cause for readmission . \\n the death rate was 7% among those diagnosed with vte during hospital stay as against a rate of 1% among those who were hospitalized with a diagnosis of vte . \\n over 90% of patients treated on an outpatient basis obtained symptomatic relief with treatment . in our study , the hospital discharge rate ( 97% ) was more than triple and death rate was a quarter of that reported by pandey et al . \\n ( hospital discharge rate 31% and death rate 16% ) at a university hospital in delhi . \\n our data show a significant increase in acute dvt ( pe ) from 2006 to 2010 . \\n this can be explained by the increased awareness of vte in india as well as the advent of better diagnostic modalities , such as duplex ultrasonography becoming more readily available and accepted . \\n although there was no significant change in the number of pe cases from 2006 to 2010 , the burden of pe is almost double ( 13% of all vte ) of 7% , rate reported at christian medical college , vellore during a 10-year period from 1996 to 2005 . \\n our finding is consistent with a study from north india that reported a 16% incidence of pe in adult medical autopsies . \\n this study has the expected limitations of any retrospective review including the availability of complete records for all patients , although a robust review of the data on medical charts was conducted . \\n controlling for bias and confounders is difficult as there is no randomization and no blinding . \\n follow - up data of patients after hospital discharge were not available . in cases of death , \\n further , the clinic charts reviewed in this study included a mix of those from vascular surgery and hematology departments , limiting the generalizability of the study results . despite these limitations , \\n this study provides large amount of useful information in a short span of time on patient characteristics , clinical outcomes , management strategies , and temporal trends in vte , based on  real world \\n data that reflect actual day - to - day clinical practice over a period of 5 years across three sites in india . \\n we believe that this information will serve as a guide in the optimal implementation of vte prophylaxis and treatment , to improve patient outcomes and to decrease the occurrence of vte in india . \\n real world data reflecting actual day - to - day clinical practice in vte over a period of 5 years across three sites in india showed that vte is not uncommon in indian patients and that acute dvt was responsible for the substantial burden of vte . \\n we believe that this information will serve as a guide in the optimal implementation of vte prophylaxis and treatment , to improve patient outcomes and to decrease the occurrence of vte in india . \\n liesel c. dsilva is and dr . sadhna j. joglekar was full - time employee of glaxosmithkline pharmaceuticals limited . \\n  \\n  \\n \", 'abstract': 'background and aim : there is lack of substantial indian data on venous thromboembolism ( vte ) . \\n the aim of this study was to provide real - world information on patient characteristics , management strategies , clinical outcomes , and temporal trends in vte.subjects and methods : multicentre retrospective registry involving 549 medical records of patients with confirmed diagnosis of vte ( deep vein thrombosis [ dvt ] confirmed by doppler ultrasonography ; pulmonary embolism [ pe ] by computed tomography , pulmonary angiography and/or v / q scan ) from 2006 to 2010 at three indian tertiary care hospitals.results:acute dvt without pe , acute dvt with pe , and pe alone were reported in 64% ( 352/549 ) , 23% ( 124/549 ) , and 13% ( 73/549 ) patients , respectively . \\n mean age was 47 ( 16 ) years , and 70% were males . \\n h / o dvt ( 34% ) , surgery including orthopedic surgery ( 28% ) , trauma ( 16% ) , and immobilization > 3 days ( 14% ) were the most common risk factors for vte . \\n hypertension ( 25% ) , diabetes ( 19% ) , and neurological disease ( other than stroke ) ( 8% ) were the most common co - morbidities . \\n most ( 94% ) were treated with heparin alone ( 82% ) or fondaparinux ( 2% ) for initial anticoagulation ; low molecular weight heparin alone ( 5% ) or warfarin / acenocoumarol ( 76% ) for long - term anticoagulation . \\n anticoagulant treatment was stopped because of bleeding in 2% ( 9/515 ) patients . \\n mortality was 7% among patients diagnosed with vte during hospital stay versus 1% in those hospitalized with diagnosed vte . \\n the annual incidence of dvt ( pe ) increased from 2006 to 2010.conclusion:acute dvt alone was responsible for the substantial burden of vte in indian patients . \\n bleeding was not the limiting factor for anticoagulant treatment in most patients .', 'input_ids': [21603, 10, 3, 162, 10529, 3, 8514, 6310, 15, 6310, 26939, 41, 3, 208, 17, 15, 3, 61, 8315, 53, 13, 1659, 13290, 3, 8514, 6310, 7, 159, 41, 3, 26, 208, 17, 3, 61, 11, 3, 26836, 10960, 32, 26939, 41, 158, 3, 61, 54, 741, 16, 1516, 20544, 3, 6, 8030, 9824, 485, 3, 6, 11, 4640, 15700, 3, 5, 3241, 3, 6, 80, 3, 18, 1025, 13, 1221, 28, 3, 18018, 6049, 3, 208, 17, 15, 6571, 7, 158, 3, 6, 3, 10339, 192, 3, 18, 1025, 7, 6571, 3, 26, 208, 17, 2238, 3, 5, 321, 3, 26, 208, 17, 11, 158, 54, 36, 3739, 120, 11237, 41, 3, 9, 18018, 6049, 3, 61, 11, 10321, 59, 18024, 3, 5, 3, 99, 73, 25930, 18716, 26, 3, 6, 3, 9, 18018, 6049, 3, 208, 17, 15, 54, 991, 12, 6658, 3, 162, 10529, 1994, 42, 3, 60, 14907, 3, 208, 17, 15, 11, 307, 3, 18, 1657, 20, 3727, 155, 1014, 19826, 9, 15, 224, 38, 442, 8514, 6310, 1225, 12398, 11, 6658, 3, 8514, 6310, 15, 6310, 2176, 3, 26836, 6676, 13177, 3, 5, 3, 208, 17, 15, 19, 59, 163, 1028, 9, 7428, 68, 92, 19556, 7, 2833, 1049, 11, 5386, 8, 583, 13, 1058, 3, 5, 590, 28, 82, 32, 16464, 138, 16, 5544, 4985, 11, 1584, 30793, 23, 9, 41, 788, 12, 9281, 120, 17, 15, 24809, 3, 61, 3, 6, 158, 19, 80, 13, 8, 1017, 222, 4110, 13, 12914, 245, 226, 18689, 15, 26, 14319, 16, 2833, 1601, 1221, 3, 5, 34, 19, 5861, 24, 460, 770, 1488, 13, 1364, 5273, 485, 3, 26, 208, 17, 4093, 16, 8, 178, 9, 2238, 3, 5, 8, 3, 29370, 9347, 24, 8, 20588, 13, 3, 208, 17, 15, 16, 38, 7137, 19, 705, 145, 24, 16, 8, 8282, 2074, 65, 118, 1028, 1409, 162, 26, 57, 1100, 2116, 3, 5, 8, 20588, 13, 442, 11480, 3, 26, 208, 17, 16, 16, 8603, 1221, 3, 22725, 779, 1364, 3, 9577, 3730, 19, 38, 306, 41, 8838, 5, 5406, 11, 15436, 1221, 16, 8, 1637, 28, 11, 406, 813, 6941, 40, 8606, 7, 3, 6, 6898, 3, 61, 38, 894, 16, 8, 8282, 296, 3, 5, 787, 8, 1710, 9054, 13, 3, 208, 17, 15, 16, 18222, 11, 2136, 13, 7354, 16, 8603, 331, 30, 6803, 13, 3, 208, 17, 15, 1221, 3, 6, 169, 13, 7028, 7, 1339, 3, 6, 813, 6941, 40, 8606, 7, 3, 6, 1058, 931, 3, 6, 11, 3739, 6353, 16, 3, 208, 17, 15, 3, 6, 132, 47, 3, 9, 174, 12, 3, 28657, 2868, 224, 331, 3, 5, 331, 30, 1868, 6803, 3, 6, 3739, 6353, 3, 6, 9689, 127, 7, 13, 20544, 16, 12498, 3, 26, 208, 17, 3, 6, 758, 3266, 11, 10301, 8563, 5001, 16, 3, 208, 17, 15, 3, 5, 8, 9508, 47, 12, 2868, 11, 370, 331, 24, 133, 3548, 1805, 239, 3, 18, 12, 3, 18, 239, 3739, 1032, 3, 6, 1066, 145, 772, 13, 1385, 6478, 3739, 10570, 28, 12103, 810, 1], 'attention_mask': [1, 1, 1, 1, 1, 1, 1, 1, 1, 1, 1, 1, 1, 1, 1, 1, 1, 1, 1, 1, 1, 1, 1, 1, 1, 1, 1, 1, 1, 1, 1, 1, 1, 1, 1, 1, 1, 1, 1, 1, 1, 1, 1, 1, 1, 1, 1, 1, 1, 1, 1, 1, 1, 1, 1, 1, 1, 1, 1, 1, 1, 1, 1, 1, 1, 1, 1, 1, 1, 1, 1, 1, 1, 1, 1, 1, 1, 1, 1, 1, 1, 1, 1, 1, 1, 1, 1, 1, 1, 1, 1, 1, 1, 1, 1, 1, 1, 1, 1, 1, 1, 1, 1, 1, 1, 1, 1, 1, 1, 1, 1, 1, 1, 1, 1, 1, 1, 1, 1, 1, 1, 1, 1, 1, 1, 1, 1, 1, 1, 1, 1, 1, 1, 1, 1, 1, 1, 1, 1, 1, 1, 1, 1, 1, 1, 1, 1, 1, 1, 1, 1, 1, 1, 1, 1, 1, 1, 1, 1, 1, 1, 1, 1, 1, 1, 1, 1, 1, 1, 1, 1, 1, 1, 1, 1, 1, 1, 1, 1, 1, 1, 1, 1, 1, 1, 1, 1, 1, 1, 1, 1, 1, 1, 1, 1, 1, 1, 1, 1, 1, 1, 1, 1, 1, 1, 1, 1, 1, 1, 1, 1, 1, 1, 1, 1, 1, 1, 1, 1, 1, 1, 1, 1, 1, 1, 1, 1, 1, 1, 1, 1, 1, 1, 1, 1, 1, 1, 1, 1, 1, 1, 1, 1, 1, 1, 1, 1, 1, 1, 1, 1, 1, 1, 1, 1, 1, 1, 1, 1, 1, 1, 1, 1, 1, 1, 1, 1, 1, 1, 1, 1, 1, 1, 1, 1, 1, 1, 1, 1, 1, 1, 1, 1, 1, 1, 1, 1, 1, 1, 1, 1, 1, 1, 1, 1, 1, 1, 1, 1, 1, 1, 1, 1, 1, 1, 1, 1, 1, 1, 1, 1, 1, 1, 1, 1, 1, 1, 1, 1, 1, 1, 1, 1, 1, 1, 1, 1, 1, 1, 1, 1, 1, 1, 1, 1, 1, 1, 1, 1, 1, 1, 1, 1, 1, 1, 1, 1, 1, 1, 1, 1, 1, 1, 1, 1, 1, 1, 1, 1, 1, 1, 1, 1, 1, 1, 1, 1, 1, 1, 1, 1, 1, 1, 1, 1, 1, 1, 1, 1, 1, 1, 1, 1, 1, 1, 1, 1, 1, 1, 1, 1, 1, 1, 1, 1, 1, 1, 1, 1, 1, 1, 1, 1, 1, 1, 1, 1, 1, 1, 1, 1, 1, 1, 1, 1, 1, 1, 1, 1, 1, 1, 1, 1, 1, 1, 1, 1, 1, 1, 1, 1, 1, 1, 1, 1, 1, 1, 1, 1, 1, 1, 1, 1, 1, 1, 1, 1, 1, 1, 1, 1, 1, 1, 1, 1, 1, 1, 1, 1, 1, 1, 1, 1, 1, 1, 1, 1, 1, 1, 1, 1, 1, 1, 1, 1, 1, 1, 1, 1, 1, 1, 1, 1, 1, 1, 1, 1, 1, 1, 1, 1, 1, 1, 1, 1, 1, 1, 1, 1, 1, 1, 1, 1, 1, 1, 1, 1, 1, 1, 1, 1, 1], 'labels': [2458, 11, 2674, 3, 10, 132, 19, 2136, 13, 7354, 16, 8603, 331, 30, 3, 162, 10529, 3, 8514, 6310, 15, 6310, 26939, 41, 3, 208, 17, 15, 3, 61, 3, 5, 8, 2674, 13, 48, 810, 47, 12, 370, 490, 3, 18, 296, 251, 30, 1868, 6803, 3, 6, 758, 3266, 3, 6, 3739, 6353, 3, 6, 11, 10301, 8563, 5001, 16, 3, 208, 17, 15, 5, 7304, 11827, 7, 11, 2254, 3, 10, 1249, 3728, 60, 29825, 20810, 3, 6475, 305, 3647, 1035, 3187, 13, 1221, 28, 5899, 8209, 13, 3, 208, 17, 15, 41, 1659, 13290, 3, 8514, 6310, 7, 159, 784, 3, 26, 208, 17, 3, 908, 5899, 57, 103, 1572, 1171, 6173, 739, 5984, 3, 117, 3, 26836, 10960, 32, 26939, 784, 158, 3, 908, 57, 29216, 26, 12, 51, 5984, 3, 6, 3, 26836, 3, 1468, 23, 5984, 11, 87, 127, 3, 208, 1]}\n"
     ]
    }
   ],
   "source": [
    "print(tokenized_datasets[\"validation\"][0])"
   ]
  },
  {
   "cell_type": "code",
   "execution_count": 31,
   "metadata": {},
   "outputs": [
    {
     "name": "stderr",
     "output_type": "stream",
     "text": [
      "  0%|          | 10/3125 [00:05<26:27,  1.96it/s]"
     ]
    },
    {
     "name": "stdout",
     "output_type": "stream",
     "text": [
      "{'loss': 4.7726, 'grad_norm': 7.275379180908203, 'learning_rate': 4.9840000000000004e-05, 'epoch': 0.02}\n"
     ]
    },
    {
     "name": "stderr",
     "output_type": "stream",
     "text": [
      "  1%|          | 20/3125 [00:10<26:12,  1.97it/s]"
     ]
    },
    {
     "name": "stdout",
     "output_type": "stream",
     "text": [
      "{'loss': 3.959, 'grad_norm': 5.361027717590332, 'learning_rate': 4.9680000000000005e-05, 'epoch': 0.03}\n"
     ]
    },
    {
     "name": "stderr",
     "output_type": "stream",
     "text": [
      "  1%|          | 30/3125 [00:15<26:12,  1.97it/s]"
     ]
    },
    {
     "name": "stdout",
     "output_type": "stream",
     "text": [
      "{'loss': 3.3942, 'grad_norm': 3.5921363830566406, 'learning_rate': 4.952e-05, 'epoch': 0.05}\n"
     ]
    },
    {
     "name": "stderr",
     "output_type": "stream",
     "text": [
      "  1%|▏         | 40/3125 [00:20<26:07,  1.97it/s]"
     ]
    },
    {
     "name": "stdout",
     "output_type": "stream",
     "text": [
      "{'loss': 3.4437, 'grad_norm': 1.4220582246780396, 'learning_rate': 4.936e-05, 'epoch': 0.06}\n"
     ]
    },
    {
     "name": "stderr",
     "output_type": "stream",
     "text": [
      "  2%|▏         | 50/3125 [00:25<26:05,  1.96it/s]"
     ]
    },
    {
     "name": "stdout",
     "output_type": "stream",
     "text": [
      "{'loss': 3.2894, 'grad_norm': 1.4216556549072266, 'learning_rate': 4.92e-05, 'epoch': 0.08}\n"
     ]
    },
    {
     "name": "stderr",
     "output_type": "stream",
     "text": [
      "  2%|▏         | 60/3125 [00:30<26:04,  1.96it/s]"
     ]
    },
    {
     "name": "stdout",
     "output_type": "stream",
     "text": [
      "{'loss': 3.1889, 'grad_norm': 3.057859182357788, 'learning_rate': 4.9040000000000005e-05, 'epoch': 0.1}\n"
     ]
    },
    {
     "name": "stderr",
     "output_type": "stream",
     "text": [
      "  2%|▏         | 70/3125 [00:36<26:04,  1.95it/s]"
     ]
    },
    {
     "name": "stdout",
     "output_type": "stream",
     "text": [
      "{'loss': 3.1588, 'grad_norm': 2.205378293991089, 'learning_rate': 4.8880000000000006e-05, 'epoch': 0.11}\n"
     ]
    },
    {
     "name": "stderr",
     "output_type": "stream",
     "text": [
      "  3%|▎         | 80/3125 [00:41<25:58,  1.95it/s]"
     ]
    },
    {
     "name": "stdout",
     "output_type": "stream",
     "text": [
      "{'loss': 3.1336, 'grad_norm': 1.5813758373260498, 'learning_rate': 4.872000000000001e-05, 'epoch': 0.13}\n"
     ]
    },
    {
     "name": "stderr",
     "output_type": "stream",
     "text": [
      "  3%|▎         | 90/3125 [00:46<26:30,  1.91it/s]"
     ]
    },
    {
     "name": "stdout",
     "output_type": "stream",
     "text": [
      "{'loss': 3.1741, 'grad_norm': 1.1323354244232178, 'learning_rate': 4.856e-05, 'epoch': 0.14}\n"
     ]
    },
    {
     "name": "stderr",
     "output_type": "stream",
     "text": [
      "  3%|▎         | 100/3125 [00:51<25:56,  1.94it/s]"
     ]
    },
    {
     "name": "stdout",
     "output_type": "stream",
     "text": [
      "{'loss': 2.8864, 'grad_norm': 1.8034409284591675, 'learning_rate': 4.8400000000000004e-05, 'epoch': 0.16}\n"
     ]
    },
    {
     "name": "stderr",
     "output_type": "stream",
     "text": [
      "  4%|▎         | 110/3125 [00:56<25:51,  1.94it/s]"
     ]
    },
    {
     "name": "stdout",
     "output_type": "stream",
     "text": [
      "{'loss': 2.952, 'grad_norm': 1.4766623973846436, 'learning_rate': 4.824e-05, 'epoch': 0.18}\n"
     ]
    },
    {
     "name": "stderr",
     "output_type": "stream",
     "text": [
      "  4%|▍         | 120/3125 [01:02<25:52,  1.94it/s]"
     ]
    },
    {
     "name": "stdout",
     "output_type": "stream",
     "text": [
      "{'loss': 2.9099, 'grad_norm': 1.6180967092514038, 'learning_rate': 4.808e-05, 'epoch': 0.19}\n"
     ]
    },
    {
     "name": "stderr",
     "output_type": "stream",
     "text": [
      "  4%|▍         | 130/3125 [01:07<25:46,  1.94it/s]"
     ]
    },
    {
     "name": "stdout",
     "output_type": "stream",
     "text": [
      "{'loss': 3.0339, 'grad_norm': 1.1955804824829102, 'learning_rate': 4.792e-05, 'epoch': 0.21}\n"
     ]
    },
    {
     "name": "stderr",
     "output_type": "stream",
     "text": [
      "  4%|▍         | 140/3125 [01:12<25:43,  1.93it/s]"
     ]
    },
    {
     "name": "stdout",
     "output_type": "stream",
     "text": [
      "{'loss': 3.0514, 'grad_norm': 1.4370862245559692, 'learning_rate': 4.7760000000000004e-05, 'epoch': 0.22}\n"
     ]
    },
    {
     "name": "stderr",
     "output_type": "stream",
     "text": [
      "  5%|▍         | 150/3125 [01:17<25:41,  1.93it/s]"
     ]
    },
    {
     "name": "stdout",
     "output_type": "stream",
     "text": [
      "{'loss': 3.0099, 'grad_norm': 1.2040241956710815, 'learning_rate': 4.76e-05, 'epoch': 0.24}\n"
     ]
    },
    {
     "name": "stderr",
     "output_type": "stream",
     "text": [
      "  5%|▌         | 160/3125 [01:22<25:32,  1.93it/s]"
     ]
    },
    {
     "name": "stdout",
     "output_type": "stream",
     "text": [
      "{'loss': 3.0029, 'grad_norm': 3.36954402923584, 'learning_rate': 4.744e-05, 'epoch': 0.26}\n"
     ]
    },
    {
     "name": "stderr",
     "output_type": "stream",
     "text": [
      "  5%|▌         | 170/3125 [01:28<25:42,  1.92it/s]"
     ]
    },
    {
     "name": "stdout",
     "output_type": "stream",
     "text": [
      "{'loss': 2.9387, 'grad_norm': 2.398134469985962, 'learning_rate': 4.728e-05, 'epoch': 0.27}\n"
     ]
    },
    {
     "name": "stderr",
     "output_type": "stream",
     "text": [
      "  6%|▌         | 180/3125 [01:33<25:54,  1.89it/s]"
     ]
    },
    {
     "name": "stdout",
     "output_type": "stream",
     "text": [
      "{'loss': 3.0782, 'grad_norm': 1.2426323890686035, 'learning_rate': 4.712e-05, 'epoch': 0.29}\n"
     ]
    },
    {
     "name": "stderr",
     "output_type": "stream",
     "text": [
      "  6%|▌         | 190/3125 [01:38<25:48,  1.89it/s]"
     ]
    },
    {
     "name": "stdout",
     "output_type": "stream",
     "text": [
      "{'loss': 2.9584, 'grad_norm': 1.4906309843063354, 'learning_rate': 4.6960000000000004e-05, 'epoch': 0.3}\n"
     ]
    },
    {
     "name": "stderr",
     "output_type": "stream",
     "text": [
      "  6%|▋         | 200/3125 [01:43<25:42,  1.90it/s]"
     ]
    },
    {
     "name": "stdout",
     "output_type": "stream",
     "text": [
      "{'loss': 2.9706, 'grad_norm': 2.2687828540802, 'learning_rate': 4.6800000000000006e-05, 'epoch': 0.32}\n"
     ]
    },
    {
     "name": "stderr",
     "output_type": "stream",
     "text": [
      "  7%|▋         | 210/3125 [01:49<25:59,  1.87it/s]"
     ]
    },
    {
     "name": "stdout",
     "output_type": "stream",
     "text": [
      "{'loss': 2.8814, 'grad_norm': 1.4328899383544922, 'learning_rate': 4.664e-05, 'epoch': 0.34}\n"
     ]
    },
    {
     "name": "stderr",
     "output_type": "stream",
     "text": [
      "  7%|▋         | 220/3125 [01:54<25:45,  1.88it/s]"
     ]
    },
    {
     "name": "stdout",
     "output_type": "stream",
     "text": [
      "{'loss': 2.953, 'grad_norm': 1.7118066549301147, 'learning_rate': 4.648e-05, 'epoch': 0.35}\n"
     ]
    },
    {
     "name": "stderr",
     "output_type": "stream",
     "text": [
      "  7%|▋         | 230/3125 [01:59<25:56,  1.86it/s]"
     ]
    },
    {
     "name": "stdout",
     "output_type": "stream",
     "text": [
      "{'loss': 2.8504, 'grad_norm': 1.4027682542800903, 'learning_rate': 4.6320000000000004e-05, 'epoch': 0.37}\n"
     ]
    },
    {
     "name": "stderr",
     "output_type": "stream",
     "text": [
      "  8%|▊         | 240/3125 [02:05<25:32,  1.88it/s]"
     ]
    },
    {
     "name": "stdout",
     "output_type": "stream",
     "text": [
      "{'loss': 2.9411, 'grad_norm': 2.3913745880126953, 'learning_rate': 4.6160000000000005e-05, 'epoch': 0.38}\n"
     ]
    },
    {
     "name": "stderr",
     "output_type": "stream",
     "text": [
      "  8%|▊         | 250/3125 [02:10<25:37,  1.87it/s]"
     ]
    },
    {
     "name": "stdout",
     "output_type": "stream",
     "text": [
      "{'loss': 3.0885, 'grad_norm': 1.4783949851989746, 'learning_rate': 4.600000000000001e-05, 'epoch': 0.4}\n"
     ]
    },
    {
     "name": "stderr",
     "output_type": "stream",
     "text": [
      "  8%|▊         | 260/3125 [02:15<25:46,  1.85it/s]"
     ]
    },
    {
     "name": "stdout",
     "output_type": "stream",
     "text": [
      "{'loss': 2.7913, 'grad_norm': 1.1733518838882446, 'learning_rate': 4.584e-05, 'epoch': 0.42}\n"
     ]
    },
    {
     "name": "stderr",
     "output_type": "stream",
     "text": [
      "  9%|▊         | 270/3125 [02:21<25:23,  1.87it/s]"
     ]
    },
    {
     "name": "stdout",
     "output_type": "stream",
     "text": [
      "{'loss': 3.0131, 'grad_norm': 1.7261652946472168, 'learning_rate': 4.568e-05, 'epoch': 0.43}\n"
     ]
    },
    {
     "name": "stderr",
     "output_type": "stream",
     "text": [
      "  9%|▉         | 280/3125 [02:26<25:44,  1.84it/s]"
     ]
    },
    {
     "name": "stdout",
     "output_type": "stream",
     "text": [
      "{'loss': 2.9022, 'grad_norm': 1.7624292373657227, 'learning_rate': 4.5520000000000005e-05, 'epoch': 0.45}\n"
     ]
    },
    {
     "name": "stderr",
     "output_type": "stream",
     "text": [
      "  9%|▉         | 290/3125 [02:32<25:14,  1.87it/s]"
     ]
    },
    {
     "name": "stdout",
     "output_type": "stream",
     "text": [
      "{'loss': 2.8249, 'grad_norm': 1.3382694721221924, 'learning_rate': 4.536e-05, 'epoch': 0.46}\n"
     ]
    },
    {
     "name": "stderr",
     "output_type": "stream",
     "text": [
      " 10%|▉         | 300/3125 [02:37<25:44,  1.83it/s]"
     ]
    },
    {
     "name": "stdout",
     "output_type": "stream",
     "text": [
      "{'loss': 3.017, 'grad_norm': 1.3102511167526245, 'learning_rate': 4.52e-05, 'epoch': 0.48}\n"
     ]
    },
    {
     "name": "stderr",
     "output_type": "stream",
     "text": [
      " 10%|▉         | 310/3125 [02:42<25:27,  1.84it/s]"
     ]
    },
    {
     "name": "stdout",
     "output_type": "stream",
     "text": [
      "{'loss': 2.8546, 'grad_norm': 1.746452808380127, 'learning_rate': 4.504e-05, 'epoch': 0.5}\n"
     ]
    },
    {
     "name": "stderr",
     "output_type": "stream",
     "text": [
      " 10%|█         | 320/3125 [02:48<25:21,  1.84it/s]"
     ]
    },
    {
     "name": "stdout",
     "output_type": "stream",
     "text": [
      "{'loss': 2.8435, 'grad_norm': 2.500717878341675, 'learning_rate': 4.488e-05, 'epoch': 0.51}\n"
     ]
    },
    {
     "name": "stderr",
     "output_type": "stream",
     "text": [
      " 11%|█         | 330/3125 [02:53<25:14,  1.85it/s]"
     ]
    },
    {
     "name": "stdout",
     "output_type": "stream",
     "text": [
      "{'loss': 2.8953, 'grad_norm': 1.2127875089645386, 'learning_rate': 4.472e-05, 'epoch': 0.53}\n"
     ]
    },
    {
     "name": "stderr",
     "output_type": "stream",
     "text": [
      " 11%|█         | 340/3125 [02:59<24:55,  1.86it/s]"
     ]
    },
    {
     "name": "stdout",
     "output_type": "stream",
     "text": [
      "{'loss': 2.9589, 'grad_norm': 2.073690891265869, 'learning_rate': 4.456e-05, 'epoch': 0.54}\n"
     ]
    },
    {
     "name": "stderr",
     "output_type": "stream",
     "text": [
      " 11%|█         | 350/3125 [03:04<24:59,  1.85it/s]"
     ]
    },
    {
     "name": "stdout",
     "output_type": "stream",
     "text": [
      "{'loss': 2.94, 'grad_norm': 1.5480388402938843, 'learning_rate': 4.44e-05, 'epoch': 0.56}\n"
     ]
    },
    {
     "name": "stderr",
     "output_type": "stream",
     "text": [
      " 12%|█▏        | 360/3125 [03:10<24:53,  1.85it/s]"
     ]
    },
    {
     "name": "stdout",
     "output_type": "stream",
     "text": [
      "{'loss': 2.9151, 'grad_norm': 1.3639991283416748, 'learning_rate': 4.424e-05, 'epoch': 0.58}\n"
     ]
    },
    {
     "name": "stderr",
     "output_type": "stream",
     "text": [
      " 12%|█▏        | 370/3125 [03:15<24:54,  1.84it/s]"
     ]
    },
    {
     "name": "stdout",
     "output_type": "stream",
     "text": [
      "{'loss': 2.7652, 'grad_norm': 1.1713106632232666, 'learning_rate': 4.4080000000000005e-05, 'epoch': 0.59}\n"
     ]
    },
    {
     "name": "stderr",
     "output_type": "stream",
     "text": [
      " 12%|█▏        | 380/3125 [03:20<24:56,  1.83it/s]"
     ]
    },
    {
     "name": "stdout",
     "output_type": "stream",
     "text": [
      "{'loss': 2.8776, 'grad_norm': 1.1921494007110596, 'learning_rate': 4.392e-05, 'epoch': 0.61}\n"
     ]
    },
    {
     "name": "stderr",
     "output_type": "stream",
     "text": [
      " 12%|█▏        | 390/3125 [03:26<24:41,  1.85it/s]"
     ]
    },
    {
     "name": "stdout",
     "output_type": "stream",
     "text": [
      "{'loss': 2.8313, 'grad_norm': 1.0898758172988892, 'learning_rate': 4.376e-05, 'epoch': 0.62}\n"
     ]
    },
    {
     "name": "stderr",
     "output_type": "stream",
     "text": [
      " 13%|█▎        | 400/3125 [03:31<24:51,  1.83it/s]"
     ]
    },
    {
     "name": "stdout",
     "output_type": "stream",
     "text": [
      "{'loss': 2.8673, 'grad_norm': 1.1843688488006592, 'learning_rate': 4.36e-05, 'epoch': 0.64}\n"
     ]
    },
    {
     "name": "stderr",
     "output_type": "stream",
     "text": [
      " 13%|█▎        | 410/3125 [03:37<24:34,  1.84it/s]"
     ]
    },
    {
     "name": "stdout",
     "output_type": "stream",
     "text": [
      "{'loss': 2.8434, 'grad_norm': 1.1835193634033203, 'learning_rate': 4.3440000000000004e-05, 'epoch': 0.66}\n"
     ]
    },
    {
     "name": "stderr",
     "output_type": "stream",
     "text": [
      " 13%|█▎        | 420/3125 [03:42<24:39,  1.83it/s]"
     ]
    },
    {
     "name": "stdout",
     "output_type": "stream",
     "text": [
      "{'loss': 2.9755, 'grad_norm': 1.6242703199386597, 'learning_rate': 4.3280000000000006e-05, 'epoch': 0.67}\n"
     ]
    },
    {
     "name": "stderr",
     "output_type": "stream",
     "text": [
      " 14%|█▍        | 430/3125 [03:48<24:34,  1.83it/s]"
     ]
    },
    {
     "name": "stdout",
     "output_type": "stream",
     "text": [
      "{'loss': 2.8914, 'grad_norm': 1.5451040267944336, 'learning_rate': 4.312000000000001e-05, 'epoch': 0.69}\n"
     ]
    },
    {
     "name": "stderr",
     "output_type": "stream",
     "text": [
      " 14%|█▍        | 440/3125 [03:53<24:16,  1.84it/s]"
     ]
    },
    {
     "name": "stdout",
     "output_type": "stream",
     "text": [
      "{'loss': 2.6548, 'grad_norm': 2.310159683227539, 'learning_rate': 4.296e-05, 'epoch': 0.7}\n"
     ]
    },
    {
     "name": "stderr",
     "output_type": "stream",
     "text": [
      " 14%|█▍        | 450/3125 [03:59<24:19,  1.83it/s]"
     ]
    },
    {
     "name": "stdout",
     "output_type": "stream",
     "text": [
      "{'loss': 2.9421, 'grad_norm': 1.1779106855392456, 'learning_rate': 4.2800000000000004e-05, 'epoch': 0.72}\n"
     ]
    },
    {
     "name": "stderr",
     "output_type": "stream",
     "text": [
      " 15%|█▍        | 460/3125 [04:04<24:12,  1.83it/s]"
     ]
    },
    {
     "name": "stdout",
     "output_type": "stream",
     "text": [
      "{'loss': 2.9609, 'grad_norm': 1.5253782272338867, 'learning_rate': 4.2640000000000005e-05, 'epoch': 0.74}\n"
     ]
    },
    {
     "name": "stderr",
     "output_type": "stream",
     "text": [
      " 15%|█▌        | 470/3125 [04:10<24:00,  1.84it/s]"
     ]
    },
    {
     "name": "stdout",
     "output_type": "stream",
     "text": [
      "{'loss': 2.7475, 'grad_norm': 1.2093318700790405, 'learning_rate': 4.248e-05, 'epoch': 0.75}\n"
     ]
    },
    {
     "name": "stderr",
     "output_type": "stream",
     "text": [
      " 15%|█▌        | 480/3125 [04:15<23:55,  1.84it/s]"
     ]
    },
    {
     "name": "stdout",
     "output_type": "stream",
     "text": [
      "{'loss': 2.7521, 'grad_norm': 1.3267183303833008, 'learning_rate': 4.232e-05, 'epoch': 0.77}\n"
     ]
    },
    {
     "name": "stderr",
     "output_type": "stream",
     "text": [
      " 16%|█▌        | 490/3125 [04:20<23:55,  1.84it/s]"
     ]
    },
    {
     "name": "stdout",
     "output_type": "stream",
     "text": [
      "{'loss': 2.8173, 'grad_norm': 1.605628490447998, 'learning_rate': 4.2159999999999996e-05, 'epoch': 0.78}\n"
     ]
    },
    {
     "name": "stderr",
     "output_type": "stream",
     "text": [
      " 16%|█▌        | 500/3125 [04:26<23:52,  1.83it/s]"
     ]
    },
    {
     "name": "stdout",
     "output_type": "stream",
     "text": [
      "{'loss': 2.9221, 'grad_norm': 1.027442216873169, 'learning_rate': 4.2e-05, 'epoch': 0.8}\n"
     ]
    },
    {
     "name": "stderr",
     "output_type": "stream",
     "text": [
      " 16%|█▋        | 510/3125 [04:33<24:15,  1.80it/s]"
     ]
    },
    {
     "name": "stdout",
     "output_type": "stream",
     "text": [
      "{'loss': 2.8748, 'grad_norm': 1.0546684265136719, 'learning_rate': 4.184e-05, 'epoch': 0.82}\n"
     ]
    },
    {
     "name": "stderr",
     "output_type": "stream",
     "text": [
      " 17%|█▋        | 520/3125 [04:38<23:31,  1.85it/s]"
     ]
    },
    {
     "name": "stdout",
     "output_type": "stream",
     "text": [
      "{'loss': 2.8036, 'grad_norm': 1.3238308429718018, 'learning_rate': 4.168e-05, 'epoch': 0.83}\n"
     ]
    },
    {
     "name": "stderr",
     "output_type": "stream",
     "text": [
      " 17%|█▋        | 530/3125 [04:44<23:25,  1.85it/s]"
     ]
    },
    {
     "name": "stdout",
     "output_type": "stream",
     "text": [
      "{'loss': 2.8036, 'grad_norm': 1.9660931825637817, 'learning_rate': 4.152e-05, 'epoch': 0.85}\n"
     ]
    },
    {
     "name": "stderr",
     "output_type": "stream",
     "text": [
      " 17%|█▋        | 540/3125 [04:49<23:31,  1.83it/s]"
     ]
    },
    {
     "name": "stdout",
     "output_type": "stream",
     "text": [
      "{'loss': 2.7522, 'grad_norm': 1.0974833965301514, 'learning_rate': 4.1360000000000004e-05, 'epoch': 0.86}\n"
     ]
    },
    {
     "name": "stderr",
     "output_type": "stream",
     "text": [
      " 18%|█▊        | 550/3125 [04:55<23:25,  1.83it/s]"
     ]
    },
    {
     "name": "stdout",
     "output_type": "stream",
     "text": [
      "{'loss': 2.9662, 'grad_norm': 1.1559498310089111, 'learning_rate': 4.12e-05, 'epoch': 0.88}\n"
     ]
    },
    {
     "name": "stderr",
     "output_type": "stream",
     "text": [
      " 18%|█▊        | 560/3125 [05:00<23:15,  1.84it/s]"
     ]
    },
    {
     "name": "stdout",
     "output_type": "stream",
     "text": [
      "{'loss': 2.8168, 'grad_norm': 0.9751479029655457, 'learning_rate': 4.104e-05, 'epoch': 0.9}\n"
     ]
    },
    {
     "name": "stderr",
     "output_type": "stream",
     "text": [
      " 18%|█▊        | 570/3125 [05:06<23:15,  1.83it/s]"
     ]
    },
    {
     "name": "stdout",
     "output_type": "stream",
     "text": [
      "{'loss': 2.7376, 'grad_norm': 1.1581820249557495, 'learning_rate': 4.088e-05, 'epoch': 0.91}\n"
     ]
    },
    {
     "name": "stderr",
     "output_type": "stream",
     "text": [
      " 19%|█▊        | 580/3125 [05:11<23:11,  1.83it/s]"
     ]
    },
    {
     "name": "stdout",
     "output_type": "stream",
     "text": [
      "{'loss': 2.8735, 'grad_norm': 2.18558406829834, 'learning_rate': 4.072e-05, 'epoch': 0.93}\n"
     ]
    },
    {
     "name": "stderr",
     "output_type": "stream",
     "text": [
      " 19%|█▉        | 590/3125 [05:16<23:07,  1.83it/s]"
     ]
    },
    {
     "name": "stdout",
     "output_type": "stream",
     "text": [
      "{'loss': 2.7805, 'grad_norm': 3.171903610229492, 'learning_rate': 4.0560000000000005e-05, 'epoch': 0.94}\n"
     ]
    },
    {
     "name": "stderr",
     "output_type": "stream",
     "text": [
      " 19%|█▉        | 600/3125 [05:22<23:04,  1.82it/s]"
     ]
    },
    {
     "name": "stdout",
     "output_type": "stream",
     "text": [
      "{'loss': 2.8643, 'grad_norm': 1.2482985258102417, 'learning_rate': 4.0400000000000006e-05, 'epoch': 0.96}\n"
     ]
    },
    {
     "name": "stderr",
     "output_type": "stream",
     "text": [
      " 20%|█▉        | 610/3125 [05:27<23:11,  1.81it/s]"
     ]
    },
    {
     "name": "stdout",
     "output_type": "stream",
     "text": [
      "{'loss': 2.7483, 'grad_norm': 1.2262874841690063, 'learning_rate': 4.024e-05, 'epoch': 0.98}\n"
     ]
    },
    {
     "name": "stderr",
     "output_type": "stream",
     "text": [
      " 20%|█▉        | 620/3125 [05:33<22:49,  1.83it/s]"
     ]
    },
    {
     "name": "stdout",
     "output_type": "stream",
     "text": [
      "{'loss': 2.9536, 'grad_norm': 1.1158008575439453, 'learning_rate': 4.008e-05, 'epoch': 0.99}\n"
     ]
    },
    {
     "name": "stderr",
     "output_type": "stream",
     "text": [
      "                                                  \n",
      " 20%|██        | 625/3125 [08:12<22:51,  1.82it/s] "
     ]
    },
    {
     "name": "stdout",
     "output_type": "stream",
     "text": [
      "{'eval_loss': 2.562150716781616, 'eval_runtime': 156.7272, 'eval_samples_per_second': 42.322, 'eval_steps_per_second': 21.164, 'epoch': 1.0}\n"
     ]
    },
    {
     "name": "stderr",
     "output_type": "stream",
     "text": [
      " 20%|██        | 630/3125 [08:15<8:12:20, 11.84s/it] "
     ]
    },
    {
     "name": "stdout",
     "output_type": "stream",
     "text": [
      "{'loss': 2.8062, 'grad_norm': 1.6094799041748047, 'learning_rate': 3.9920000000000004e-05, 'epoch': 1.01}\n"
     ]
    },
    {
     "name": "stderr",
     "output_type": "stream",
     "text": [
      " 20%|██        | 640/3125 [08:21<35:47,  1.16it/s]  "
     ]
    },
    {
     "name": "stdout",
     "output_type": "stream",
     "text": [
      "{'loss': 2.923, 'grad_norm': 1.2432451248168945, 'learning_rate': 3.9760000000000006e-05, 'epoch': 1.02}\n"
     ]
    },
    {
     "name": "stderr",
     "output_type": "stream",
     "text": [
      " 21%|██        | 650/3125 [08:26<22:57,  1.80it/s]"
     ]
    },
    {
     "name": "stdout",
     "output_type": "stream",
     "text": [
      "{'loss': 2.7105, 'grad_norm': 1.2034324407577515, 'learning_rate': 3.960000000000001e-05, 'epoch': 1.04}\n"
     ]
    },
    {
     "name": "stderr",
     "output_type": "stream",
     "text": [
      " 21%|██        | 660/3125 [08:32<22:42,  1.81it/s]"
     ]
    },
    {
     "name": "stdout",
     "output_type": "stream",
     "text": [
      "{'loss': 2.8207, 'grad_norm': 1.3654255867004395, 'learning_rate': 3.944e-05, 'epoch': 1.06}\n"
     ]
    },
    {
     "name": "stderr",
     "output_type": "stream",
     "text": [
      " 21%|██▏       | 670/3125 [08:37<22:40,  1.80it/s]"
     ]
    },
    {
     "name": "stdout",
     "output_type": "stream",
     "text": [
      "{'loss': 2.6629, 'grad_norm': 1.5481432676315308, 'learning_rate': 3.9280000000000003e-05, 'epoch': 1.07}\n"
     ]
    },
    {
     "name": "stderr",
     "output_type": "stream",
     "text": [
      " 22%|██▏       | 680/3125 [08:43<22:32,  1.81it/s]"
     ]
    },
    {
     "name": "stdout",
     "output_type": "stream",
     "text": [
      "{'loss': 2.7327, 'grad_norm': 1.4840432405471802, 'learning_rate': 3.912e-05, 'epoch': 1.09}\n"
     ]
    },
    {
     "name": "stderr",
     "output_type": "stream",
     "text": [
      " 22%|██▏       | 690/3125 [08:48<22:31,  1.80it/s]"
     ]
    },
    {
     "name": "stdout",
     "output_type": "stream",
     "text": [
      "{'loss': 2.7664, 'grad_norm': 1.169969081878662, 'learning_rate': 3.896e-05, 'epoch': 1.1}\n"
     ]
    },
    {
     "name": "stderr",
     "output_type": "stream",
     "text": [
      " 22%|██▏       | 700/3125 [08:54<22:24,  1.80it/s]"
     ]
    },
    {
     "name": "stdout",
     "output_type": "stream",
     "text": [
      "{'loss': 2.812, 'grad_norm': 1.0444684028625488, 'learning_rate': 3.88e-05, 'epoch': 1.12}\n"
     ]
    },
    {
     "name": "stderr",
     "output_type": "stream",
     "text": [
      " 23%|██▎       | 710/3125 [08:59<22:24,  1.80it/s]"
     ]
    },
    {
     "name": "stdout",
     "output_type": "stream",
     "text": [
      "{'loss': 2.7081, 'grad_norm': 1.3436689376831055, 'learning_rate': 3.864e-05, 'epoch': 1.14}\n"
     ]
    },
    {
     "name": "stderr",
     "output_type": "stream",
     "text": [
      " 23%|██▎       | 720/3125 [09:05<22:13,  1.80it/s]"
     ]
    },
    {
     "name": "stdout",
     "output_type": "stream",
     "text": [
      "{'loss': 2.8029, 'grad_norm': 1.1544523239135742, 'learning_rate': 3.848e-05, 'epoch': 1.15}\n"
     ]
    },
    {
     "name": "stderr",
     "output_type": "stream",
     "text": [
      " 23%|██▎       | 730/3125 [09:10<22:07,  1.80it/s]"
     ]
    },
    {
     "name": "stdout",
     "output_type": "stream",
     "text": [
      "{'loss': 2.7018, 'grad_norm': 1.587976098060608, 'learning_rate': 3.832e-05, 'epoch': 1.17}\n"
     ]
    },
    {
     "name": "stderr",
     "output_type": "stream",
     "text": [
      " 24%|██▎       | 740/3125 [09:16<21:46,  1.83it/s]"
     ]
    },
    {
     "name": "stdout",
     "output_type": "stream",
     "text": [
      "{'loss': 2.8558, 'grad_norm': 1.1866923570632935, 'learning_rate': 3.816e-05, 'epoch': 1.18}\n"
     ]
    },
    {
     "name": "stderr",
     "output_type": "stream",
     "text": [
      " 24%|██▍       | 750/3125 [09:21<21:50,  1.81it/s]"
     ]
    },
    {
     "name": "stdout",
     "output_type": "stream",
     "text": [
      "{'loss': 2.7912, 'grad_norm': 2.806462287902832, 'learning_rate': 3.8e-05, 'epoch': 1.2}\n"
     ]
    },
    {
     "name": "stderr",
     "output_type": "stream",
     "text": [
      " 24%|██▍       | 760/3125 [09:27<21:40,  1.82it/s]"
     ]
    },
    {
     "name": "stdout",
     "output_type": "stream",
     "text": [
      "{'loss': 2.7373, 'grad_norm': 1.8921972513198853, 'learning_rate': 3.7840000000000004e-05, 'epoch': 1.22}\n"
     ]
    },
    {
     "name": "stderr",
     "output_type": "stream",
     "text": [
      " 25%|██▍       | 770/3125 [09:32<21:29,  1.83it/s]"
     ]
    },
    {
     "name": "stdout",
     "output_type": "stream",
     "text": [
      "{'loss': 2.9198, 'grad_norm': 1.3260607719421387, 'learning_rate': 3.7680000000000005e-05, 'epoch': 1.23}\n"
     ]
    },
    {
     "name": "stderr",
     "output_type": "stream",
     "text": [
      " 25%|██▍       | 780/3125 [09:38<21:35,  1.81it/s]"
     ]
    },
    {
     "name": "stdout",
     "output_type": "stream",
     "text": [
      "{'loss': 2.7688, 'grad_norm': 1.0716122388839722, 'learning_rate': 3.752e-05, 'epoch': 1.25}\n"
     ]
    },
    {
     "name": "stderr",
     "output_type": "stream",
     "text": [
      " 25%|██▌       | 790/3125 [09:43<21:17,  1.83it/s]"
     ]
    },
    {
     "name": "stdout",
     "output_type": "stream",
     "text": [
      "{'loss': 2.7411, 'grad_norm': 1.5537644624710083, 'learning_rate': 3.736e-05, 'epoch': 1.26}\n"
     ]
    },
    {
     "name": "stderr",
     "output_type": "stream",
     "text": [
      " 26%|██▌       | 800/3125 [09:49<21:33,  1.80it/s]"
     ]
    },
    {
     "name": "stdout",
     "output_type": "stream",
     "text": [
      "{'loss': 2.9993, 'grad_norm': 1.148362398147583, 'learning_rate': 3.72e-05, 'epoch': 1.28}\n"
     ]
    },
    {
     "name": "stderr",
     "output_type": "stream",
     "text": [
      " 26%|██▌       | 810/3125 [09:54<21:18,  1.81it/s]"
     ]
    },
    {
     "name": "stdout",
     "output_type": "stream",
     "text": [
      "{'loss': 2.715, 'grad_norm': 3.521437883377075, 'learning_rate': 3.7040000000000005e-05, 'epoch': 1.3}\n"
     ]
    },
    {
     "name": "stderr",
     "output_type": "stream",
     "text": [
      " 26%|██▌       | 820/3125 [10:00<21:07,  1.82it/s]"
     ]
    },
    {
     "name": "stdout",
     "output_type": "stream",
     "text": [
      "{'loss': 2.7741, 'grad_norm': 1.1158077716827393, 'learning_rate': 3.6880000000000006e-05, 'epoch': 1.31}\n"
     ]
    },
    {
     "name": "stderr",
     "output_type": "stream",
     "text": [
      " 27%|██▋       | 830/3125 [10:05<21:08,  1.81it/s]"
     ]
    },
    {
     "name": "stdout",
     "output_type": "stream",
     "text": [
      "{'loss': 2.8635, 'grad_norm': 1.481096625328064, 'learning_rate': 3.672000000000001e-05, 'epoch': 1.33}\n"
     ]
    },
    {
     "name": "stderr",
     "output_type": "stream",
     "text": [
      " 27%|██▋       | 840/3125 [10:11<21:03,  1.81it/s]"
     ]
    },
    {
     "name": "stdout",
     "output_type": "stream",
     "text": [
      "{'loss': 2.6001, 'grad_norm': 1.259059190750122, 'learning_rate': 3.656e-05, 'epoch': 1.34}\n"
     ]
    },
    {
     "name": "stderr",
     "output_type": "stream",
     "text": [
      " 27%|██▋       | 850/3125 [10:17<20:58,  1.81it/s]"
     ]
    },
    {
     "name": "stdout",
     "output_type": "stream",
     "text": [
      "{'loss': 2.6629, 'grad_norm': 1.3398970365524292, 'learning_rate': 3.6400000000000004e-05, 'epoch': 1.36}\n"
     ]
    },
    {
     "name": "stderr",
     "output_type": "stream",
     "text": [
      " 28%|██▊       | 860/3125 [10:22<20:40,  1.83it/s]"
     ]
    },
    {
     "name": "stdout",
     "output_type": "stream",
     "text": [
      "{'loss': 2.5829, 'grad_norm': 3.9346628189086914, 'learning_rate': 3.624e-05, 'epoch': 1.38}\n"
     ]
    },
    {
     "name": "stderr",
     "output_type": "stream",
     "text": [
      " 28%|██▊       | 870/3125 [10:28<20:57,  1.79it/s]"
     ]
    },
    {
     "name": "stdout",
     "output_type": "stream",
     "text": [
      "{'loss': 2.6475, 'grad_norm': 1.085599422454834, 'learning_rate': 3.608e-05, 'epoch': 1.39}\n"
     ]
    },
    {
     "name": "stderr",
     "output_type": "stream",
     "text": [
      " 28%|██▊       | 880/3125 [10:33<20:36,  1.82it/s]"
     ]
    },
    {
     "name": "stdout",
     "output_type": "stream",
     "text": [
      "{'loss': 2.8598, 'grad_norm': 1.1211844682693481, 'learning_rate': 3.592e-05, 'epoch': 1.41}\n"
     ]
    },
    {
     "name": "stderr",
     "output_type": "stream",
     "text": [
      " 28%|██▊       | 890/3125 [10:39<20:23,  1.83it/s]"
     ]
    },
    {
     "name": "stdout",
     "output_type": "stream",
     "text": [
      "{'loss': 2.6766, 'grad_norm': 1.2050672769546509, 'learning_rate': 3.5759999999999996e-05, 'epoch': 1.42}\n"
     ]
    },
    {
     "name": "stderr",
     "output_type": "stream",
     "text": [
      " 29%|██▉       | 900/3125 [10:44<20:27,  1.81it/s]"
     ]
    },
    {
     "name": "stdout",
     "output_type": "stream",
     "text": [
      "{'loss': 2.5863, 'grad_norm': 1.2228074073791504, 'learning_rate': 3.56e-05, 'epoch': 1.44}\n"
     ]
    },
    {
     "name": "stderr",
     "output_type": "stream",
     "text": [
      " 29%|██▉       | 910/3125 [10:50<20:15,  1.82it/s]"
     ]
    },
    {
     "name": "stdout",
     "output_type": "stream",
     "text": [
      "{'loss': 2.6825, 'grad_norm': 1.2848483324050903, 'learning_rate': 3.544e-05, 'epoch': 1.46}\n"
     ]
    },
    {
     "name": "stderr",
     "output_type": "stream",
     "text": [
      " 29%|██▉       | 920/3125 [10:55<20:16,  1.81it/s]"
     ]
    },
    {
     "name": "stdout",
     "output_type": "stream",
     "text": [
      "{'loss': 2.9021, 'grad_norm': 1.292917251586914, 'learning_rate': 3.528e-05, 'epoch': 1.47}\n"
     ]
    },
    {
     "name": "stderr",
     "output_type": "stream",
     "text": [
      " 30%|██▉       | 930/3125 [11:01<20:00,  1.83it/s]"
     ]
    },
    {
     "name": "stdout",
     "output_type": "stream",
     "text": [
      "{'loss': 2.7531, 'grad_norm': 1.111853003501892, 'learning_rate': 3.512e-05, 'epoch': 1.49}\n"
     ]
    },
    {
     "name": "stderr",
     "output_type": "stream",
     "text": [
      " 30%|███       | 940/3125 [11:06<20:09,  1.81it/s]"
     ]
    },
    {
     "name": "stdout",
     "output_type": "stream",
     "text": [
      "{'loss': 2.6962, 'grad_norm': 1.1948915719985962, 'learning_rate': 3.4960000000000004e-05, 'epoch': 1.5}\n"
     ]
    },
    {
     "name": "stderr",
     "output_type": "stream",
     "text": [
      " 30%|███       | 950/3125 [11:12<20:06,  1.80it/s]"
     ]
    },
    {
     "name": "stdout",
     "output_type": "stream",
     "text": [
      "{'loss': 2.7649, 'grad_norm': 1.1012275218963623, 'learning_rate': 3.48e-05, 'epoch': 1.52}\n"
     ]
    },
    {
     "name": "stderr",
     "output_type": "stream",
     "text": [
      " 31%|███       | 960/3125 [11:17<19:56,  1.81it/s]"
     ]
    },
    {
     "name": "stdout",
     "output_type": "stream",
     "text": [
      "{'loss': 2.5768, 'grad_norm': 1.2279491424560547, 'learning_rate': 3.464e-05, 'epoch': 1.54}\n"
     ]
    },
    {
     "name": "stderr",
     "output_type": "stream",
     "text": [
      " 31%|███       | 970/3125 [11:23<19:46,  1.82it/s]"
     ]
    },
    {
     "name": "stdout",
     "output_type": "stream",
     "text": [
      "{'loss': 2.7736, 'grad_norm': 1.6804254055023193, 'learning_rate': 3.448e-05, 'epoch': 1.55}\n"
     ]
    },
    {
     "name": "stderr",
     "output_type": "stream",
     "text": [
      " 31%|███▏      | 980/3125 [11:28<19:45,  1.81it/s]"
     ]
    },
    {
     "name": "stdout",
     "output_type": "stream",
     "text": [
      "{'loss': 2.6743, 'grad_norm': 1.2709121704101562, 'learning_rate': 3.4320000000000003e-05, 'epoch': 1.57}\n"
     ]
    },
    {
     "name": "stderr",
     "output_type": "stream",
     "text": [
      " 32%|███▏      | 990/3125 [11:34<19:47,  1.80it/s]"
     ]
    },
    {
     "name": "stdout",
     "output_type": "stream",
     "text": [
      "{'loss': 2.654, 'grad_norm': 1.093516230583191, 'learning_rate': 3.4160000000000005e-05, 'epoch': 1.58}\n"
     ]
    },
    {
     "name": "stderr",
     "output_type": "stream",
     "text": [
      " 32%|███▏      | 1000/3125 [11:39<19:34,  1.81it/s]"
     ]
    },
    {
     "name": "stdout",
     "output_type": "stream",
     "text": [
      "{'loss': 2.9122, 'grad_norm': 1.1058275699615479, 'learning_rate': 3.4000000000000007e-05, 'epoch': 1.6}\n"
     ]
    },
    {
     "name": "stderr",
     "output_type": "stream",
     "text": [
      " 32%|███▏      | 1010/3125 [11:46<19:54,  1.77it/s]"
     ]
    },
    {
     "name": "stdout",
     "output_type": "stream",
     "text": [
      "{'loss': 2.7214, 'grad_norm': 1.2426583766937256, 'learning_rate': 3.384e-05, 'epoch': 1.62}\n"
     ]
    },
    {
     "name": "stderr",
     "output_type": "stream",
     "text": [
      " 33%|███▎      | 1020/3125 [11:52<19:12,  1.83it/s]"
     ]
    },
    {
     "name": "stdout",
     "output_type": "stream",
     "text": [
      "{'loss': 2.8185, 'grad_norm': 1.175621747970581, 'learning_rate': 3.368e-05, 'epoch': 1.63}\n"
     ]
    },
    {
     "name": "stderr",
     "output_type": "stream",
     "text": [
      " 33%|███▎      | 1030/3125 [11:57<19:17,  1.81it/s]"
     ]
    },
    {
     "name": "stdout",
     "output_type": "stream",
     "text": [
      "{'loss': 2.7961, 'grad_norm': 2.060825824737549, 'learning_rate': 3.3520000000000004e-05, 'epoch': 1.65}\n"
     ]
    },
    {
     "name": "stderr",
     "output_type": "stream",
     "text": [
      " 33%|███▎      | 1040/3125 [12:03<19:17,  1.80it/s]"
     ]
    },
    {
     "name": "stdout",
     "output_type": "stream",
     "text": [
      "{'loss': 2.6791, 'grad_norm': 1.1183297634124756, 'learning_rate': 3.336e-05, 'epoch': 1.66}\n"
     ]
    },
    {
     "name": "stderr",
     "output_type": "stream",
     "text": [
      " 34%|███▎      | 1050/3125 [12:08<18:55,  1.83it/s]"
     ]
    },
    {
     "name": "stdout",
     "output_type": "stream",
     "text": [
      "{'loss': 2.7465, 'grad_norm': 1.218802571296692, 'learning_rate': 3.32e-05, 'epoch': 1.68}\n"
     ]
    },
    {
     "name": "stderr",
     "output_type": "stream",
     "text": [
      " 34%|███▍      | 1060/3125 [12:14<19:07,  1.80it/s]"
     ]
    },
    {
     "name": "stdout",
     "output_type": "stream",
     "text": [
      "{'loss': 2.5883, 'grad_norm': 1.1110402345657349, 'learning_rate': 3.304e-05, 'epoch': 1.7}\n"
     ]
    },
    {
     "name": "stderr",
     "output_type": "stream",
     "text": [
      " 34%|███▍      | 1070/3125 [12:19<18:59,  1.80it/s]"
     ]
    },
    {
     "name": "stdout",
     "output_type": "stream",
     "text": [
      "{'loss': 2.7678, 'grad_norm': 1.2919697761535645, 'learning_rate': 3.288e-05, 'epoch': 1.71}\n"
     ]
    },
    {
     "name": "stderr",
     "output_type": "stream",
     "text": [
      " 35%|███▍      | 1080/3125 [12:25<18:38,  1.83it/s]"
     ]
    },
    {
     "name": "stdout",
     "output_type": "stream",
     "text": [
      "{'loss': 2.6112, 'grad_norm': 1.3287353515625, 'learning_rate': 3.272e-05, 'epoch': 1.73}\n"
     ]
    },
    {
     "name": "stderr",
     "output_type": "stream",
     "text": [
      " 35%|███▍      | 1090/3125 [12:30<18:56,  1.79it/s]"
     ]
    },
    {
     "name": "stdout",
     "output_type": "stream",
     "text": [
      "{'loss': 2.7711, 'grad_norm': 1.0927252769470215, 'learning_rate': 3.256e-05, 'epoch': 1.74}\n"
     ]
    },
    {
     "name": "stderr",
     "output_type": "stream",
     "text": [
      " 35%|███▌      | 1100/3125 [12:36<18:28,  1.83it/s]"
     ]
    },
    {
     "name": "stdout",
     "output_type": "stream",
     "text": [
      "{'loss': 2.8387, 'grad_norm': 1.6044474840164185, 'learning_rate': 3.24e-05, 'epoch': 1.76}\n"
     ]
    },
    {
     "name": "stderr",
     "output_type": "stream",
     "text": [
      " 36%|███▌      | 1110/3125 [12:42<18:28,  1.82it/s]"
     ]
    },
    {
     "name": "stdout",
     "output_type": "stream",
     "text": [
      "{'loss': 2.7426, 'grad_norm': 1.183977723121643, 'learning_rate': 3.224e-05, 'epoch': 1.78}\n"
     ]
    },
    {
     "name": "stderr",
     "output_type": "stream",
     "text": [
      " 36%|███▌      | 1120/3125 [12:47<18:29,  1.81it/s]"
     ]
    },
    {
     "name": "stdout",
     "output_type": "stream",
     "text": [
      "{'loss': 2.6657, 'grad_norm': 1.3060652017593384, 'learning_rate': 3.208e-05, 'epoch': 1.79}\n"
     ]
    },
    {
     "name": "stderr",
     "output_type": "stream",
     "text": [
      " 36%|███▌      | 1130/3125 [12:53<18:25,  1.80it/s]"
     ]
    },
    {
     "name": "stdout",
     "output_type": "stream",
     "text": [
      "{'loss': 2.662, 'grad_norm': 1.0603909492492676, 'learning_rate': 3.192e-05, 'epoch': 1.81}\n"
     ]
    },
    {
     "name": "stderr",
     "output_type": "stream",
     "text": [
      " 36%|███▋      | 1140/3125 [12:58<18:11,  1.82it/s]"
     ]
    },
    {
     "name": "stdout",
     "output_type": "stream",
     "text": [
      "{'loss': 2.6685, 'grad_norm': 1.4407336711883545, 'learning_rate': 3.176e-05, 'epoch': 1.82}\n"
     ]
    },
    {
     "name": "stderr",
     "output_type": "stream",
     "text": [
      " 37%|███▋      | 1150/3125 [13:04<18:07,  1.82it/s]"
     ]
    },
    {
     "name": "stdout",
     "output_type": "stream",
     "text": [
      "{'loss': 2.6918, 'grad_norm': 1.429506778717041, 'learning_rate': 3.16e-05, 'epoch': 1.84}\n"
     ]
    },
    {
     "name": "stderr",
     "output_type": "stream",
     "text": [
      " 37%|███▋      | 1160/3125 [13:09<18:08,  1.81it/s]"
     ]
    },
    {
     "name": "stdout",
     "output_type": "stream",
     "text": [
      "{'loss': 2.7443, 'grad_norm': 1.164629340171814, 'learning_rate': 3.1440000000000004e-05, 'epoch': 1.86}\n"
     ]
    },
    {
     "name": "stderr",
     "output_type": "stream",
     "text": [
      " 37%|███▋      | 1170/3125 [13:15<18:01,  1.81it/s]"
     ]
    },
    {
     "name": "stdout",
     "output_type": "stream",
     "text": [
      "{'loss': 2.7753, 'grad_norm': 1.065683126449585, 'learning_rate': 3.1280000000000005e-05, 'epoch': 1.87}\n"
     ]
    },
    {
     "name": "stderr",
     "output_type": "stream",
     "text": [
      " 38%|███▊      | 1180/3125 [13:20<17:45,  1.83it/s]"
     ]
    },
    {
     "name": "stdout",
     "output_type": "stream",
     "text": [
      "{'loss': 2.8088, 'grad_norm': 2.2695038318634033, 'learning_rate': 3.112e-05, 'epoch': 1.89}\n"
     ]
    },
    {
     "name": "stderr",
     "output_type": "stream",
     "text": [
      " 38%|███▊      | 1190/3125 [13:26<17:46,  1.81it/s]"
     ]
    },
    {
     "name": "stdout",
     "output_type": "stream",
     "text": [
      "{'loss': 2.6743, 'grad_norm': 1.0462956428527832, 'learning_rate': 3.096e-05, 'epoch': 1.9}\n"
     ]
    },
    {
     "name": "stderr",
     "output_type": "stream",
     "text": [
      " 38%|███▊      | 1200/3125 [13:31<17:44,  1.81it/s]"
     ]
    },
    {
     "name": "stdout",
     "output_type": "stream",
     "text": [
      "{'loss': 2.7443, 'grad_norm': 1.448960304260254, 'learning_rate': 3.08e-05, 'epoch': 1.92}\n"
     ]
    },
    {
     "name": "stderr",
     "output_type": "stream",
     "text": [
      " 39%|███▊      | 1210/3125 [13:37<17:40,  1.81it/s]"
     ]
    },
    {
     "name": "stdout",
     "output_type": "stream",
     "text": [
      "{'loss': 2.7796, 'grad_norm': 1.2713749408721924, 'learning_rate': 3.0640000000000005e-05, 'epoch': 1.94}\n"
     ]
    },
    {
     "name": "stderr",
     "output_type": "stream",
     "text": [
      " 39%|███▉      | 1220/3125 [13:42<17:35,  1.81it/s]"
     ]
    },
    {
     "name": "stdout",
     "output_type": "stream",
     "text": [
      "{'loss': 2.6267, 'grad_norm': 1.2987805604934692, 'learning_rate': 3.0480000000000003e-05, 'epoch': 1.95}\n"
     ]
    },
    {
     "name": "stderr",
     "output_type": "stream",
     "text": [
      " 39%|███▉      | 1230/3125 [13:48<17:26,  1.81it/s]"
     ]
    },
    {
     "name": "stdout",
     "output_type": "stream",
     "text": [
      "{'loss': 2.7229, 'grad_norm': 1.4041486978530884, 'learning_rate': 3.0320000000000004e-05, 'epoch': 1.97}\n"
     ]
    },
    {
     "name": "stderr",
     "output_type": "stream",
     "text": [
      " 40%|███▉      | 1240/3125 [13:53<17:23,  1.81it/s]"
     ]
    },
    {
     "name": "stdout",
     "output_type": "stream",
     "text": [
      "{'loss': 2.579, 'grad_norm': 1.3892816305160522, 'learning_rate': 3.016e-05, 'epoch': 1.98}\n"
     ]
    },
    {
     "name": "stderr",
     "output_type": "stream",
     "text": [
      " 40%|████      | 1250/3125 [13:59<17:11,  1.82it/s]"
     ]
    },
    {
     "name": "stdout",
     "output_type": "stream",
     "text": [
      "{'loss': 2.6609, 'grad_norm': 1.1547536849975586, 'learning_rate': 3e-05, 'epoch': 2.0}\n"
     ]
    },
    {
     "name": "stderr",
     "output_type": "stream",
     "text": [
      "                                                   \n",
      " 40%|████      | 1250/3125 [16:37<17:11,  1.82it/s]"
     ]
    },
    {
     "name": "stdout",
     "output_type": "stream",
     "text": [
      "{'eval_loss': 2.504734754562378, 'eval_runtime': 157.9363, 'eval_samples_per_second': 41.998, 'eval_steps_per_second': 21.002, 'epoch': 2.0}\n"
     ]
    },
    {
     "name": "stderr",
     "output_type": "stream",
     "text": [
      " 40%|████      | 1260/3125 [16:42<1:16:36,  2.46s/it] "
     ]
    },
    {
     "name": "stdout",
     "output_type": "stream",
     "text": [
      "{'loss': 2.8021, 'grad_norm': 1.4604945182800293, 'learning_rate': 2.9840000000000002e-05, 'epoch': 2.02}\n"
     ]
    },
    {
     "name": "stderr",
     "output_type": "stream",
     "text": [
      " 41%|████      | 1270/3125 [16:48<18:51,  1.64it/s]  "
     ]
    },
    {
     "name": "stdout",
     "output_type": "stream",
     "text": [
      "{'loss': 2.7959, 'grad_norm': 1.1618953943252563, 'learning_rate': 2.9680000000000004e-05, 'epoch': 2.03}\n"
     ]
    },
    {
     "name": "stderr",
     "output_type": "stream",
     "text": [
      " 41%|████      | 1280/3125 [16:53<17:05,  1.80it/s]"
     ]
    },
    {
     "name": "stdout",
     "output_type": "stream",
     "text": [
      "{'loss': 2.6182, 'grad_norm': 1.4626892805099487, 'learning_rate': 2.9520000000000002e-05, 'epoch': 2.05}\n"
     ]
    },
    {
     "name": "stderr",
     "output_type": "stream",
     "text": [
      " 41%|████▏     | 1290/3125 [16:59<16:42,  1.83it/s]"
     ]
    },
    {
     "name": "stdout",
     "output_type": "stream",
     "text": [
      "{'loss': 2.5753, 'grad_norm': 0.9937271475791931, 'learning_rate': 2.9360000000000003e-05, 'epoch': 2.06}\n"
     ]
    },
    {
     "name": "stderr",
     "output_type": "stream",
     "text": [
      " 42%|████▏     | 1300/3125 [17:04<16:40,  1.82it/s]"
     ]
    },
    {
     "name": "stdout",
     "output_type": "stream",
     "text": [
      "{'loss': 2.6829, 'grad_norm': 1.2161650657653809, 'learning_rate': 2.9199999999999998e-05, 'epoch': 2.08}\n"
     ]
    },
    {
     "name": "stderr",
     "output_type": "stream",
     "text": [
      " 42%|████▏     | 1310/3125 [17:10<16:44,  1.81it/s]"
     ]
    },
    {
     "name": "stdout",
     "output_type": "stream",
     "text": [
      "{'loss': 2.6729, 'grad_norm': 1.2910858392715454, 'learning_rate': 2.904e-05, 'epoch': 2.1}\n"
     ]
    },
    {
     "name": "stderr",
     "output_type": "stream",
     "text": [
      " 42%|████▏     | 1320/3125 [17:15<16:41,  1.80it/s]"
     ]
    },
    {
     "name": "stdout",
     "output_type": "stream",
     "text": [
      "{'loss': 2.8311, 'grad_norm': 1.1688804626464844, 'learning_rate': 2.888e-05, 'epoch': 2.11}\n"
     ]
    },
    {
     "name": "stderr",
     "output_type": "stream",
     "text": [
      " 43%|████▎     | 1330/3125 [17:21<16:25,  1.82it/s]"
     ]
    },
    {
     "name": "stdout",
     "output_type": "stream",
     "text": [
      "{'loss': 2.6042, 'grad_norm': 1.1548130512237549, 'learning_rate': 2.8720000000000003e-05, 'epoch': 2.13}\n"
     ]
    },
    {
     "name": "stderr",
     "output_type": "stream",
     "text": [
      " 43%|████▎     | 1340/3125 [17:26<16:26,  1.81it/s]"
     ]
    },
    {
     "name": "stdout",
     "output_type": "stream",
     "text": [
      "{'loss': 2.7554, 'grad_norm': 1.3769344091415405, 'learning_rate': 2.8560000000000004e-05, 'epoch': 2.14}\n"
     ]
    },
    {
     "name": "stderr",
     "output_type": "stream",
     "text": [
      " 43%|████▎     | 1350/3125 [17:32<16:26,  1.80it/s]"
     ]
    },
    {
     "name": "stdout",
     "output_type": "stream",
     "text": [
      "{'loss': 2.6155, 'grad_norm': 1.1100341081619263, 'learning_rate': 2.84e-05, 'epoch': 2.16}\n"
     ]
    },
    {
     "name": "stderr",
     "output_type": "stream",
     "text": [
      " 44%|████▎     | 1360/3125 [17:38<16:16,  1.81it/s]"
     ]
    },
    {
     "name": "stdout",
     "output_type": "stream",
     "text": [
      "{'loss': 2.6121, 'grad_norm': 1.4119982719421387, 'learning_rate': 2.824e-05, 'epoch': 2.18}\n"
     ]
    },
    {
     "name": "stderr",
     "output_type": "stream",
     "text": [
      " 44%|████▍     | 1370/3125 [17:43<16:12,  1.81it/s]"
     ]
    },
    {
     "name": "stdout",
     "output_type": "stream",
     "text": [
      "{'loss': 2.7085, 'grad_norm': 1.3077013492584229, 'learning_rate': 2.8080000000000002e-05, 'epoch': 2.19}\n"
     ]
    },
    {
     "name": "stderr",
     "output_type": "stream",
     "text": [
      " 44%|████▍     | 1380/3125 [17:49<16:00,  1.82it/s]"
     ]
    },
    {
     "name": "stdout",
     "output_type": "stream",
     "text": [
      "{'loss': 2.8117, 'grad_norm': 1.1886134147644043, 'learning_rate': 2.792e-05, 'epoch': 2.21}\n"
     ]
    },
    {
     "name": "stderr",
     "output_type": "stream",
     "text": [
      " 44%|████▍     | 1390/3125 [17:54<15:59,  1.81it/s]"
     ]
    },
    {
     "name": "stdout",
     "output_type": "stream",
     "text": [
      "{'loss': 2.7834, 'grad_norm': 2.1357173919677734, 'learning_rate': 2.7760000000000002e-05, 'epoch': 2.22}\n"
     ]
    },
    {
     "name": "stderr",
     "output_type": "stream",
     "text": [
      " 45%|████▍     | 1400/3125 [18:00<15:58,  1.80it/s]"
     ]
    },
    {
     "name": "stdout",
     "output_type": "stream",
     "text": [
      "{'loss': 2.7911, 'grad_norm': 2.7030954360961914, 'learning_rate': 2.7600000000000003e-05, 'epoch': 2.24}\n"
     ]
    },
    {
     "name": "stderr",
     "output_type": "stream",
     "text": [
      " 45%|████▌     | 1410/3125 [18:05<15:55,  1.80it/s]"
     ]
    },
    {
     "name": "stdout",
     "output_type": "stream",
     "text": [
      "{'loss': 2.5759, 'grad_norm': 1.6061235666275024, 'learning_rate': 2.7439999999999998e-05, 'epoch': 2.26}\n"
     ]
    },
    {
     "name": "stderr",
     "output_type": "stream",
     "text": [
      " 45%|████▌     | 1420/3125 [18:11<15:40,  1.81it/s]"
     ]
    },
    {
     "name": "stdout",
     "output_type": "stream",
     "text": [
      "{'loss': 2.7393, 'grad_norm': 1.1583067178726196, 'learning_rate': 2.728e-05, 'epoch': 2.27}\n"
     ]
    },
    {
     "name": "stderr",
     "output_type": "stream",
     "text": [
      " 46%|████▌     | 1430/3125 [18:16<15:39,  1.80it/s]"
     ]
    },
    {
     "name": "stdout",
     "output_type": "stream",
     "text": [
      "{'loss': 2.65, 'grad_norm': 1.2074781656265259, 'learning_rate': 2.712e-05, 'epoch': 2.29}\n"
     ]
    },
    {
     "name": "stderr",
     "output_type": "stream",
     "text": [
      " 46%|████▌     | 1440/3125 [18:22<15:42,  1.79it/s]"
     ]
    },
    {
     "name": "stdout",
     "output_type": "stream",
     "text": [
      "{'loss': 2.7004, 'grad_norm': 0.9537368416786194, 'learning_rate': 2.6960000000000003e-05, 'epoch': 2.3}\n"
     ]
    },
    {
     "name": "stderr",
     "output_type": "stream",
     "text": [
      " 46%|████▋     | 1450/3125 [18:27<15:25,  1.81it/s]"
     ]
    },
    {
     "name": "stdout",
     "output_type": "stream",
     "text": [
      "{'loss': 2.7104, 'grad_norm': 1.1884912252426147, 'learning_rate': 2.6800000000000004e-05, 'epoch': 2.32}\n"
     ]
    },
    {
     "name": "stderr",
     "output_type": "stream",
     "text": [
      " 47%|████▋     | 1460/3125 [18:33<15:26,  1.80it/s]"
     ]
    },
    {
     "name": "stdout",
     "output_type": "stream",
     "text": [
      "{'loss': 2.6651, 'grad_norm': 1.2779333591461182, 'learning_rate': 2.6640000000000002e-05, 'epoch': 2.34}\n"
     ]
    },
    {
     "name": "stderr",
     "output_type": "stream",
     "text": [
      " 47%|████▋     | 1470/3125 [18:39<15:16,  1.81it/s]"
     ]
    },
    {
     "name": "stdout",
     "output_type": "stream",
     "text": [
      "{'loss': 2.7706, 'grad_norm': 1.502456784248352, 'learning_rate': 2.648e-05, 'epoch': 2.35}\n"
     ]
    },
    {
     "name": "stderr",
     "output_type": "stream",
     "text": [
      " 47%|████▋     | 1480/3125 [18:44<15:12,  1.80it/s]"
     ]
    },
    {
     "name": "stdout",
     "output_type": "stream",
     "text": [
      "{'loss': 2.6483, 'grad_norm': 0.9781001210212708, 'learning_rate': 2.632e-05, 'epoch': 2.37}\n"
     ]
    },
    {
     "name": "stderr",
     "output_type": "stream",
     "text": [
      " 48%|████▊     | 1490/3125 [18:50<15:04,  1.81it/s]"
     ]
    },
    {
     "name": "stdout",
     "output_type": "stream",
     "text": [
      "{'loss': 2.6446, 'grad_norm': 1.1872165203094482, 'learning_rate': 2.616e-05, 'epoch': 2.38}\n"
     ]
    },
    {
     "name": "stderr",
     "output_type": "stream",
     "text": [
      " 48%|████▊     | 1500/3125 [18:55<14:50,  1.82it/s]"
     ]
    },
    {
     "name": "stdout",
     "output_type": "stream",
     "text": [
      "{'loss': 2.5501, 'grad_norm': 1.203066349029541, 'learning_rate': 2.6000000000000002e-05, 'epoch': 2.4}\n"
     ]
    },
    {
     "name": "stderr",
     "output_type": "stream",
     "text": [
      " 48%|████▊     | 1510/3125 [19:02<15:16,  1.76it/s]"
     ]
    },
    {
     "name": "stdout",
     "output_type": "stream",
     "text": [
      "{'loss': 2.5926, 'grad_norm': 1.9345959424972534, 'learning_rate': 2.5840000000000003e-05, 'epoch': 2.42}\n"
     ]
    },
    {
     "name": "stderr",
     "output_type": "stream",
     "text": [
      " 49%|████▊     | 1520/3125 [19:08<14:53,  1.80it/s]"
     ]
    },
    {
     "name": "stdout",
     "output_type": "stream",
     "text": [
      "{'loss': 2.6607, 'grad_norm': 1.1686402559280396, 'learning_rate': 2.5679999999999998e-05, 'epoch': 2.43}\n"
     ]
    },
    {
     "name": "stderr",
     "output_type": "stream",
     "text": [
      " 49%|████▉     | 1530/3125 [19:13<14:42,  1.81it/s]"
     ]
    },
    {
     "name": "stdout",
     "output_type": "stream",
     "text": [
      "{'loss': 2.7494, 'grad_norm': 1.225067377090454, 'learning_rate': 2.552e-05, 'epoch': 2.45}\n"
     ]
    },
    {
     "name": "stderr",
     "output_type": "stream",
     "text": [
      " 49%|████▉     | 1540/3125 [19:19<14:37,  1.81it/s]"
     ]
    },
    {
     "name": "stdout",
     "output_type": "stream",
     "text": [
      "{'loss': 2.6695, 'grad_norm': 1.146011471748352, 'learning_rate': 2.536e-05, 'epoch': 2.46}\n"
     ]
    },
    {
     "name": "stderr",
     "output_type": "stream",
     "text": [
      " 50%|████▉     | 1550/3125 [19:24<14:29,  1.81it/s]"
     ]
    },
    {
     "name": "stdout",
     "output_type": "stream",
     "text": [
      "{'loss': 2.8066, 'grad_norm': 1.87967050075531, 'learning_rate': 2.5200000000000003e-05, 'epoch': 2.48}\n"
     ]
    },
    {
     "name": "stderr",
     "output_type": "stream",
     "text": [
      " 50%|████▉     | 1560/3125 [19:30<14:24,  1.81it/s]"
     ]
    },
    {
     "name": "stdout",
     "output_type": "stream",
     "text": [
      "{'loss': 2.7843, 'grad_norm': 1.1302282810211182, 'learning_rate': 2.504e-05, 'epoch': 2.5}\n"
     ]
    },
    {
     "name": "stderr",
     "output_type": "stream",
     "text": [
      " 50%|█████     | 1570/3125 [19:35<14:14,  1.82it/s]"
     ]
    },
    {
     "name": "stdout",
     "output_type": "stream",
     "text": [
      "{'loss': 2.4991, 'grad_norm': 1.2220748662948608, 'learning_rate': 2.488e-05, 'epoch': 2.51}\n"
     ]
    },
    {
     "name": "stderr",
     "output_type": "stream",
     "text": [
      " 51%|█████     | 1580/3125 [19:41<14:14,  1.81it/s]"
     ]
    },
    {
     "name": "stdout",
     "output_type": "stream",
     "text": [
      "{'loss': 2.7641, 'grad_norm': 1.169547200202942, 'learning_rate': 2.472e-05, 'epoch': 2.53}\n"
     ]
    },
    {
     "name": "stderr",
     "output_type": "stream",
     "text": [
      " 51%|█████     | 1590/3125 [19:46<14:15,  1.79it/s]"
     ]
    },
    {
     "name": "stdout",
     "output_type": "stream",
     "text": [
      "{'loss': 2.855, 'grad_norm': 1.3952263593673706, 'learning_rate': 2.4560000000000002e-05, 'epoch': 2.54}\n"
     ]
    },
    {
     "name": "stderr",
     "output_type": "stream",
     "text": [
      " 51%|█████     | 1600/3125 [19:52<14:05,  1.80it/s]"
     ]
    },
    {
     "name": "stdout",
     "output_type": "stream",
     "text": [
      "{'loss': 2.6877, 'grad_norm': 1.5248197317123413, 'learning_rate': 2.44e-05, 'epoch': 2.56}\n"
     ]
    },
    {
     "name": "stderr",
     "output_type": "stream",
     "text": [
      " 52%|█████▏    | 1610/3125 [19:58<13:59,  1.80it/s]"
     ]
    },
    {
     "name": "stdout",
     "output_type": "stream",
     "text": [
      "{'loss': 2.879, 'grad_norm': 1.479356288909912, 'learning_rate': 2.4240000000000002e-05, 'epoch': 2.58}\n"
     ]
    },
    {
     "name": "stderr",
     "output_type": "stream",
     "text": [
      " 52%|█████▏    | 1620/3125 [20:03<13:46,  1.82it/s]"
     ]
    },
    {
     "name": "stdout",
     "output_type": "stream",
     "text": [
      "{'loss': 2.6457, 'grad_norm': 1.1912308931350708, 'learning_rate': 2.408e-05, 'epoch': 2.59}\n"
     ]
    },
    {
     "name": "stderr",
     "output_type": "stream",
     "text": [
      " 52%|█████▏    | 1630/3125 [20:09<13:53,  1.79it/s]"
     ]
    },
    {
     "name": "stdout",
     "output_type": "stream",
     "text": [
      "{'loss': 2.6021, 'grad_norm': 1.9735019207000732, 'learning_rate': 2.392e-05, 'epoch': 2.61}\n"
     ]
    },
    {
     "name": "stderr",
     "output_type": "stream",
     "text": [
      " 52%|█████▏    | 1640/3125 [20:14<13:46,  1.80it/s]"
     ]
    },
    {
     "name": "stdout",
     "output_type": "stream",
     "text": [
      "{'loss': 2.5953, 'grad_norm': 1.3806490898132324, 'learning_rate': 2.3760000000000003e-05, 'epoch': 2.62}\n"
     ]
    },
    {
     "name": "stderr",
     "output_type": "stream",
     "text": [
      " 53%|█████▎    | 1650/3125 [20:20<13:35,  1.81it/s]"
     ]
    },
    {
     "name": "stdout",
     "output_type": "stream",
     "text": [
      "{'loss': 2.477, 'grad_norm': 1.242566466331482, 'learning_rate': 2.36e-05, 'epoch': 2.64}\n"
     ]
    },
    {
     "name": "stderr",
     "output_type": "stream",
     "text": [
      " 53%|█████▎    | 1660/3125 [20:25<13:36,  1.80it/s]"
     ]
    },
    {
     "name": "stdout",
     "output_type": "stream",
     "text": [
      "{'loss': 2.6953, 'grad_norm': 1.0039788484573364, 'learning_rate': 2.344e-05, 'epoch': 2.66}\n"
     ]
    },
    {
     "name": "stderr",
     "output_type": "stream",
     "text": [
      " 53%|█████▎    | 1670/3125 [20:31<13:26,  1.80it/s]"
     ]
    },
    {
     "name": "stdout",
     "output_type": "stream",
     "text": [
      "{'loss': 2.6186, 'grad_norm': 1.210381031036377, 'learning_rate': 2.328e-05, 'epoch': 2.67}\n"
     ]
    },
    {
     "name": "stderr",
     "output_type": "stream",
     "text": [
      " 54%|█████▍    | 1680/3125 [20:36<13:17,  1.81it/s]"
     ]
    },
    {
     "name": "stdout",
     "output_type": "stream",
     "text": [
      "{'loss': 2.6907, 'grad_norm': 1.16254723072052, 'learning_rate': 2.312e-05, 'epoch': 2.69}\n"
     ]
    },
    {
     "name": "stderr",
     "output_type": "stream",
     "text": [
      " 54%|█████▍    | 1690/3125 [20:42<13:18,  1.80it/s]"
     ]
    },
    {
     "name": "stdout",
     "output_type": "stream",
     "text": [
      "{'loss': 2.7195, 'grad_norm': 1.2442126274108887, 'learning_rate': 2.296e-05, 'epoch': 2.7}\n"
     ]
    },
    {
     "name": "stderr",
     "output_type": "stream",
     "text": [
      " 54%|█████▍    | 1700/3125 [20:48<13:10,  1.80it/s]"
     ]
    },
    {
     "name": "stdout",
     "output_type": "stream",
     "text": [
      "{'loss': 2.6718, 'grad_norm': 1.7196204662322998, 'learning_rate': 2.2800000000000002e-05, 'epoch': 2.72}\n"
     ]
    },
    {
     "name": "stderr",
     "output_type": "stream",
     "text": [
      " 55%|█████▍    | 1710/3125 [20:53<13:00,  1.81it/s]"
     ]
    },
    {
     "name": "stdout",
     "output_type": "stream",
     "text": [
      "{'loss': 2.5905, 'grad_norm': 1.167986273765564, 'learning_rate': 2.264e-05, 'epoch': 2.74}\n"
     ]
    },
    {
     "name": "stderr",
     "output_type": "stream",
     "text": [
      " 55%|█████▌    | 1720/3125 [20:59<13:05,  1.79it/s]"
     ]
    },
    {
     "name": "stdout",
     "output_type": "stream",
     "text": [
      "{'loss': 2.7274, 'grad_norm': 1.349905014038086, 'learning_rate': 2.248e-05, 'epoch': 2.75}\n"
     ]
    },
    {
     "name": "stderr",
     "output_type": "stream",
     "text": [
      " 55%|█████▌    | 1730/3125 [21:04<13:00,  1.79it/s]"
     ]
    },
    {
     "name": "stdout",
     "output_type": "stream",
     "text": [
      "{'loss': 2.5417, 'grad_norm': 1.103819489479065, 'learning_rate': 2.2320000000000003e-05, 'epoch': 2.77}\n"
     ]
    },
    {
     "name": "stderr",
     "output_type": "stream",
     "text": [
      " 56%|█████▌    | 1740/3125 [21:10<12:55,  1.79it/s]"
     ]
    },
    {
     "name": "stdout",
     "output_type": "stream",
     "text": [
      "{'loss': 2.6989, 'grad_norm': 1.1052353382110596, 'learning_rate': 2.216e-05, 'epoch': 2.78}\n"
     ]
    },
    {
     "name": "stderr",
     "output_type": "stream",
     "text": [
      " 56%|█████▌    | 1750/3125 [21:15<12:42,  1.80it/s]"
     ]
    },
    {
     "name": "stdout",
     "output_type": "stream",
     "text": [
      "{'loss': 2.5696, 'grad_norm': 1.1163345575332642, 'learning_rate': 2.2000000000000003e-05, 'epoch': 2.8}\n"
     ]
    },
    {
     "name": "stderr",
     "output_type": "stream",
     "text": [
      " 56%|█████▋    | 1760/3125 [21:21<12:38,  1.80it/s]"
     ]
    },
    {
     "name": "stdout",
     "output_type": "stream",
     "text": [
      "{'loss': 2.6523, 'grad_norm': 1.6369719505310059, 'learning_rate': 2.184e-05, 'epoch': 2.82}\n"
     ]
    },
    {
     "name": "stderr",
     "output_type": "stream",
     "text": [
      " 57%|█████▋    | 1770/3125 [21:26<12:29,  1.81it/s]"
     ]
    },
    {
     "name": "stdout",
     "output_type": "stream",
     "text": [
      "{'loss': 2.8646, 'grad_norm': 1.229620099067688, 'learning_rate': 2.168e-05, 'epoch': 2.83}\n"
     ]
    },
    {
     "name": "stderr",
     "output_type": "stream",
     "text": [
      " 57%|█████▋    | 1780/3125 [21:32<12:24,  1.81it/s]"
     ]
    },
    {
     "name": "stdout",
     "output_type": "stream",
     "text": [
      "{'loss': 2.5865, 'grad_norm': 1.175279140472412, 'learning_rate': 2.152e-05, 'epoch': 2.85}\n"
     ]
    },
    {
     "name": "stderr",
     "output_type": "stream",
     "text": [
      " 57%|█████▋    | 1790/3125 [21:38<12:24,  1.79it/s]"
     ]
    },
    {
     "name": "stdout",
     "output_type": "stream",
     "text": [
      "{'loss': 2.6327, 'grad_norm': 1.7581582069396973, 'learning_rate': 2.1360000000000002e-05, 'epoch': 2.86}\n"
     ]
    },
    {
     "name": "stderr",
     "output_type": "stream",
     "text": [
      " 58%|█████▊    | 1800/3125 [21:43<12:13,  1.81it/s]"
     ]
    },
    {
     "name": "stdout",
     "output_type": "stream",
     "text": [
      "{'loss': 2.6507, 'grad_norm': 1.1207284927368164, 'learning_rate': 2.12e-05, 'epoch': 2.88}\n"
     ]
    },
    {
     "name": "stderr",
     "output_type": "stream",
     "text": [
      " 58%|█████▊    | 1810/3125 [21:49<12:13,  1.79it/s]"
     ]
    },
    {
     "name": "stdout",
     "output_type": "stream",
     "text": [
      "{'loss': 2.7213, 'grad_norm': 1.1377655267715454, 'learning_rate': 2.1040000000000002e-05, 'epoch': 2.9}\n"
     ]
    },
    {
     "name": "stderr",
     "output_type": "stream",
     "text": [
      " 58%|█████▊    | 1820/3125 [21:54<11:59,  1.81it/s]"
     ]
    },
    {
     "name": "stdout",
     "output_type": "stream",
     "text": [
      "{'loss': 2.7001, 'grad_norm': 1.4851175546646118, 'learning_rate': 2.0880000000000003e-05, 'epoch': 2.91}\n"
     ]
    },
    {
     "name": "stderr",
     "output_type": "stream",
     "text": [
      " 59%|█████▊    | 1830/3125 [22:00<11:58,  1.80it/s]"
     ]
    },
    {
     "name": "stdout",
     "output_type": "stream",
     "text": [
      "{'loss': 2.6436, 'grad_norm': 1.0986897945404053, 'learning_rate': 2.072e-05, 'epoch': 2.93}\n"
     ]
    },
    {
     "name": "stderr",
     "output_type": "stream",
     "text": [
      " 59%|█████▉    | 1840/3125 [22:05<11:55,  1.80it/s]"
     ]
    },
    {
     "name": "stdout",
     "output_type": "stream",
     "text": [
      "{'loss': 2.6475, 'grad_norm': 1.139322280883789, 'learning_rate': 2.0560000000000003e-05, 'epoch': 2.94}\n"
     ]
    },
    {
     "name": "stderr",
     "output_type": "stream",
     "text": [
      " 59%|█████▉    | 1850/3125 [22:11<11:49,  1.80it/s]"
     ]
    },
    {
     "name": "stdout",
     "output_type": "stream",
     "text": [
      "{'loss': 2.7934, 'grad_norm': 1.2227907180786133, 'learning_rate': 2.04e-05, 'epoch': 2.96}\n"
     ]
    },
    {
     "name": "stderr",
     "output_type": "stream",
     "text": [
      " 60%|█████▉    | 1860/3125 [22:17<11:47,  1.79it/s]"
     ]
    },
    {
     "name": "stdout",
     "output_type": "stream",
     "text": [
      "{'loss': 2.4887, 'grad_norm': 1.2403842210769653, 'learning_rate': 2.024e-05, 'epoch': 2.98}\n"
     ]
    },
    {
     "name": "stderr",
     "output_type": "stream",
     "text": [
      " 60%|█████▉    | 1870/3125 [22:22<11:32,  1.81it/s]"
     ]
    },
    {
     "name": "stdout",
     "output_type": "stream",
     "text": [
      "{'loss': 2.5993, 'grad_norm': 1.2854622602462769, 'learning_rate': 2.008e-05, 'epoch': 2.99}\n"
     ]
    },
    {
     "name": "stderr",
     "output_type": "stream",
     "text": [
      "                                                   \n",
      " 60%|██████    | 1875/3125 [25:04<11:32,  1.81it/s]"
     ]
    },
    {
     "name": "stdout",
     "output_type": "stream",
     "text": [
      "{'eval_loss': 2.4787614345550537, 'eval_runtime': 158.7907, 'eval_samples_per_second': 41.772, 'eval_steps_per_second': 20.889, 'epoch': 3.0}\n"
     ]
    },
    {
     "name": "stderr",
     "output_type": "stream",
     "text": [
      " 60%|██████    | 1880/3125 [25:06<4:08:52, 11.99s/it] "
     ]
    },
    {
     "name": "stdout",
     "output_type": "stream",
     "text": [
      "{'loss': 2.594, 'grad_norm': 1.1126861572265625, 'learning_rate': 1.992e-05, 'epoch': 3.01}\n"
     ]
    },
    {
     "name": "stderr",
     "output_type": "stream",
     "text": [
      " 60%|██████    | 1890/3125 [25:12<18:06,  1.14it/s]  "
     ]
    },
    {
     "name": "stdout",
     "output_type": "stream",
     "text": [
      "{'loss': 2.7933, 'grad_norm': 1.1185951232910156, 'learning_rate': 1.976e-05, 'epoch': 3.02}\n"
     ]
    },
    {
     "name": "stderr",
     "output_type": "stream",
     "text": [
      " 61%|██████    | 1900/3125 [25:18<11:30,  1.77it/s]"
     ]
    },
    {
     "name": "stdout",
     "output_type": "stream",
     "text": [
      "{'loss': 2.6697, 'grad_norm': 2.2941834926605225, 'learning_rate': 1.9600000000000002e-05, 'epoch': 3.04}\n"
     ]
    },
    {
     "name": "stderr",
     "output_type": "stream",
     "text": [
      " 61%|██████    | 1910/3125 [25:23<11:16,  1.80it/s]"
     ]
    },
    {
     "name": "stdout",
     "output_type": "stream",
     "text": [
      "{'loss': 2.6306, 'grad_norm': 1.3285009860992432, 'learning_rate': 1.944e-05, 'epoch': 3.06}\n"
     ]
    },
    {
     "name": "stderr",
     "output_type": "stream",
     "text": [
      " 61%|██████▏   | 1920/3125 [25:29<11:09,  1.80it/s]"
     ]
    },
    {
     "name": "stdout",
     "output_type": "stream",
     "text": [
      "{'loss': 2.6065, 'grad_norm': 1.6597932577133179, 'learning_rate': 1.9280000000000002e-05, 'epoch': 3.07}\n"
     ]
    },
    {
     "name": "stderr",
     "output_type": "stream",
     "text": [
      " 62%|██████▏   | 1930/3125 [25:34<11:08,  1.79it/s]"
     ]
    },
    {
     "name": "stdout",
     "output_type": "stream",
     "text": [
      "{'loss': 2.7168, 'grad_norm': 1.0941805839538574, 'learning_rate': 1.9120000000000003e-05, 'epoch': 3.09}\n"
     ]
    },
    {
     "name": "stderr",
     "output_type": "stream",
     "text": [
      " 62%|██████▏   | 1940/3125 [25:40<11:00,  1.79it/s]"
     ]
    },
    {
     "name": "stdout",
     "output_type": "stream",
     "text": [
      "{'loss': 2.5294, 'grad_norm': 0.9994570016860962, 'learning_rate': 1.896e-05, 'epoch': 3.1}\n"
     ]
    },
    {
     "name": "stderr",
     "output_type": "stream",
     "text": [
      " 62%|██████▏   | 1950/3125 [25:45<10:57,  1.79it/s]"
     ]
    },
    {
     "name": "stdout",
     "output_type": "stream",
     "text": [
      "{'loss': 2.3734, 'grad_norm': 1.4012057781219482, 'learning_rate': 1.88e-05, 'epoch': 3.12}\n"
     ]
    },
    {
     "name": "stderr",
     "output_type": "stream",
     "text": [
      " 63%|██████▎   | 1960/3125 [25:51<10:46,  1.80it/s]"
     ]
    },
    {
     "name": "stdout",
     "output_type": "stream",
     "text": [
      "{'loss': 2.7677, 'grad_norm': 3.120145082473755, 'learning_rate': 1.864e-05, 'epoch': 3.14}\n"
     ]
    },
    {
     "name": "stderr",
     "output_type": "stream",
     "text": [
      " 63%|██████▎   | 1970/3125 [25:57<10:35,  1.82it/s]"
     ]
    },
    {
     "name": "stdout",
     "output_type": "stream",
     "text": [
      "{'loss': 2.4757, 'grad_norm': 1.2055995464324951, 'learning_rate': 1.848e-05, 'epoch': 3.15}\n"
     ]
    },
    {
     "name": "stderr",
     "output_type": "stream",
     "text": [
      " 63%|██████▎   | 1980/3125 [26:02<10:37,  1.79it/s]"
     ]
    },
    {
     "name": "stdout",
     "output_type": "stream",
     "text": [
      "{'loss': 2.7864, 'grad_norm': 1.1805466413497925, 'learning_rate': 1.832e-05, 'epoch': 3.17}\n"
     ]
    },
    {
     "name": "stderr",
     "output_type": "stream",
     "text": [
      " 64%|██████▎   | 1990/3125 [26:08<10:34,  1.79it/s]"
     ]
    },
    {
     "name": "stdout",
     "output_type": "stream",
     "text": [
      "{'loss': 2.7068, 'grad_norm': 1.9612706899642944, 'learning_rate': 1.8160000000000002e-05, 'epoch': 3.18}\n"
     ]
    },
    {
     "name": "stderr",
     "output_type": "stream",
     "text": [
      " 64%|██████▍   | 2000/3125 [26:13<10:24,  1.80it/s]"
     ]
    },
    {
     "name": "stdout",
     "output_type": "stream",
     "text": [
      "{'loss': 2.6195, 'grad_norm': 1.457920789718628, 'learning_rate': 1.8e-05, 'epoch': 3.2}\n"
     ]
    },
    {
     "name": "stderr",
     "output_type": "stream",
     "text": [
      " 64%|██████▍   | 2010/3125 [26:21<10:38,  1.75it/s]"
     ]
    },
    {
     "name": "stdout",
     "output_type": "stream",
     "text": [
      "{'loss': 2.7158, 'grad_norm': 1.0297938585281372, 'learning_rate': 1.7840000000000002e-05, 'epoch': 3.22}\n"
     ]
    },
    {
     "name": "stderr",
     "output_type": "stream",
     "text": [
      " 65%|██████▍   | 2020/3125 [26:27<10:16,  1.79it/s]"
     ]
    },
    {
     "name": "stdout",
     "output_type": "stream",
     "text": [
      "{'loss': 2.6539, 'grad_norm': 1.305967926979065, 'learning_rate': 1.7680000000000004e-05, 'epoch': 3.23}\n"
     ]
    },
    {
     "name": "stderr",
     "output_type": "stream",
     "text": [
      " 65%|██████▍   | 2030/3125 [26:32<10:08,  1.80it/s]"
     ]
    },
    {
     "name": "stdout",
     "output_type": "stream",
     "text": [
      "{'loss': 2.6317, 'grad_norm': 1.2902755737304688, 'learning_rate': 1.752e-05, 'epoch': 3.25}\n"
     ]
    },
    {
     "name": "stderr",
     "output_type": "stream",
     "text": [
      " 65%|██████▌   | 2040/3125 [26:38<10:06,  1.79it/s]"
     ]
    },
    {
     "name": "stdout",
     "output_type": "stream",
     "text": [
      "{'loss': 2.5106, 'grad_norm': 1.1543101072311401, 'learning_rate': 1.736e-05, 'epoch': 3.26}\n"
     ]
    },
    {
     "name": "stderr",
     "output_type": "stream",
     "text": [
      " 66%|██████▌   | 2050/3125 [26:43<09:58,  1.80it/s]"
     ]
    },
    {
     "name": "stdout",
     "output_type": "stream",
     "text": [
      "{'loss': 2.6506, 'grad_norm': 0.9976888298988342, 'learning_rate': 1.7199999999999998e-05, 'epoch': 3.28}\n"
     ]
    },
    {
     "name": "stderr",
     "output_type": "stream",
     "text": [
      " 66%|██████▌   | 2060/3125 [26:49<09:58,  1.78it/s]"
     ]
    },
    {
     "name": "stdout",
     "output_type": "stream",
     "text": [
      "{'loss': 2.581, 'grad_norm': 2.1324050426483154, 'learning_rate': 1.704e-05, 'epoch': 3.3}\n"
     ]
    },
    {
     "name": "stderr",
     "output_type": "stream",
     "text": [
      " 66%|██████▌   | 2070/3125 [26:54<09:44,  1.81it/s]"
     ]
    },
    {
     "name": "stdout",
     "output_type": "stream",
     "text": [
      "{'loss': 2.6911, 'grad_norm': 3.188343048095703, 'learning_rate': 1.688e-05, 'epoch': 3.31}\n"
     ]
    },
    {
     "name": "stderr",
     "output_type": "stream",
     "text": [
      " 67%|██████▋   | 2080/3125 [27:00<09:46,  1.78it/s]"
     ]
    },
    {
     "name": "stdout",
     "output_type": "stream",
     "text": [
      "{'loss': 2.6986, 'grad_norm': 1.3614850044250488, 'learning_rate': 1.672e-05, 'epoch': 3.33}\n"
     ]
    },
    {
     "name": "stderr",
     "output_type": "stream",
     "text": [
      " 67%|██████▋   | 2090/3125 [27:06<09:41,  1.78it/s]"
     ]
    },
    {
     "name": "stdout",
     "output_type": "stream",
     "text": [
      "{'loss': 2.7353, 'grad_norm': 1.146187424659729, 'learning_rate': 1.656e-05, 'epoch': 3.34}\n"
     ]
    },
    {
     "name": "stderr",
     "output_type": "stream",
     "text": [
      " 67%|██████▋   | 2100/3125 [27:11<09:31,  1.79it/s]"
     ]
    },
    {
     "name": "stdout",
     "output_type": "stream",
     "text": [
      "{'loss': 2.6267, 'grad_norm': 1.2263925075531006, 'learning_rate': 1.6400000000000002e-05, 'epoch': 3.36}\n"
     ]
    },
    {
     "name": "stderr",
     "output_type": "stream",
     "text": [
      " 68%|██████▊   | 2110/3125 [27:17<09:27,  1.79it/s]"
     ]
    },
    {
     "name": "stdout",
     "output_type": "stream",
     "text": [
      "{'loss': 2.681, 'grad_norm': 1.2270629405975342, 'learning_rate': 1.624e-05, 'epoch': 3.38}\n"
     ]
    },
    {
     "name": "stderr",
     "output_type": "stream",
     "text": [
      " 68%|██████▊   | 2120/3125 [27:22<09:22,  1.79it/s]"
     ]
    },
    {
     "name": "stdout",
     "output_type": "stream",
     "text": [
      "{'loss': 2.6668, 'grad_norm': 1.2755995988845825, 'learning_rate': 1.6080000000000002e-05, 'epoch': 3.39}\n"
     ]
    },
    {
     "name": "stderr",
     "output_type": "stream",
     "text": [
      " 68%|██████▊   | 2130/3125 [27:28<09:19,  1.78it/s]"
     ]
    },
    {
     "name": "stdout",
     "output_type": "stream",
     "text": [
      "{'loss': 2.6389, 'grad_norm': 1.3651829957962036, 'learning_rate': 1.592e-05, 'epoch': 3.41}\n"
     ]
    },
    {
     "name": "stderr",
     "output_type": "stream",
     "text": [
      " 68%|██████▊   | 2140/3125 [27:34<09:10,  1.79it/s]"
     ]
    },
    {
     "name": "stdout",
     "output_type": "stream",
     "text": [
      "{'loss': 2.615, 'grad_norm': 1.2184391021728516, 'learning_rate': 1.5759999999999998e-05, 'epoch': 3.42}\n"
     ]
    },
    {
     "name": "stderr",
     "output_type": "stream",
     "text": [
      " 69%|██████▉   | 2150/3125 [27:39<09:07,  1.78it/s]"
     ]
    },
    {
     "name": "stdout",
     "output_type": "stream",
     "text": [
      "{'loss': 2.6891, 'grad_norm': 1.2164626121520996, 'learning_rate': 1.56e-05, 'epoch': 3.44}\n"
     ]
    },
    {
     "name": "stderr",
     "output_type": "stream",
     "text": [
      " 69%|██████▉   | 2160/3125 [27:45<08:53,  1.81it/s]"
     ]
    },
    {
     "name": "stdout",
     "output_type": "stream",
     "text": [
      "{'loss': 2.6275, 'grad_norm': 1.142437219619751, 'learning_rate': 1.544e-05, 'epoch': 3.46}\n"
     ]
    },
    {
     "name": "stderr",
     "output_type": "stream",
     "text": [
      " 69%|██████▉   | 2170/3125 [27:50<08:56,  1.78it/s]"
     ]
    },
    {
     "name": "stdout",
     "output_type": "stream",
     "text": [
      "{'loss': 2.639, 'grad_norm': 1.4545658826828003, 'learning_rate': 1.528e-05, 'epoch': 3.47}\n"
     ]
    },
    {
     "name": "stderr",
     "output_type": "stream",
     "text": [
      " 70%|██████▉   | 2180/3125 [27:56<08:46,  1.79it/s]"
     ]
    },
    {
     "name": "stdout",
     "output_type": "stream",
     "text": [
      "{'loss': 2.7063, 'grad_norm': 2.071748971939087, 'learning_rate': 1.5120000000000001e-05, 'epoch': 3.49}\n"
     ]
    },
    {
     "name": "stderr",
     "output_type": "stream",
     "text": [
      " 70%|███████   | 2190/3125 [28:02<08:45,  1.78it/s]"
     ]
    },
    {
     "name": "stdout",
     "output_type": "stream",
     "text": [
      "{'loss': 2.6533, 'grad_norm': 1.1521766185760498, 'learning_rate': 1.4960000000000002e-05, 'epoch': 3.5}\n"
     ]
    },
    {
     "name": "stderr",
     "output_type": "stream",
     "text": [
      " 70%|███████   | 2200/3125 [28:07<08:30,  1.81it/s]"
     ]
    },
    {
     "name": "stdout",
     "output_type": "stream",
     "text": [
      "{'loss': 2.4943, 'grad_norm': 1.8824580907821655, 'learning_rate': 1.48e-05, 'epoch': 3.52}\n"
     ]
    },
    {
     "name": "stderr",
     "output_type": "stream",
     "text": [
      " 71%|███████   | 2210/3125 [28:13<08:32,  1.78it/s]"
     ]
    },
    {
     "name": "stdout",
     "output_type": "stream",
     "text": [
      "{'loss': 2.5434, 'grad_norm': 2.1496925354003906, 'learning_rate': 1.464e-05, 'epoch': 3.54}\n"
     ]
    },
    {
     "name": "stderr",
     "output_type": "stream",
     "text": [
      " 71%|███████   | 2220/3125 [28:18<08:23,  1.80it/s]"
     ]
    },
    {
     "name": "stdout",
     "output_type": "stream",
     "text": [
      "{'loss': 2.551, 'grad_norm': 2.425246238708496, 'learning_rate': 1.4480000000000002e-05, 'epoch': 3.55}\n"
     ]
    },
    {
     "name": "stderr",
     "output_type": "stream",
     "text": [
      " 71%|███████▏  | 2230/3125 [28:24<08:22,  1.78it/s]"
     ]
    },
    {
     "name": "stdout",
     "output_type": "stream",
     "text": [
      "{'loss': 2.5746, 'grad_norm': 1.094389796257019, 'learning_rate': 1.432e-05, 'epoch': 3.57}\n"
     ]
    },
    {
     "name": "stderr",
     "output_type": "stream",
     "text": [
      " 72%|███████▏  | 2240/3125 [28:30<08:17,  1.78it/s]"
     ]
    },
    {
     "name": "stdout",
     "output_type": "stream",
     "text": [
      "{'loss': 2.7692, 'grad_norm': 1.0959571599960327, 'learning_rate': 1.4160000000000002e-05, 'epoch': 3.58}\n"
     ]
    },
    {
     "name": "stderr",
     "output_type": "stream",
     "text": [
      " 72%|███████▏  | 2250/3125 [28:35<08:11,  1.78it/s]"
     ]
    },
    {
     "name": "stdout",
     "output_type": "stream",
     "text": [
      "{'loss': 2.6642, 'grad_norm': 1.2818366289138794, 'learning_rate': 1.4000000000000001e-05, 'epoch': 3.6}\n"
     ]
    },
    {
     "name": "stderr",
     "output_type": "stream",
     "text": [
      " 72%|███████▏  | 2260/3125 [28:41<08:02,  1.79it/s]"
     ]
    },
    {
     "name": "stdout",
     "output_type": "stream",
     "text": [
      "{'loss': 2.6747, 'grad_norm': 1.2477939128875732, 'learning_rate': 1.384e-05, 'epoch': 3.62}\n"
     ]
    },
    {
     "name": "stderr",
     "output_type": "stream",
     "text": [
      " 73%|███████▎  | 2270/3125 [28:46<07:55,  1.80it/s]"
     ]
    },
    {
     "name": "stdout",
     "output_type": "stream",
     "text": [
      "{'loss': 2.6415, 'grad_norm': 1.3379243612289429, 'learning_rate': 1.3680000000000001e-05, 'epoch': 3.63}\n"
     ]
    },
    {
     "name": "stderr",
     "output_type": "stream",
     "text": [
      " 73%|███████▎  | 2280/3125 [28:52<07:54,  1.78it/s]"
     ]
    },
    {
     "name": "stdout",
     "output_type": "stream",
     "text": [
      "{'loss': 2.6156, 'grad_norm': 1.5055785179138184, 'learning_rate': 1.352e-05, 'epoch': 3.65}\n"
     ]
    },
    {
     "name": "stderr",
     "output_type": "stream",
     "text": [
      " 73%|███████▎  | 2290/3125 [28:58<07:49,  1.78it/s]"
     ]
    },
    {
     "name": "stdout",
     "output_type": "stream",
     "text": [
      "{'loss': 2.669, 'grad_norm': 1.1657729148864746, 'learning_rate': 1.336e-05, 'epoch': 3.66}\n"
     ]
    },
    {
     "name": "stderr",
     "output_type": "stream",
     "text": [
      " 74%|███████▎  | 2300/3125 [29:03<07:41,  1.79it/s]"
     ]
    },
    {
     "name": "stdout",
     "output_type": "stream",
     "text": [
      "{'loss': 2.6153, 'grad_norm': 1.3649550676345825, 'learning_rate': 1.32e-05, 'epoch': 3.68}\n"
     ]
    },
    {
     "name": "stderr",
     "output_type": "stream",
     "text": [
      " 74%|███████▍  | 2310/3125 [29:09<07:38,  1.78it/s]"
     ]
    },
    {
     "name": "stdout",
     "output_type": "stream",
     "text": [
      "{'loss': 2.579, 'grad_norm': 2.1981852054595947, 'learning_rate': 1.3039999999999999e-05, 'epoch': 3.7}\n"
     ]
    },
    {
     "name": "stderr",
     "output_type": "stream",
     "text": [
      " 74%|███████▍  | 2320/3125 [29:14<07:29,  1.79it/s]"
     ]
    },
    {
     "name": "stdout",
     "output_type": "stream",
     "text": [
      "{'loss': 2.6382, 'grad_norm': 1.229109764099121, 'learning_rate': 1.288e-05, 'epoch': 3.71}\n"
     ]
    },
    {
     "name": "stderr",
     "output_type": "stream",
     "text": [
      " 75%|███████▍  | 2330/3125 [29:20<07:25,  1.79it/s]"
     ]
    },
    {
     "name": "stdout",
     "output_type": "stream",
     "text": [
      "{'loss': 2.5923, 'grad_norm': 1.057201862335205, 'learning_rate': 1.2720000000000002e-05, 'epoch': 3.73}\n"
     ]
    },
    {
     "name": "stderr",
     "output_type": "stream",
     "text": [
      " 75%|███████▍  | 2340/3125 [29:26<07:18,  1.79it/s]"
     ]
    },
    {
     "name": "stdout",
     "output_type": "stream",
     "text": [
      "{'loss': 2.6338, 'grad_norm': 2.195485830307007, 'learning_rate': 1.256e-05, 'epoch': 3.74}\n"
     ]
    },
    {
     "name": "stderr",
     "output_type": "stream",
     "text": [
      " 75%|███████▌  | 2350/3125 [29:31<07:11,  1.79it/s]"
     ]
    },
    {
     "name": "stdout",
     "output_type": "stream",
     "text": [
      "{'loss': 2.7692, 'grad_norm': 2.9134488105773926, 'learning_rate': 1.24e-05, 'epoch': 3.76}\n"
     ]
    },
    {
     "name": "stderr",
     "output_type": "stream",
     "text": [
      " 76%|███████▌  | 2360/3125 [29:37<07:08,  1.78it/s]"
     ]
    },
    {
     "name": "stdout",
     "output_type": "stream",
     "text": [
      "{'loss': 2.7453, 'grad_norm': 1.2388935089111328, 'learning_rate': 1.224e-05, 'epoch': 3.78}\n"
     ]
    },
    {
     "name": "stderr",
     "output_type": "stream",
     "text": [
      " 76%|███████▌  | 2370/3125 [29:42<07:03,  1.78it/s]"
     ]
    },
    {
     "name": "stdout",
     "output_type": "stream",
     "text": [
      "{'loss': 2.7395, 'grad_norm': 1.4665086269378662, 'learning_rate': 1.2080000000000001e-05, 'epoch': 3.79}\n"
     ]
    },
    {
     "name": "stderr",
     "output_type": "stream",
     "text": [
      " 76%|███████▌  | 2380/3125 [29:48<06:55,  1.79it/s]"
     ]
    },
    {
     "name": "stdout",
     "output_type": "stream",
     "text": [
      "{'loss': 2.5677, 'grad_norm': 1.1651580333709717, 'learning_rate': 1.1920000000000001e-05, 'epoch': 3.81}\n"
     ]
    },
    {
     "name": "stderr",
     "output_type": "stream",
     "text": [
      " 76%|███████▋  | 2390/3125 [29:54<06:52,  1.78it/s]"
     ]
    },
    {
     "name": "stdout",
     "output_type": "stream",
     "text": [
      "{'loss': 2.5915, 'grad_norm': 1.19627845287323, 'learning_rate': 1.1760000000000001e-05, 'epoch': 3.82}\n"
     ]
    },
    {
     "name": "stderr",
     "output_type": "stream",
     "text": [
      " 77%|███████▋  | 2400/3125 [29:59<06:47,  1.78it/s]"
     ]
    },
    {
     "name": "stdout",
     "output_type": "stream",
     "text": [
      "{'loss': 2.6867, 'grad_norm': 1.454719066619873, 'learning_rate': 1.16e-05, 'epoch': 3.84}\n"
     ]
    },
    {
     "name": "stderr",
     "output_type": "stream",
     "text": [
      " 77%|███████▋  | 2410/3125 [30:05<06:41,  1.78it/s]"
     ]
    },
    {
     "name": "stdout",
     "output_type": "stream",
     "text": [
      "{'loss': 2.5723, 'grad_norm': 1.0745985507965088, 'learning_rate': 1.144e-05, 'epoch': 3.86}\n"
     ]
    },
    {
     "name": "stderr",
     "output_type": "stream",
     "text": [
      " 77%|███████▋  | 2420/3125 [30:10<06:34,  1.79it/s]"
     ]
    },
    {
     "name": "stdout",
     "output_type": "stream",
     "text": [
      "{'loss': 2.6656, 'grad_norm': 1.0537793636322021, 'learning_rate': 1.128e-05, 'epoch': 3.87}\n"
     ]
    },
    {
     "name": "stderr",
     "output_type": "stream",
     "text": [
      " 78%|███████▊  | 2430/3125 [30:16<06:30,  1.78it/s]"
     ]
    },
    {
     "name": "stdout",
     "output_type": "stream",
     "text": [
      "{'loss': 2.594, 'grad_norm': 1.4035862684249878, 'learning_rate': 1.112e-05, 'epoch': 3.89}\n"
     ]
    },
    {
     "name": "stderr",
     "output_type": "stream",
     "text": [
      " 78%|███████▊  | 2440/3125 [30:22<06:25,  1.78it/s]"
     ]
    },
    {
     "name": "stdout",
     "output_type": "stream",
     "text": [
      "{'loss': 2.9199, 'grad_norm': 1.235671043395996, 'learning_rate': 1.096e-05, 'epoch': 3.9}\n"
     ]
    },
    {
     "name": "stderr",
     "output_type": "stream",
     "text": [
      " 78%|███████▊  | 2450/3125 [30:27<06:20,  1.78it/s]"
     ]
    },
    {
     "name": "stdout",
     "output_type": "stream",
     "text": [
      "{'loss': 2.5825, 'grad_norm': 1.3938524723052979, 'learning_rate': 1.08e-05, 'epoch': 3.92}\n"
     ]
    },
    {
     "name": "stderr",
     "output_type": "stream",
     "text": [
      " 79%|███████▊  | 2460/3125 [30:33<06:14,  1.78it/s]"
     ]
    },
    {
     "name": "stdout",
     "output_type": "stream",
     "text": [
      "{'loss': 2.6868, 'grad_norm': 1.2350364923477173, 'learning_rate': 1.064e-05, 'epoch': 3.94}\n"
     ]
    },
    {
     "name": "stderr",
     "output_type": "stream",
     "text": [
      " 79%|███████▉  | 2470/3125 [30:39<06:09,  1.77it/s]"
     ]
    },
    {
     "name": "stdout",
     "output_type": "stream",
     "text": [
      "{'loss': 2.5848, 'grad_norm': 1.2489622831344604, 'learning_rate': 1.0480000000000001e-05, 'epoch': 3.95}\n"
     ]
    },
    {
     "name": "stderr",
     "output_type": "stream",
     "text": [
      " 79%|███████▉  | 2480/3125 [30:44<06:03,  1.78it/s]"
     ]
    },
    {
     "name": "stdout",
     "output_type": "stream",
     "text": [
      "{'loss': 2.6653, 'grad_norm': 1.5052516460418701, 'learning_rate': 1.0320000000000001e-05, 'epoch': 3.97}\n"
     ]
    },
    {
     "name": "stderr",
     "output_type": "stream",
     "text": [
      " 80%|███████▉  | 2490/3125 [30:50<05:57,  1.78it/s]"
     ]
    },
    {
     "name": "stdout",
     "output_type": "stream",
     "text": [
      "{'loss': 2.7528, 'grad_norm': 1.5789176225662231, 'learning_rate': 1.016e-05, 'epoch': 3.98}\n"
     ]
    },
    {
     "name": "stderr",
     "output_type": "stream",
     "text": [
      " 80%|████████  | 2500/3125 [30:55<05:52,  1.77it/s]"
     ]
    },
    {
     "name": "stdout",
     "output_type": "stream",
     "text": [
      "{'loss': 2.6759, 'grad_norm': 1.2309482097625732, 'learning_rate': 1e-05, 'epoch': 4.0}\n"
     ]
    },
    {
     "name": "stderr",
     "output_type": "stream",
     "text": [
      "                                                   \n",
      " 80%|████████  | 2500/3125 [33:39<05:52,  1.77it/s]"
     ]
    },
    {
     "name": "stdout",
     "output_type": "stream",
     "text": [
      "{'eval_loss': 2.463519334793091, 'eval_runtime': 161.7751, 'eval_samples_per_second': 41.001, 'eval_steps_per_second': 20.504, 'epoch': 4.0}\n"
     ]
    },
    {
     "name": "stderr",
     "output_type": "stream",
     "text": [
      " 80%|████████  | 2510/3125 [33:45<26:04,  2.54s/it]  "
     ]
    },
    {
     "name": "stdout",
     "output_type": "stream",
     "text": [
      "{'loss': 2.646, 'grad_norm': 1.2661010026931763, 'learning_rate': 9.84e-06, 'epoch': 4.02}\n"
     ]
    },
    {
     "name": "stderr",
     "output_type": "stream",
     "text": [
      " 81%|████████  | 2520/3125 [33:51<06:14,  1.61it/s]"
     ]
    },
    {
     "name": "stdout",
     "output_type": "stream",
     "text": [
      "{'loss': 2.5694, 'grad_norm': 1.6621074676513672, 'learning_rate': 9.68e-06, 'epoch': 4.03}\n"
     ]
    },
    {
     "name": "stderr",
     "output_type": "stream",
     "text": [
      " 81%|████████  | 2530/3125 [33:56<05:36,  1.77it/s]"
     ]
    },
    {
     "name": "stdout",
     "output_type": "stream",
     "text": [
      "{'loss': 2.4999, 'grad_norm': 1.188797116279602, 'learning_rate': 9.52e-06, 'epoch': 4.05}\n"
     ]
    },
    {
     "name": "stderr",
     "output_type": "stream",
     "text": [
      " 81%|████████▏ | 2540/3125 [34:02<05:30,  1.77it/s]"
     ]
    },
    {
     "name": "stdout",
     "output_type": "stream",
     "text": [
      "{'loss': 2.6092, 'grad_norm': 1.0050065517425537, 'learning_rate': 9.36e-06, 'epoch': 4.06}\n"
     ]
    },
    {
     "name": "stderr",
     "output_type": "stream",
     "text": [
      " 82%|████████▏ | 2550/3125 [34:07<05:29,  1.74it/s]"
     ]
    },
    {
     "name": "stdout",
     "output_type": "stream",
     "text": [
      "{'loss': 2.6064, 'grad_norm': 1.220205545425415, 'learning_rate': 9.2e-06, 'epoch': 4.08}\n"
     ]
    },
    {
     "name": "stderr",
     "output_type": "stream",
     "text": [
      " 82%|████████▏ | 2560/3125 [34:13<05:29,  1.71it/s]"
     ]
    },
    {
     "name": "stdout",
     "output_type": "stream",
     "text": [
      "{'loss': 2.7911, 'grad_norm': 1.3152581453323364, 'learning_rate': 9.04e-06, 'epoch': 4.1}\n"
     ]
    },
    {
     "name": "stderr",
     "output_type": "stream",
     "text": [
      " 82%|████████▏ | 2570/3125 [34:19<05:17,  1.75it/s]"
     ]
    },
    {
     "name": "stdout",
     "output_type": "stream",
     "text": [
      "{'loss': 2.574, 'grad_norm': 1.0924042463302612, 'learning_rate': 8.880000000000001e-06, 'epoch': 4.11}\n"
     ]
    },
    {
     "name": "stderr",
     "output_type": "stream",
     "text": [
      " 83%|████████▎ | 2580/3125 [34:25<05:07,  1.77it/s]"
     ]
    },
    {
     "name": "stdout",
     "output_type": "stream",
     "text": [
      "{'loss': 2.6973, 'grad_norm': 1.27700936794281, 'learning_rate': 8.720000000000001e-06, 'epoch': 4.13}\n"
     ]
    },
    {
     "name": "stderr",
     "output_type": "stream",
     "text": [
      " 83%|████████▎ | 2590/3125 [34:30<05:01,  1.77it/s]"
     ]
    },
    {
     "name": "stdout",
     "output_type": "stream",
     "text": [
      "{'loss': 2.5948, 'grad_norm': 1.3592640161514282, 'learning_rate': 8.56e-06, 'epoch': 4.14}\n"
     ]
    },
    {
     "name": "stderr",
     "output_type": "stream",
     "text": [
      " 83%|████████▎ | 2600/3125 [34:36<04:56,  1.77it/s]"
     ]
    },
    {
     "name": "stdout",
     "output_type": "stream",
     "text": [
      "{'loss': 2.689, 'grad_norm': 1.3877639770507812, 'learning_rate': 8.400000000000001e-06, 'epoch': 4.16}\n"
     ]
    },
    {
     "name": "stderr",
     "output_type": "stream",
     "text": [
      " 84%|████████▎ | 2610/3125 [34:42<04:50,  1.77it/s]"
     ]
    },
    {
     "name": "stdout",
     "output_type": "stream",
     "text": [
      "{'loss': 2.54, 'grad_norm': 1.359564185142517, 'learning_rate': 8.24e-06, 'epoch': 4.18}\n"
     ]
    },
    {
     "name": "stderr",
     "output_type": "stream",
     "text": [
      " 84%|████████▍ | 2620/3125 [34:47<04:50,  1.74it/s]"
     ]
    },
    {
     "name": "stdout",
     "output_type": "stream",
     "text": [
      "{'loss': 2.7511, 'grad_norm': 1.5967572927474976, 'learning_rate': 8.08e-06, 'epoch': 4.19}\n"
     ]
    },
    {
     "name": "stderr",
     "output_type": "stream",
     "text": [
      " 84%|████████▍ | 2630/3125 [34:53<04:48,  1.72it/s]"
     ]
    },
    {
     "name": "stdout",
     "output_type": "stream",
     "text": [
      "{'loss': 2.5466, 'grad_norm': 1.2995669841766357, 'learning_rate': 7.92e-06, 'epoch': 4.21}\n"
     ]
    },
    {
     "name": "stderr",
     "output_type": "stream",
     "text": [
      " 84%|████████▍ | 2640/3125 [34:59<04:37,  1.75it/s]"
     ]
    },
    {
     "name": "stdout",
     "output_type": "stream",
     "text": [
      "{'loss': 2.4043, 'grad_norm': 1.0973511934280396, 'learning_rate': 7.76e-06, 'epoch': 4.22}\n"
     ]
    },
    {
     "name": "stderr",
     "output_type": "stream",
     "text": [
      " 85%|████████▍ | 2650/3125 [35:05<04:40,  1.69it/s]"
     ]
    },
    {
     "name": "stdout",
     "output_type": "stream",
     "text": [
      "{'loss': 2.4558, 'grad_norm': 1.2265106439590454, 'learning_rate': 7.6e-06, 'epoch': 4.24}\n"
     ]
    },
    {
     "name": "stderr",
     "output_type": "stream",
     "text": [
      " 85%|████████▌ | 2660/3125 [35:11<04:22,  1.77it/s]"
     ]
    },
    {
     "name": "stdout",
     "output_type": "stream",
     "text": [
      "{'loss': 2.6603, 'grad_norm': 1.2126096487045288, 'learning_rate': 7.44e-06, 'epoch': 4.26}\n"
     ]
    },
    {
     "name": "stderr",
     "output_type": "stream",
     "text": [
      " 85%|████████▌ | 2670/3125 [35:16<04:16,  1.77it/s]"
     ]
    },
    {
     "name": "stdout",
     "output_type": "stream",
     "text": [
      "{'loss': 2.5848, 'grad_norm': 1.178654432296753, 'learning_rate': 7.280000000000001e-06, 'epoch': 4.27}\n"
     ]
    },
    {
     "name": "stderr",
     "output_type": "stream",
     "text": [
      " 86%|████████▌ | 2680/3125 [35:22<04:11,  1.77it/s]"
     ]
    },
    {
     "name": "stdout",
     "output_type": "stream",
     "text": [
      "{'loss': 2.5901, 'grad_norm': 1.1586891412734985, 'learning_rate': 7.1200000000000004e-06, 'epoch': 4.29}\n"
     ]
    },
    {
     "name": "stderr",
     "output_type": "stream",
     "text": [
      " 86%|████████▌ | 2690/3125 [35:28<04:04,  1.78it/s]"
     ]
    },
    {
     "name": "stdout",
     "output_type": "stream",
     "text": [
      "{'loss': 2.5798, 'grad_norm': 1.2434605360031128, 'learning_rate': 6.9599999999999994e-06, 'epoch': 4.3}\n"
     ]
    },
    {
     "name": "stderr",
     "output_type": "stream",
     "text": [
      " 86%|████████▋ | 2700/3125 [35:33<04:00,  1.77it/s]"
     ]
    },
    {
     "name": "stdout",
     "output_type": "stream",
     "text": [
      "{'loss': 2.7101, 'grad_norm': 1.0684524774551392, 'learning_rate': 6.800000000000001e-06, 'epoch': 4.32}\n"
     ]
    },
    {
     "name": "stderr",
     "output_type": "stream",
     "text": [
      " 87%|████████▋ | 2710/3125 [35:39<03:54,  1.77it/s]"
     ]
    },
    {
     "name": "stdout",
     "output_type": "stream",
     "text": [
      "{'loss': 2.5804, 'grad_norm': 3.2239935398101807, 'learning_rate': 6.640000000000001e-06, 'epoch': 4.34}\n"
     ]
    },
    {
     "name": "stderr",
     "output_type": "stream",
     "text": [
      " 87%|████████▋ | 2720/3125 [35:45<03:52,  1.75it/s]"
     ]
    },
    {
     "name": "stdout",
     "output_type": "stream",
     "text": [
      "{'loss': 2.6988, 'grad_norm': 1.1651456356048584, 'learning_rate': 6.48e-06, 'epoch': 4.35}\n"
     ]
    },
    {
     "name": "stderr",
     "output_type": "stream",
     "text": [
      " 87%|████████▋ | 2730/3125 [35:50<03:43,  1.77it/s]"
     ]
    },
    {
     "name": "stdout",
     "output_type": "stream",
     "text": [
      "{'loss': 2.5975, 'grad_norm': 1.2087290287017822, 'learning_rate': 6.320000000000001e-06, 'epoch': 4.37}\n"
     ]
    },
    {
     "name": "stderr",
     "output_type": "stream",
     "text": [
      " 88%|████████▊ | 2740/3125 [35:56<03:43,  1.72it/s]"
     ]
    },
    {
     "name": "stdout",
     "output_type": "stream",
     "text": [
      "{'loss': 2.7575, 'grad_norm': 1.6353785991668701, 'learning_rate': 6.16e-06, 'epoch': 4.38}\n"
     ]
    },
    {
     "name": "stderr",
     "output_type": "stream",
     "text": [
      " 88%|████████▊ | 2750/3125 [36:02<03:35,  1.74it/s]"
     ]
    },
    {
     "name": "stdout",
     "output_type": "stream",
     "text": [
      "{'loss': 2.7565, 'grad_norm': 1.1964031457901, 'learning_rate': 6e-06, 'epoch': 4.4}\n"
     ]
    },
    {
     "name": "stderr",
     "output_type": "stream",
     "text": [
      " 88%|████████▊ | 2760/3125 [36:08<03:38,  1.67it/s]"
     ]
    },
    {
     "name": "stdout",
     "output_type": "stream",
     "text": [
      "{'loss': 2.5389, 'grad_norm': 1.1021982431411743, 'learning_rate': 5.84e-06, 'epoch': 4.42}\n"
     ]
    },
    {
     "name": "stderr",
     "output_type": "stream",
     "text": [
      " 89%|████████▊ | 2770/3125 [36:15<03:43,  1.59it/s]"
     ]
    },
    {
     "name": "stdout",
     "output_type": "stream",
     "text": [
      "{'loss': 2.8916, 'grad_norm': 1.1976410150527954, 'learning_rate': 5.680000000000001e-06, 'epoch': 4.43}\n"
     ]
    },
    {
     "name": "stderr",
     "output_type": "stream",
     "text": [
      " 89%|████████▉ | 2780/3125 [36:20<03:16,  1.75it/s]"
     ]
    },
    {
     "name": "stdout",
     "output_type": "stream",
     "text": [
      "{'loss': 2.6649, 'grad_norm': 1.1908082962036133, 'learning_rate': 5.5200000000000005e-06, 'epoch': 4.45}\n"
     ]
    },
    {
     "name": "stderr",
     "output_type": "stream",
     "text": [
      " 89%|████████▉ | 2790/3125 [36:26<03:14,  1.73it/s]"
     ]
    },
    {
     "name": "stdout",
     "output_type": "stream",
     "text": [
      "{'loss': 2.6946, 'grad_norm': 1.2623149156570435, 'learning_rate': 5.36e-06, 'epoch': 4.46}\n"
     ]
    },
    {
     "name": "stderr",
     "output_type": "stream",
     "text": [
      " 90%|████████▉ | 2800/3125 [36:32<03:09,  1.71it/s]"
     ]
    },
    {
     "name": "stdout",
     "output_type": "stream",
     "text": [
      "{'loss': 2.6155, 'grad_norm': 1.6947910785675049, 'learning_rate': 5.2e-06, 'epoch': 4.48}\n"
     ]
    },
    {
     "name": "stderr",
     "output_type": "stream",
     "text": [
      " 90%|████████▉ | 2810/3125 [36:38<02:59,  1.75it/s]"
     ]
    },
    {
     "name": "stdout",
     "output_type": "stream",
     "text": [
      "{'loss': 2.6148, 'grad_norm': 1.5753790140151978, 'learning_rate': 5.04e-06, 'epoch': 4.5}\n"
     ]
    },
    {
     "name": "stderr",
     "output_type": "stream",
     "text": [
      " 90%|█████████ | 2820/3125 [36:44<03:15,  1.56it/s]"
     ]
    },
    {
     "name": "stdout",
     "output_type": "stream",
     "text": [
      "{'loss': 2.6422, 'grad_norm': 1.2167751789093018, 'learning_rate': 4.880000000000001e-06, 'epoch': 4.51}\n"
     ]
    },
    {
     "name": "stderr",
     "output_type": "stream",
     "text": [
      " 91%|█████████ | 2830/3125 [36:50<02:52,  1.71it/s]"
     ]
    },
    {
     "name": "stdout",
     "output_type": "stream",
     "text": [
      "{'loss': 2.6573, 'grad_norm': 1.211720585823059, 'learning_rate': 4.72e-06, 'epoch': 4.53}\n"
     ]
    },
    {
     "name": "stderr",
     "output_type": "stream",
     "text": [
      " 91%|█████████ | 2840/3125 [36:55<02:44,  1.73it/s]"
     ]
    },
    {
     "name": "stdout",
     "output_type": "stream",
     "text": [
      "{'loss': 2.6653, 'grad_norm': 1.088525414466858, 'learning_rate': 4.56e-06, 'epoch': 4.54}\n"
     ]
    },
    {
     "name": "stderr",
     "output_type": "stream",
     "text": [
      " 91%|█████████ | 2850/3125 [37:01<02:36,  1.76it/s]"
     ]
    },
    {
     "name": "stdout",
     "output_type": "stream",
     "text": [
      "{'loss': 2.675, 'grad_norm': 1.1953636407852173, 'learning_rate': 4.4e-06, 'epoch': 4.56}\n"
     ]
    },
    {
     "name": "stderr",
     "output_type": "stream",
     "text": [
      " 92%|█████████▏| 2860/3125 [37:07<02:30,  1.76it/s]"
     ]
    },
    {
     "name": "stdout",
     "output_type": "stream",
     "text": [
      "{'loss': 2.6105, 'grad_norm': 1.166929006576538, 'learning_rate': 4.24e-06, 'epoch': 4.58}\n"
     ]
    },
    {
     "name": "stderr",
     "output_type": "stream",
     "text": [
      " 92%|█████████▏| 2870/3125 [37:13<02:24,  1.77it/s]"
     ]
    },
    {
     "name": "stdout",
     "output_type": "stream",
     "text": [
      "{'loss': 2.5017, 'grad_norm': 1.0912318229675293, 'learning_rate': 4.080000000000001e-06, 'epoch': 4.59}\n"
     ]
    },
    {
     "name": "stderr",
     "output_type": "stream",
     "text": [
      " 92%|█████████▏| 2880/3125 [37:18<02:19,  1.75it/s]"
     ]
    },
    {
     "name": "stdout",
     "output_type": "stream",
     "text": [
      "{'loss': 2.629, 'grad_norm': 1.5073872804641724, 'learning_rate': 3.92e-06, 'epoch': 4.61}\n"
     ]
    },
    {
     "name": "stderr",
     "output_type": "stream",
     "text": [
      " 92%|█████████▏| 2890/3125 [37:24<02:13,  1.77it/s]"
     ]
    },
    {
     "name": "stdout",
     "output_type": "stream",
     "text": [
      "{'loss': 2.4014, 'grad_norm': 1.804223656654358, 'learning_rate': 3.7600000000000004e-06, 'epoch': 4.62}\n"
     ]
    },
    {
     "name": "stderr",
     "output_type": "stream",
     "text": [
      " 93%|█████████▎| 2900/3125 [37:30<02:07,  1.77it/s]"
     ]
    },
    {
     "name": "stdout",
     "output_type": "stream",
     "text": [
      "{'loss': 2.4204, 'grad_norm': 1.1519112586975098, 'learning_rate': 3.6e-06, 'epoch': 4.64}\n"
     ]
    },
    {
     "name": "stderr",
     "output_type": "stream",
     "text": [
      " 93%|█████████▎| 2910/3125 [37:35<02:01,  1.77it/s]"
     ]
    },
    {
     "name": "stdout",
     "output_type": "stream",
     "text": [
      "{'loss': 2.6844, 'grad_norm': 1.3767077922821045, 'learning_rate': 3.44e-06, 'epoch': 4.66}\n"
     ]
    },
    {
     "name": "stderr",
     "output_type": "stream",
     "text": [
      " 93%|█████████▎| 2920/3125 [37:41<01:55,  1.78it/s]"
     ]
    },
    {
     "name": "stdout",
     "output_type": "stream",
     "text": [
      "{'loss': 2.597, 'grad_norm': 1.2082629203796387, 'learning_rate': 3.2800000000000004e-06, 'epoch': 4.67}\n"
     ]
    },
    {
     "name": "stderr",
     "output_type": "stream",
     "text": [
      " 94%|█████████▍| 2930/3125 [37:47<01:49,  1.77it/s]"
     ]
    },
    {
     "name": "stdout",
     "output_type": "stream",
     "text": [
      "{'loss': 2.5704, 'grad_norm': 1.1871880292892456, 'learning_rate': 3.12e-06, 'epoch': 4.69}\n"
     ]
    },
    {
     "name": "stderr",
     "output_type": "stream",
     "text": [
      " 94%|█████████▍| 2940/3125 [37:52<01:44,  1.77it/s]"
     ]
    },
    {
     "name": "stdout",
     "output_type": "stream",
     "text": [
      "{'loss': 2.6809, 'grad_norm': 1.1327636241912842, 'learning_rate': 2.9600000000000005e-06, 'epoch': 4.7}\n"
     ]
    },
    {
     "name": "stderr",
     "output_type": "stream",
     "text": [
      " 94%|█████████▍| 2950/3125 [37:58<01:38,  1.78it/s]"
     ]
    },
    {
     "name": "stdout",
     "output_type": "stream",
     "text": [
      "{'loss': 2.7698, 'grad_norm': 2.7857537269592285, 'learning_rate': 2.8000000000000003e-06, 'epoch': 4.72}\n"
     ]
    },
    {
     "name": "stderr",
     "output_type": "stream",
     "text": [
      " 95%|█████████▍| 2960/3125 [38:03<01:33,  1.77it/s]"
     ]
    },
    {
     "name": "stdout",
     "output_type": "stream",
     "text": [
      "{'loss': 2.5513, 'grad_norm': 1.6664354801177979, 'learning_rate': 2.64e-06, 'epoch': 4.74}\n"
     ]
    },
    {
     "name": "stderr",
     "output_type": "stream",
     "text": [
      " 95%|█████████▌| 2970/3125 [38:09<01:27,  1.77it/s]"
     ]
    },
    {
     "name": "stdout",
     "output_type": "stream",
     "text": [
      "{'loss': 2.6468, 'grad_norm': 1.2445082664489746, 'learning_rate': 2.48e-06, 'epoch': 4.75}\n"
     ]
    },
    {
     "name": "stderr",
     "output_type": "stream",
     "text": [
      " 95%|█████████▌| 2980/3125 [38:15<01:21,  1.78it/s]"
     ]
    },
    {
     "name": "stdout",
     "output_type": "stream",
     "text": [
      "{'loss': 2.6853, 'grad_norm': 3.2957611083984375, 'learning_rate': 2.32e-06, 'epoch': 4.77}\n"
     ]
    },
    {
     "name": "stderr",
     "output_type": "stream",
     "text": [
      " 96%|█████████▌| 2990/3125 [38:20<01:16,  1.77it/s]"
     ]
    },
    {
     "name": "stdout",
     "output_type": "stream",
     "text": [
      "{'loss': 2.6053, 'grad_norm': 1.2872693538665771, 'learning_rate': 2.16e-06, 'epoch': 4.78}\n"
     ]
    },
    {
     "name": "stderr",
     "output_type": "stream",
     "text": [
      " 96%|█████████▌| 3000/3125 [38:26<01:11,  1.76it/s]"
     ]
    },
    {
     "name": "stdout",
     "output_type": "stream",
     "text": [
      "{'loss': 2.7192, 'grad_norm': 1.8793416023254395, 'learning_rate': 2.0000000000000003e-06, 'epoch': 4.8}\n"
     ]
    },
    {
     "name": "stderr",
     "output_type": "stream",
     "text": [
      " 96%|█████████▋| 3010/3125 [38:34<01:11,  1.60it/s]"
     ]
    },
    {
     "name": "stdout",
     "output_type": "stream",
     "text": [
      "{'loss': 2.8137, 'grad_norm': 1.5243780612945557, 'learning_rate': 1.84e-06, 'epoch': 4.82}\n"
     ]
    },
    {
     "name": "stderr",
     "output_type": "stream",
     "text": [
      " 97%|█████████▋| 3020/3125 [38:40<01:00,  1.73it/s]"
     ]
    },
    {
     "name": "stdout",
     "output_type": "stream",
     "text": [
      "{'loss': 2.7192, 'grad_norm': 1.2540884017944336, 'learning_rate': 1.68e-06, 'epoch': 4.83}\n"
     ]
    },
    {
     "name": "stderr",
     "output_type": "stream",
     "text": [
      " 97%|█████████▋| 3030/3125 [38:46<00:53,  1.76it/s]"
     ]
    },
    {
     "name": "stdout",
     "output_type": "stream",
     "text": [
      "{'loss': 2.5025, 'grad_norm': 1.2000863552093506, 'learning_rate': 1.52e-06, 'epoch': 4.85}\n"
     ]
    },
    {
     "name": "stderr",
     "output_type": "stream",
     "text": [
      " 97%|█████████▋| 3040/3125 [38:51<00:48,  1.75it/s]"
     ]
    },
    {
     "name": "stdout",
     "output_type": "stream",
     "text": [
      "{'loss': 2.7143, 'grad_norm': 2.2905778884887695, 'learning_rate': 1.36e-06, 'epoch': 4.86}\n"
     ]
    },
    {
     "name": "stderr",
     "output_type": "stream",
     "text": [
      " 98%|█████████▊| 3050/3125 [38:57<00:45,  1.67it/s]"
     ]
    },
    {
     "name": "stdout",
     "output_type": "stream",
     "text": [
      "{'loss': 2.5373, 'grad_norm': 2.7871124744415283, 'learning_rate': 1.2000000000000002e-06, 'epoch': 4.88}\n"
     ]
    },
    {
     "name": "stderr",
     "output_type": "stream",
     "text": [
      " 98%|█████████▊| 3060/3125 [39:03<00:38,  1.68it/s]"
     ]
    },
    {
     "name": "stdout",
     "output_type": "stream",
     "text": [
      "{'loss': 2.8286, 'grad_norm': 1.1216732263565063, 'learning_rate': 1.04e-06, 'epoch': 4.9}\n"
     ]
    },
    {
     "name": "stderr",
     "output_type": "stream",
     "text": [
      " 98%|█████████▊| 3070/3125 [39:09<00:31,  1.73it/s]"
     ]
    },
    {
     "name": "stdout",
     "output_type": "stream",
     "text": [
      "{'loss': 2.6308, 'grad_norm': 1.1192599534988403, 'learning_rate': 8.8e-07, 'epoch': 4.91}\n"
     ]
    },
    {
     "name": "stderr",
     "output_type": "stream",
     "text": [
      " 99%|█████████▊| 3080/3125 [39:15<00:26,  1.73it/s]"
     ]
    },
    {
     "name": "stdout",
     "output_type": "stream",
     "text": [
      "{'loss': 2.5962, 'grad_norm': 1.4739205837249756, 'learning_rate': 7.2e-07, 'epoch': 4.93}\n"
     ]
    },
    {
     "name": "stderr",
     "output_type": "stream",
     "text": [
      " 99%|█████████▉| 3090/3125 [39:21<00:20,  1.68it/s]"
     ]
    },
    {
     "name": "stdout",
     "output_type": "stream",
     "text": [
      "{'loss': 2.7021, 'grad_norm': 1.1149014234542847, 'learning_rate': 5.6e-07, 'epoch': 4.94}\n"
     ]
    },
    {
     "name": "stderr",
     "output_type": "stream",
     "text": [
      " 99%|█████████▉| 3100/3125 [39:27<00:14,  1.73it/s]"
     ]
    },
    {
     "name": "stdout",
     "output_type": "stream",
     "text": [
      "{'loss': 2.6191, 'grad_norm': 1.135280728340149, 'learning_rate': 4.0000000000000003e-07, 'epoch': 4.96}\n"
     ]
    },
    {
     "name": "stderr",
     "output_type": "stream",
     "text": [
      "100%|█████████▉| 3110/3125 [39:32<00:08,  1.68it/s]"
     ]
    },
    {
     "name": "stdout",
     "output_type": "stream",
     "text": [
      "{'loss': 2.5961, 'grad_norm': 1.1862324476242065, 'learning_rate': 2.4e-07, 'epoch': 4.98}\n"
     ]
    },
    {
     "name": "stderr",
     "output_type": "stream",
     "text": [
      "100%|█████████▉| 3120/3125 [39:38<00:02,  1.73it/s]"
     ]
    },
    {
     "name": "stdout",
     "output_type": "stream",
     "text": [
      "{'loss': 2.5579, 'grad_norm': 1.293656349182129, 'learning_rate': 8e-08, 'epoch': 4.99}\n"
     ]
    },
    {
     "name": "stderr",
     "output_type": "stream",
     "text": [
      "                                                   \n",
      "100%|██████████| 3125/3125 [42:26<00:00,  1.23it/s]"
     ]
    },
    {
     "name": "stdout",
     "output_type": "stream",
     "text": [
      "{'eval_loss': 2.4622690677642822, 'eval_runtime': 164.9388, 'eval_samples_per_second': 40.215, 'eval_steps_per_second': 20.11, 'epoch': 5.0}\n",
      "{'train_runtime': 2546.606, 'train_samples_per_second': 9.817, 'train_steps_per_second': 1.227, 'train_loss': 2.734587241516113, 'epoch': 5.0}\n"
     ]
    },
    {
     "name": "stderr",
     "output_type": "stream",
     "text": [
      "\n"
     ]
    },
    {
     "data": {
      "text/plain": [
       "TrainOutput(global_step=3125, training_loss=2.734587241516113, metrics={'train_runtime': 2546.606, 'train_samples_per_second': 9.817, 'train_steps_per_second': 1.227, 'total_flos': 3383545036800000.0, 'train_loss': 2.734587241516113, 'epoch': 5.0})"
      ]
     },
     "execution_count": 31,
     "metadata": {},
     "output_type": "execute_result"
    }
   ],
   "source": [
    "from transformers import Trainer, TrainingArguments\n",
    " \n",
    " # Reduce the datasets to 50,000 samples each\n",
    "train_subset = tokenized_datasets[\"train\"].select(range(5000)) \n",
    "\n",
    "# Define training arguments\n",
    "training_args = TrainingArguments(\n",
    "    output_dir=\"./results\",\n",
    "    evaluation_strategy=\"epoch\",\n",
    "    learning_rate=5e-5,\n",
    "    per_device_train_batch_size=2,\n",
    "    per_device_eval_batch_size=2,\n",
    "    num_train_epochs=5,\n",
    "    weight_decay=0.01,\n",
    "    save_total_limit=1,\n",
    "    gradient_accumulation_steps=4,  # Accumulate gradients over 4 steps\n",
    "    logging_dir='D://MASTERS//FinalThesis//textsumm-web//summ-frontend//app//python-scripts//logs',  # Add this line to specify the logging directory\n",
    "    logging_steps=10,\n",
    ")\n",
    "\n",
    "# print(model)\n",
    "# Initialize the Trainer\n",
    "trainer = Trainer(\n",
    "    model=model.to('cuda'),\n",
    "    args=training_args,\n",
    "    train_dataset=train_subset,\n",
    "    eval_dataset=tokenized_datasets[\"validation\"],\n",
    ")\n",
    "\n",
    "# Start the fine-tuning\n",
    "trainer.train()\n"
   ]
  },
  {
   "cell_type": "code",
   "execution_count": 32,
   "metadata": {},
   "outputs": [
    {
     "name": "stdout",
     "output_type": "stream",
     "text": [
      "ROUGE Scores: {'rouge1': AggregateScore(low=Score(precision=0.44734932011226797, recall=0.21288887003254314, fmeasure=0.274136256924537), mid=Score(precision=0.45110739627413793, recall=0.21548033017833185, fmeasure=0.2766709373155301), high=Score(precision=0.45489003986071036, recall=0.21815664662844814, fmeasure=0.27933085178499967)), 'rouge2': AggregateScore(low=Score(precision=0.15615737124951284, recall=0.0742690358288299, fmeasure=0.0955570021681266), mid=Score(precision=0.15991608529191725, recall=0.07638425344827904, fmeasure=0.09803111731532084), high=Score(precision=0.16366425670645182, recall=0.07867630667569571, fmeasure=0.10051952553184995)), 'rougeL': AggregateScore(low=Score(precision=0.2871724993723076, recall=0.136633081544561, fmeasure=0.17572845407101453), mid=Score(precision=0.29083326746356214, recall=0.13887567155514027, fmeasure=0.17806930784566016), high=Score(precision=0.2943736472641957, recall=0.14095185756301223, fmeasure=0.18032376197399083)), 'rougeLsum': AggregateScore(low=Score(precision=0.3818155186765846, recall=0.17989584225591354, fmeasure=0.23271751611429894), mid=Score(precision=0.3858382219623722, recall=0.18219862637911816, fmeasure=0.23514165716333285), high=Score(precision=0.3892996987541847, recall=0.18448819595765628, fmeasure=0.2373639730676063))}\n"
     ]
    }
   ],
   "source": [
    "from transformers import Trainer\n",
    "from datasets import load_metric\n",
    "import torch\n",
    "\n",
    "# Load the test dataset (assuming you have tokenized it)\n",
    "test_articles = tokenized_datasets['test']['article']\n",
    "test_abstracts = tokenized_datasets['test']['abstract']\n",
    "\n",
    "# Initialize the Trainer with the trained model\n",
    "trainer = Trainer(\n",
    "    model=model.to('cuda') if torch.cuda.is_available() else model,\n",
    "    args=training_args\n",
    ")\n",
    "\n",
    "# Generate predictions\n",
    "predictions = []\n",
    "for article in test_articles:\n",
    "    input_ids = tokenizer.encode(\"summarize: \" + article, return_tensors=\"pt\", max_length=512, truncation=True).to('cuda' if torch.cuda.is_available() else 'cpu')\n",
    "    outputs = model.generate(input_ids, max_length=150, num_beams=4, early_stopping=True)\n",
    "    pred_summary = tokenizer.decode(outputs[0], skip_special_tokens=True)\n",
    "    predictions.append(pred_summary)\n",
    "\n",
    "# Load ROUGE metric\n",
    "rouge = load_metric(\"rouge\", trust_remote_code=True)\n",
    "\n",
    "# Compute ROUGE scores\n",
    "results = rouge.compute(predictions=predictions, references=test_abstracts)\n",
    "\n",
    "# Print results\n",
    "print(\"ROUGE Scores:\", results)\n"
   ]
  },
  {
   "cell_type": "code",
   "execution_count": 33,
   "metadata": {},
   "outputs": [
    {
     "name": "stdout",
     "output_type": "stream",
     "text": [
      "Requirement already satisfied: matplotlib in c:\\users\\sanja\\anaconda3\\envs\\cuda\\lib\\site-packages (3.7.5)\n",
      "Requirement already satisfied: contourpy>=1.0.1 in c:\\users\\sanja\\anaconda3\\envs\\cuda\\lib\\site-packages (from matplotlib) (1.1.1)\n",
      "Requirement already satisfied: cycler>=0.10 in c:\\users\\sanja\\anaconda3\\envs\\cuda\\lib\\site-packages (from matplotlib) (0.12.1)\n",
      "Requirement already satisfied: fonttools>=4.22.0 in c:\\users\\sanja\\anaconda3\\envs\\cuda\\lib\\site-packages (from matplotlib) (4.53.1)\n",
      "Requirement already satisfied: kiwisolver>=1.0.1 in c:\\users\\sanja\\anaconda3\\envs\\cuda\\lib\\site-packages (from matplotlib) (1.4.5)\n",
      "Requirement already satisfied: numpy<2,>=1.20 in c:\\users\\sanja\\anaconda3\\envs\\cuda\\lib\\site-packages (from matplotlib) (1.24.4)\n",
      "Requirement already satisfied: packaging>=20.0 in c:\\users\\sanja\\anaconda3\\envs\\cuda\\lib\\site-packages (from matplotlib) (24.1)\n",
      "Requirement already satisfied: pillow>=6.2.0 in c:\\users\\sanja\\anaconda3\\envs\\cuda\\lib\\site-packages (from matplotlib) (10.2.0)\n",
      "Requirement already satisfied: pyparsing>=2.3.1 in c:\\users\\sanja\\anaconda3\\envs\\cuda\\lib\\site-packages (from matplotlib) (3.1.2)\n",
      "Requirement already satisfied: python-dateutil>=2.7 in c:\\users\\sanja\\anaconda3\\envs\\cuda\\lib\\site-packages (from matplotlib) (2.9.0)\n",
      "Requirement already satisfied: importlib-resources>=3.2.0 in c:\\users\\sanja\\anaconda3\\envs\\cuda\\lib\\site-packages (from matplotlib) (6.4.4)\n",
      "Requirement already satisfied: zipp>=3.1.0 in c:\\users\\sanja\\anaconda3\\envs\\cuda\\lib\\site-packages (from importlib-resources>=3.2.0->matplotlib) (3.20.0)\n",
      "Requirement already satisfied: six>=1.5 in c:\\users\\sanja\\anaconda3\\envs\\cuda\\lib\\site-packages (from python-dateutil>=2.7->matplotlib) (1.16.0)\n",
      "Note: you may need to restart the kernel to use updated packages.\n"
     ]
    }
   ],
   "source": [
    "pip install matplotlib"
   ]
  },
  {
   "cell_type": "code",
   "execution_count": 34,
   "metadata": {},
   "outputs": [],
   "source": [
    "import pandas as pd\n",
    "import matplotlib.pyplot as plt\n",
    "\n",
    "# After training\n",
    "log_history = trainer.state.log_history\n",
    " \n",
    "\n",
    "# Convert log history to a DataFrame\n",
    "df = pd.DataFrame(log_history)\n",
    "\n",
    "# Plot training loss\n",
    "if 'loss' in df.columns:\n",
    "    plt.figure(figsize=(10, 5))\n",
    "    plt.plot(df['step'], df['loss'], label='Training Loss')\n",
    "    plt.xlabel('Step')\n",
    "    plt.ylabel('Loss')\n",
    "    plt.title('Training Loss Over Steps')\n",
    "    plt.legend()\n",
    "    plt.grid(True)\n",
    "    plt.show()\n",
    "    \n",
    "\n",
    "if 'eval_loss' in df.columns:\n",
    "    plt.figure(figsize=(10, 5))\n",
    "    plt.plot(df['step'], df['loss'], label='Training Loss')\n",
    "    plt.xlabel('Step')\n",
    "    plt.ylabel('eval_loss')\n",
    "    plt.title('eval_loss Loss Over Steps')\n",
    "    plt.legend()\n",
    "    plt.grid(True)\n",
    "    plt.show()\n",
    "    \n",
    "    \n",
    "# # Plot evaluation loss\n",
    "# if 'eval_loss' in df.columns:\n",
    "#     plt.figure(figsize=(10, 5))\n",
    "#     if 'epoch' in df.columns:\n",
    "#         plt.plot(df['epoch'], df['eval_loss'], label='Evaluation Loss', color='orange')\n",
    "#         plt.xlabel('Epoch')\n",
    "#     elif 'step' in df.columns:\n",
    "#         plt.plot(df['step'], df['eval_loss'], label='Evaluation Loss', color='orange')\n",
    "#         plt.xlabel('Step')\n",
    "#     else:\n",
    "#         print(\"Epoch or Step column not found for plotting.\")\n",
    "    \n",
    "#     plt.ylabel('Loss')\n",
    "#     plt.title('Evaluation Loss Over Epochs/Steps')\n",
    "#     plt.legend()\n",
    "#     plt.grid(True)\n",
    "#     plt.show()\n",
    "# else:\n",
    "#     print(\"Evaluation loss data not found in log history.\")\n"
   ]
  },
  {
   "cell_type": "code",
   "execution_count": 35,
   "metadata": {},
   "outputs": [
    {
     "name": "stderr",
     "output_type": "stream",
     "text": [
      "100%|██████████| 3329/3329 [02:35<00:00, 21.41it/s]"
     ]
    },
    {
     "name": "stdout",
     "output_type": "stream",
     "text": [
      "Test results: {'eval_loss': 2.4741673469543457, 'eval_runtime': 155.5319, 'eval_samples_per_second': 42.808, 'eval_steps_per_second': 21.404}\n"
     ]
    },
    {
     "name": "stderr",
     "output_type": "stream",
     "text": [
      "\n"
     ]
    }
   ],
   "source": [
    "results = trainer.evaluate(eval_dataset=tokenized_datasets[\"test\"])\n",
    "\n",
    "print(f\"Test results: {results}\")\n"
   ]
  },
  {
   "cell_type": "code",
   "execution_count": null,
   "metadata": {},
   "outputs": [],
   "source": [
    "# model.save_pretrained('./fine_tuned_t5_pubmed')\n",
    "# tokenizer.save_pretrained('./fine_tuned_t5_pubmed')"
   ]
  },
  {
   "cell_type": "code",
   "execution_count": 37,
   "metadata": {},
   "outputs": [],
   "source": [
    "#Summarizing documents with T5-small\n",
    "\n",
    "import textwrap\n",
    "\n",
    "def summarize(text,ml):\n",
    "    print('Max Length', ml )\n",
    "    preprocess_text = text.strip().replace(\"\\n\",\"\")\n",
    "    t5_prepared_Text = \"Text to summarize: \"+preprocess_text\n",
    "    wrapped_t5_prepared_Text = textwrap.fill(t5_prepared_Text, width=70)\n",
    "    # print(wrapped_t5_prepared_Text)\n",
    "    tokenized_text = tokenizer.encode(t5_prepared_Text, return_tensors=\"pt\").to(device)\n",
    "    \n",
    "    \n",
    "    # summmarize\n",
    "    summary_ids = model.generate(tokenized_text,\n",
    "                                      num_beams=4,\n",
    "                                      no_repeat_ngram_size=2,\n",
    "                                      min_length=30,\n",
    "                                      max_length=ml,\n",
    "                                      early_stopping=True)\n",
    "\n",
    "    output = tokenizer.decode(summary_ids[0], skip_special_tokens=True)\n",
    "    return output\n"
   ]
  },
  {
   "cell_type": "code",
   "execution_count": 38,
   "metadata": {},
   "outputs": [
    {
     "name": "stderr",
     "output_type": "stream",
     "text": [
      "Token indices sequence length is longer than the specified maximum sequence length for this model (913 > 512). Running this sequence through the model will result in indexing errors\n"
     ]
    },
    {
     "name": "stdout",
     "output_type": "stream",
     "text": [
      "Max Length 4676\n",
      "\n",
      "Summarized text: \n",
      " the aim of this research is to advance the state-of-the-art in automated summarization of academic\n",
      "documents by developing and fine-tuning sophisticated NLP models tailored to the specific needs of\n",
      "the academic community.materials and methods:this paper focuses on the research and development of\n",
      "advanced algorithms designed to generate concise and accurate summaries. this paper explores the\n",
      "practical applications and implications of deploying automated masked language modeling (MLM) and\n",
      "next-sentence prediction (NSP) tools in academic contexts.methods\n"
     ]
    }
   ],
   "source": [
    "\n",
    "text=\"\"\"\n",
    "Automated summarization of academic documents using advanced Natural Language Processing (NLP) techniques presents a compelling solution for researchers, educators, and students who must efficiently navigate, process, and synthesize vast quantities of information. This paper focuses on the research and development of advanced NLP algorithms designed to generate concise and accurate summaries of academic texts, such as journal articles, conference papers, theses, and dissertations, thereby facilitating quicker and more efficient knowledge acquisition.\n",
    "The core of this research involves the exploration and refinement of both extractive and abstractive summarization methods. Extractive summarization techniques, which select and assemble the most salient sentences from the original text, are enhanced through the use of graph-based algorithms, such as TextRank, and transformer-based models, like BERTSUM, that leverage contextual embeddings to improve the relevance and coherence of the extracted summaries. Abstractive summarization, on the other hand, is approached through the application of sequence-to-sequence (Seq2Seq) models with attention mechanisms, and more advanced transformer architectures such as GPT-3, BART, and T5, which are capable of generating novel text that encapsulates the key ideas of the source document.\n",
    "A significant technical focus of this paper is the fine-tuning of pre-trained language models on large-scale, domain-specific academic corpora. The models are trained using supervised learning techniques on datasets such as the arXiv and PubMed corpora, which contain millions of academic papers across a wide range of disciplines. Additionally, unsupervised pre-training techniques, like masked language modeling (MLM) and next-sentence prediction (NSP), are employed to further enhance the models' understanding of complex academic language and structures.\n",
    "To address the unique challenges of academic summarization, such as dealing with technical details, mathematical expressions, and citations, this research incorporates specialized pre-processing and post-processing techniques. For example, custom tokenization strategies are implemented to handle domain-specific terms and symbols, and rule-based methods are used to ensure the correct handling of references and citations within the summaries. Moreover, the paper explores the integration of domain-specific knowledge bases, such as UMLS for biomedical texts, to improve the contextual accuracy and relevance of the generated summaries.\n",
    "Empirical evaluation forms a critical component of this research, with extensive experimentation conducted on both publicly available and custom-built academic datasets. Performance metrics such as ROUGE-L, BLEU, and METEOR are used to quantitatively assess the quality of the summaries, while human evaluation studies involving domain experts are conducted to qualitatively evaluate aspects such as readability, coherence, and informativeness. Additionally, the research investigates the impact of various hyperparameters, such as learning rates, batch sizes, and sequence lengths, on model performance, and explores techniques like model distillation and pruning to optimize the models for deployment in resource-constrained environments.\n",
    "Beyond the technical aspects, this paper also considers the practical applications and implications of automated summarization tools in the academic community. It explores how these tools can enhance productivity in research, assist in literature review tasks, improve the efficiency of information retrieval processes, and support the dissemination of knowledge across disciplines. The research also delves into the ethical considerations of deploying automated summarization in academic contexts, addressing issues such as bias in model outputs, the potential for over-reliance on automated tools, and the preservation of academic integrity. \n",
    "In conclusion, this paper aims to advance the state-of-the-art in automated summarization of academic documents by developing and fine-tuning sophisticated NLP models tailored to the specific needs of academic content. The outcomes of this research are expected to make significant contributions to both the fields of Natural Language Processing and educational technology, providing valuable tools that empower academics and students to effectively manage the growing body of academic literature. These contributions are anticipated to pave the way for the development of intelligent systems that seamlessly integrate into academic workflows, supporting research, teaching, and learning in increasingly data-driven and information-rich environments.\n",
    "\n",
    "\"\"\"\n",
    "# print(\"Number of characters:\", len(text))\n",
    "summary=summarize(text, len(text))\n",
    "\n",
    "wrapped_summary = textwrap.fill(summary, width=100)\n",
    "\n",
    "print (\"\\nSummarized text: \\n\", wrapped_summary)"
   ]
  },
  {
   "cell_type": "code",
   "execution_count": null,
   "metadata": {},
   "outputs": [],
   "source": []
  },
  {
   "cell_type": "code",
   "execution_count": 39,
   "metadata": {},
   "outputs": [
    {
     "name": "stdout",
     "output_type": "stream",
     "text": [
      "Number of characters: 1632\n",
      "Max Length 100\n",
      "\n",
      "Summarized text: \n",
      " we hold these truths to be self-evident, that all men are created\n",
      "equal,that they are endowed by their Creator with certain unalienable\n",
      "Rights. that to secure these rights, Governments are instituted among\n",
      "Men,deriving their just powers from the consent of the governed,That\n",
      "whenever any form of Government becomes destructive of these ends,it\n",
      "is the Right of The People to alter or to abolish it, and to\n",
      "institutenew Government, laying\n"
     ]
    }
   ],
   "source": [
    "\n",
    "##A general topic sample\n",
    "\n",
    "text=\"\"\"\n",
    "We hold these truths to be self-evident, that all men are created equal,\n",
    "that they are endowed by their Creator with certain unalienable Rights,\n",
    "that among these are Life, Liberty, and the pursuit of Happiness.\n",
    "That to secure these rights, Governments are instituted among Men,\n",
    "deriving their just powers from the consent of the governed,\n",
    "That whenever any Form of Government becomes destructive of these ends,\n",
    "it is the Right of the People to alter or to abolish it, and to institute\n",
    "new Government, laying its foundation on such principles and organizing\n",
    "its powers in such form, as to them shall seem most likely to effect\n",
    "their Safety and Happiness.  Prudence, indeed, will dictate that Governments\n",
    "long established should not be changed for light and transient causes;\n",
    "and accordingly all experience hath shown, that mankind are more disposed\n",
    "to suffer, while evils are sufferable, than to right themselves by abolishing\n",
    "the forms to which they are accustomed.  But when a long train of abuses and\n",
    "usurpations, pursuing invariably the same Object evinces a design to reduce\n",
    "them under absolute Despotism, it is their right, it is their duty, to throw\n",
    "off such Government, and to provide new Guards for their future security.\n",
    "--Such has been the patient sufferance of these Colonies; and such is now\n",
    "the necessity which constrains them to alter their former Systems of Government.\n",
    "The history of the present King of Great Britain is a history of repeated\n",
    "injuries and usurpations, all having in direct object the establishment\n",
    "of an absolute Tyranny over these States.  To prove this, let Facts\n",
    "be submitted to a candid world.\n",
    "\"\"\"\n",
    "print(\"Number of characters:\",len(text))\n",
    "summary=summarize(text,100)\n",
    "\n",
    "wrapped_summary = textwrap.fill(summary, width=70)\n",
    "\n",
    "print (\"\\nSummarized text: \\n\", wrapped_summary)"
   ]
  },
  {
   "cell_type": "code",
   "execution_count": null,
   "metadata": {},
   "outputs": [
    {
     "name": "stdout",
     "output_type": "stream",
     "text": [
      "T5Config {\n",
      "  \"_name_or_path\": \"t5-small\",\n",
      "  \"architectures\": [\n",
      "    \"T5ForConditionalGeneration\"\n",
      "  ],\n",
      "  \"classifier_dropout\": 0.0,\n",
      "  \"d_ff\": 2048,\n",
      "  \"d_kv\": 64,\n",
      "  \"d_model\": 512,\n",
      "  \"decoder_start_token_id\": 0,\n",
      "  \"dense_act_fn\": \"relu\",\n",
      "  \"dropout_rate\": 0.1,\n",
      "  \"eos_token_id\": 1,\n",
      "  \"feed_forward_proj\": \"relu\",\n",
      "  \"initializer_factor\": 1.0,\n",
      "  \"is_encoder_decoder\": true,\n",
      "  \"is_gated_act\": false,\n",
      "  \"layer_norm_epsilon\": 1e-06,\n",
      "  \"model_type\": \"t5\",\n",
      "  \"n_positions\": 512,\n",
      "  \"num_decoder_layers\": 6,\n",
      "  \"num_heads\": 8,\n",
      "  \"num_layers\": 6,\n",
      "  \"output_past\": true,\n",
      "  \"pad_token_id\": 0,\n",
      "  \"relative_attention_max_distance\": 128,\n",
      "  \"relative_attention_num_buckets\": 32,\n",
      "  \"task_specific_params\": {\n",
      "    \"summarization\": {\n",
      "      \"early_stopping\": true,\n",
      "      \"length_penalty\": 2.0,\n",
      "      \"max_length\": 200,\n",
      "      \"min_length\": 30,\n",
      "      \"no_repeat_ngram_size\": 3,\n",
      "      \"num_beams\": 4,\n",
      "      \"prefix\": \"summarize: \"\n",
      "    },\n",
      "    \"translation_en_to_de\": {\n",
      "      \"early_stopping\": true,\n",
      "      \"max_length\": 300,\n",
      "      \"num_beams\": 4,\n",
      "      \"prefix\": \"translate English to German: \"\n",
      "    },\n",
      "    \"translation_en_to_fr\": {\n",
      "      \"early_stopping\": true,\n",
      "      \"max_length\": 300,\n",
      "      \"num_beams\": 4,\n",
      "      \"prefix\": \"translate English to French: \"\n",
      "    },\n",
      "    \"translation_en_to_ro\": {\n",
      "      \"early_stopping\": true,\n",
      "      \"max_length\": 300,\n",
      "      \"num_beams\": 4,\n",
      "      \"prefix\": \"translate English to Romanian: \"\n",
      "    }\n",
      "  },\n",
      "  \"torch_dtype\": \"float32\",\n",
      "  \"transformers_version\": \"4.40.1\",\n",
      "  \"use_cache\": true,\n",
      "  \"vocab_size\": 32128\n",
      "}\n",
      "\n"
     ]
    }
   ],
   "source": [
    "#Exploring the architecture of the T5 model\n",
    "\n",
    "if display_architecture==True:\n",
    " print(model.config)\n",
    "\n"
   ]
  },
  {
   "cell_type": "code",
   "execution_count": null,
   "metadata": {},
   "outputs": [
    {
     "name": "stdout",
     "output_type": "stream",
     "text": [
      "T5ForConditionalGeneration(\n",
      "  (shared): Embedding(32128, 512)\n",
      "  (encoder): T5Stack(\n",
      "    (embed_tokens): Embedding(32128, 512)\n",
      "    (block): ModuleList(\n",
      "      (0): T5Block(\n",
      "        (layer): ModuleList(\n",
      "          (0): T5LayerSelfAttention(\n",
      "            (SelfAttention): T5Attention(\n",
      "              (q): Linear(in_features=512, out_features=512, bias=False)\n",
      "              (k): Linear(in_features=512, out_features=512, bias=False)\n",
      "              (v): Linear(in_features=512, out_features=512, bias=False)\n",
      "              (o): Linear(in_features=512, out_features=512, bias=False)\n",
      "              (relative_attention_bias): Embedding(32, 8)\n",
      "            )\n",
      "            (layer_norm): T5LayerNorm()\n",
      "            (dropout): Dropout(p=0.1, inplace=False)\n",
      "          )\n",
      "          (1): T5LayerFF(\n",
      "            (DenseReluDense): T5DenseActDense(\n",
      "              (wi): Linear(in_features=512, out_features=2048, bias=False)\n",
      "              (wo): Linear(in_features=2048, out_features=512, bias=False)\n",
      "              (dropout): Dropout(p=0.1, inplace=False)\n",
      "              (act): ReLU()\n",
      "            )\n",
      "            (layer_norm): T5LayerNorm()\n",
      "            (dropout): Dropout(p=0.1, inplace=False)\n",
      "          )\n",
      "        )\n",
      "      )\n",
      "      (1-5): 5 x T5Block(\n",
      "        (layer): ModuleList(\n",
      "          (0): T5LayerSelfAttention(\n",
      "            (SelfAttention): T5Attention(\n",
      "              (q): Linear(in_features=512, out_features=512, bias=False)\n",
      "              (k): Linear(in_features=512, out_features=512, bias=False)\n",
      "              (v): Linear(in_features=512, out_features=512, bias=False)\n",
      "              (o): Linear(in_features=512, out_features=512, bias=False)\n",
      "            )\n",
      "            (layer_norm): T5LayerNorm()\n",
      "            (dropout): Dropout(p=0.1, inplace=False)\n",
      "          )\n",
      "          (1): T5LayerFF(\n",
      "            (DenseReluDense): T5DenseActDense(\n",
      "              (wi): Linear(in_features=512, out_features=2048, bias=False)\n",
      "              (wo): Linear(in_features=2048, out_features=512, bias=False)\n",
      "              (dropout): Dropout(p=0.1, inplace=False)\n",
      "              (act): ReLU()\n",
      "            )\n",
      "            (layer_norm): T5LayerNorm()\n",
      "            (dropout): Dropout(p=0.1, inplace=False)\n",
      "          )\n",
      "        )\n",
      "      )\n",
      "    )\n",
      "    (final_layer_norm): T5LayerNorm()\n",
      "    (dropout): Dropout(p=0.1, inplace=False)\n",
      "  )\n",
      "  (decoder): T5Stack(\n",
      "    (embed_tokens): Embedding(32128, 512)\n",
      "    (block): ModuleList(\n",
      "      (0): T5Block(\n",
      "        (layer): ModuleList(\n",
      "          (0): T5LayerSelfAttention(\n",
      "            (SelfAttention): T5Attention(\n",
      "              (q): Linear(in_features=512, out_features=512, bias=False)\n",
      "              (k): Linear(in_features=512, out_features=512, bias=False)\n",
      "              (v): Linear(in_features=512, out_features=512, bias=False)\n",
      "              (o): Linear(in_features=512, out_features=512, bias=False)\n",
      "              (relative_attention_bias): Embedding(32, 8)\n",
      "            )\n",
      "            (layer_norm): T5LayerNorm()\n",
      "            (dropout): Dropout(p=0.1, inplace=False)\n",
      "          )\n",
      "          (1): T5LayerCrossAttention(\n",
      "            (EncDecAttention): T5Attention(\n",
      "              (q): Linear(in_features=512, out_features=512, bias=False)\n",
      "              (k): Linear(in_features=512, out_features=512, bias=False)\n",
      "              (v): Linear(in_features=512, out_features=512, bias=False)\n",
      "              (o): Linear(in_features=512, out_features=512, bias=False)\n",
      "            )\n",
      "            (layer_norm): T5LayerNorm()\n",
      "            (dropout): Dropout(p=0.1, inplace=False)\n",
      "          )\n",
      "          (2): T5LayerFF(\n",
      "            (DenseReluDense): T5DenseActDense(\n",
      "              (wi): Linear(in_features=512, out_features=2048, bias=False)\n",
      "              (wo): Linear(in_features=2048, out_features=512, bias=False)\n",
      "              (dropout): Dropout(p=0.1, inplace=False)\n",
      "              (act): ReLU()\n",
      "            )\n",
      "            (layer_norm): T5LayerNorm()\n",
      "            (dropout): Dropout(p=0.1, inplace=False)\n",
      "          )\n",
      "        )\n",
      "      )\n",
      "      (1-5): 5 x T5Block(\n",
      "        (layer): ModuleList(\n",
      "          (0): T5LayerSelfAttention(\n",
      "            (SelfAttention): T5Attention(\n",
      "              (q): Linear(in_features=512, out_features=512, bias=False)\n",
      "              (k): Linear(in_features=512, out_features=512, bias=False)\n",
      "              (v): Linear(in_features=512, out_features=512, bias=False)\n",
      "              (o): Linear(in_features=512, out_features=512, bias=False)\n",
      "            )\n",
      "            (layer_norm): T5LayerNorm()\n",
      "            (dropout): Dropout(p=0.1, inplace=False)\n",
      "          )\n",
      "          (1): T5LayerCrossAttention(\n",
      "            (EncDecAttention): T5Attention(\n",
      "              (q): Linear(in_features=512, out_features=512, bias=False)\n",
      "              (k): Linear(in_features=512, out_features=512, bias=False)\n",
      "              (v): Linear(in_features=512, out_features=512, bias=False)\n",
      "              (o): Linear(in_features=512, out_features=512, bias=False)\n",
      "            )\n",
      "            (layer_norm): T5LayerNorm()\n",
      "            (dropout): Dropout(p=0.1, inplace=False)\n",
      "          )\n",
      "          (2): T5LayerFF(\n",
      "            (DenseReluDense): T5DenseActDense(\n",
      "              (wi): Linear(in_features=512, out_features=2048, bias=False)\n",
      "              (wo): Linear(in_features=2048, out_features=512, bias=False)\n",
      "              (dropout): Dropout(p=0.1, inplace=False)\n",
      "              (act): ReLU()\n",
      "            )\n",
      "            (layer_norm): T5LayerNorm()\n",
      "            (dropout): Dropout(p=0.1, inplace=False)\n",
      "          )\n",
      "        )\n",
      "      )\n",
      "    )\n",
      "    (final_layer_norm): T5LayerNorm()\n",
      "    (dropout): Dropout(p=0.1, inplace=False)\n",
      "  )\n",
      "  (lm_head): Linear(in_features=512, out_features=32128, bias=False)\n",
      ")\n"
     ]
    }
   ],
   "source": [
    "if(display_architecture==True):\n",
    "  print(model)\n"
   ]
  },
  {
   "cell_type": "code",
   "execution_count": null,
   "metadata": {},
   "outputs": [
    {
     "name": "stdout",
     "output_type": "stream",
     "text": [
      "T5Stack(\n",
      "  (embed_tokens): Embedding(32128, 512)\n",
      "  (block): ModuleList(\n",
      "    (0): T5Block(\n",
      "      (layer): ModuleList(\n",
      "        (0): T5LayerSelfAttention(\n",
      "          (SelfAttention): T5Attention(\n",
      "            (q): Linear(in_features=512, out_features=512, bias=False)\n",
      "            (k): Linear(in_features=512, out_features=512, bias=False)\n",
      "            (v): Linear(in_features=512, out_features=512, bias=False)\n",
      "            (o): Linear(in_features=512, out_features=512, bias=False)\n",
      "            (relative_attention_bias): Embedding(32, 8)\n",
      "          )\n",
      "          (layer_norm): T5LayerNorm()\n",
      "          (dropout): Dropout(p=0.1, inplace=False)\n",
      "        )\n",
      "        (1): T5LayerFF(\n",
      "          (DenseReluDense): T5DenseActDense(\n",
      "            (wi): Linear(in_features=512, out_features=2048, bias=False)\n",
      "            (wo): Linear(in_features=2048, out_features=512, bias=False)\n",
      "            (dropout): Dropout(p=0.1, inplace=False)\n",
      "            (act): ReLU()\n",
      "          )\n",
      "          (layer_norm): T5LayerNorm()\n",
      "          (dropout): Dropout(p=0.1, inplace=False)\n",
      "        )\n",
      "      )\n",
      "    )\n",
      "    (1-5): 5 x T5Block(\n",
      "      (layer): ModuleList(\n",
      "        (0): T5LayerSelfAttention(\n",
      "          (SelfAttention): T5Attention(\n",
      "            (q): Linear(in_features=512, out_features=512, bias=False)\n",
      "            (k): Linear(in_features=512, out_features=512, bias=False)\n",
      "            (v): Linear(in_features=512, out_features=512, bias=False)\n",
      "            (o): Linear(in_features=512, out_features=512, bias=False)\n",
      "          )\n",
      "          (layer_norm): T5LayerNorm()\n",
      "          (dropout): Dropout(p=0.1, inplace=False)\n",
      "        )\n",
      "        (1): T5LayerFF(\n",
      "          (DenseReluDense): T5DenseActDense(\n",
      "            (wi): Linear(in_features=512, out_features=2048, bias=False)\n",
      "            (wo): Linear(in_features=2048, out_features=512, bias=False)\n",
      "            (dropout): Dropout(p=0.1, inplace=False)\n",
      "            (act): ReLU()\n",
      "          )\n",
      "          (layer_norm): T5LayerNorm()\n",
      "          (dropout): Dropout(p=0.1, inplace=False)\n",
      "        )\n",
      "      )\n",
      "    )\n",
      "  )\n",
      "  (final_layer_norm): T5LayerNorm()\n",
      "  (dropout): Dropout(p=0.1, inplace=False)\n",
      ")\n"
     ]
    }
   ],
   "source": [
    "\n",
    "if display_architecture==True:\n",
    "  print(model.encoder)\n"
   ]
  },
  {
   "cell_type": "code",
   "execution_count": null,
   "metadata": {},
   "outputs": [
    {
     "name": "stdout",
     "output_type": "stream",
     "text": [
      "T5Stack(\n",
      "  (embed_tokens): Embedding(32128, 512)\n",
      "  (block): ModuleList(\n",
      "    (0): T5Block(\n",
      "      (layer): ModuleList(\n",
      "        (0): T5LayerSelfAttention(\n",
      "          (SelfAttention): T5Attention(\n",
      "            (q): Linear(in_features=512, out_features=512, bias=False)\n",
      "            (k): Linear(in_features=512, out_features=512, bias=False)\n",
      "            (v): Linear(in_features=512, out_features=512, bias=False)\n",
      "            (o): Linear(in_features=512, out_features=512, bias=False)\n",
      "            (relative_attention_bias): Embedding(32, 8)\n",
      "          )\n",
      "          (layer_norm): T5LayerNorm()\n",
      "          (dropout): Dropout(p=0.1, inplace=False)\n",
      "        )\n",
      "        (1): T5LayerCrossAttention(\n",
      "          (EncDecAttention): T5Attention(\n",
      "            (q): Linear(in_features=512, out_features=512, bias=False)\n",
      "            (k): Linear(in_features=512, out_features=512, bias=False)\n",
      "            (v): Linear(in_features=512, out_features=512, bias=False)\n",
      "            (o): Linear(in_features=512, out_features=512, bias=False)\n",
      "          )\n",
      "          (layer_norm): T5LayerNorm()\n",
      "          (dropout): Dropout(p=0.1, inplace=False)\n",
      "        )\n",
      "        (2): T5LayerFF(\n",
      "          (DenseReluDense): T5DenseActDense(\n",
      "            (wi): Linear(in_features=512, out_features=2048, bias=False)\n",
      "            (wo): Linear(in_features=2048, out_features=512, bias=False)\n",
      "            (dropout): Dropout(p=0.1, inplace=False)\n",
      "            (act): ReLU()\n",
      "          )\n",
      "          (layer_norm): T5LayerNorm()\n",
      "          (dropout): Dropout(p=0.1, inplace=False)\n",
      "        )\n",
      "      )\n",
      "    )\n",
      "    (1-5): 5 x T5Block(\n",
      "      (layer): ModuleList(\n",
      "        (0): T5LayerSelfAttention(\n",
      "          (SelfAttention): T5Attention(\n",
      "            (q): Linear(in_features=512, out_features=512, bias=False)\n",
      "            (k): Linear(in_features=512, out_features=512, bias=False)\n",
      "            (v): Linear(in_features=512, out_features=512, bias=False)\n",
      "            (o): Linear(in_features=512, out_features=512, bias=False)\n",
      "          )\n",
      "          (layer_norm): T5LayerNorm()\n",
      "          (dropout): Dropout(p=0.1, inplace=False)\n",
      "        )\n",
      "        (1): T5LayerCrossAttention(\n",
      "          (EncDecAttention): T5Attention(\n",
      "            (q): Linear(in_features=512, out_features=512, bias=False)\n",
      "            (k): Linear(in_features=512, out_features=512, bias=False)\n",
      "            (v): Linear(in_features=512, out_features=512, bias=False)\n",
      "            (o): Linear(in_features=512, out_features=512, bias=False)\n",
      "          )\n",
      "          (layer_norm): T5LayerNorm()\n",
      "          (dropout): Dropout(p=0.1, inplace=False)\n",
      "        )\n",
      "        (2): T5LayerFF(\n",
      "          (DenseReluDense): T5DenseActDense(\n",
      "            (wi): Linear(in_features=512, out_features=2048, bias=False)\n",
      "            (wo): Linear(in_features=2048, out_features=512, bias=False)\n",
      "            (dropout): Dropout(p=0.1, inplace=False)\n",
      "            (act): ReLU()\n",
      "          )\n",
      "          (layer_norm): T5LayerNorm()\n",
      "          (dropout): Dropout(p=0.1, inplace=False)\n",
      "        )\n",
      "      )\n",
      "    )\n",
      "  )\n",
      "  (final_layer_norm): T5LayerNorm()\n",
      "  (dropout): Dropout(p=0.1, inplace=False)\n",
      ")\n"
     ]
    }
   ],
   "source": [
    "\n",
    "if display_architecture==True:\n",
    "  print(model.decoder)\n"
   ]
  },
  {
   "cell_type": "code",
   "execution_count": null,
   "metadata": {},
   "outputs": [
    {
     "name": "stdout",
     "output_type": "stream",
     "text": [
      "<bound method T5ForConditionalGeneration.forward of T5ForConditionalGeneration(\n",
      "  (shared): Embedding(32128, 512)\n",
      "  (encoder): T5Stack(\n",
      "    (embed_tokens): Embedding(32128, 512)\n",
      "    (block): ModuleList(\n",
      "      (0): T5Block(\n",
      "        (layer): ModuleList(\n",
      "          (0): T5LayerSelfAttention(\n",
      "            (SelfAttention): T5Attention(\n",
      "              (q): Linear(in_features=512, out_features=512, bias=False)\n",
      "              (k): Linear(in_features=512, out_features=512, bias=False)\n",
      "              (v): Linear(in_features=512, out_features=512, bias=False)\n",
      "              (o): Linear(in_features=512, out_features=512, bias=False)\n",
      "              (relative_attention_bias): Embedding(32, 8)\n",
      "            )\n",
      "            (layer_norm): T5LayerNorm()\n",
      "            (dropout): Dropout(p=0.1, inplace=False)\n",
      "          )\n",
      "          (1): T5LayerFF(\n",
      "            (DenseReluDense): T5DenseActDense(\n",
      "              (wi): Linear(in_features=512, out_features=2048, bias=False)\n",
      "              (wo): Linear(in_features=2048, out_features=512, bias=False)\n",
      "              (dropout): Dropout(p=0.1, inplace=False)\n",
      "              (act): ReLU()\n",
      "            )\n",
      "            (layer_norm): T5LayerNorm()\n",
      "            (dropout): Dropout(p=0.1, inplace=False)\n",
      "          )\n",
      "        )\n",
      "      )\n",
      "      (1-5): 5 x T5Block(\n",
      "        (layer): ModuleList(\n",
      "          (0): T5LayerSelfAttention(\n",
      "            (SelfAttention): T5Attention(\n",
      "              (q): Linear(in_features=512, out_features=512, bias=False)\n",
      "              (k): Linear(in_features=512, out_features=512, bias=False)\n",
      "              (v): Linear(in_features=512, out_features=512, bias=False)\n",
      "              (o): Linear(in_features=512, out_features=512, bias=False)\n",
      "            )\n",
      "            (layer_norm): T5LayerNorm()\n",
      "            (dropout): Dropout(p=0.1, inplace=False)\n",
      "          )\n",
      "          (1): T5LayerFF(\n",
      "            (DenseReluDense): T5DenseActDense(\n",
      "              (wi): Linear(in_features=512, out_features=2048, bias=False)\n",
      "              (wo): Linear(in_features=2048, out_features=512, bias=False)\n",
      "              (dropout): Dropout(p=0.1, inplace=False)\n",
      "              (act): ReLU()\n",
      "            )\n",
      "            (layer_norm): T5LayerNorm()\n",
      "            (dropout): Dropout(p=0.1, inplace=False)\n",
      "          )\n",
      "        )\n",
      "      )\n",
      "    )\n",
      "    (final_layer_norm): T5LayerNorm()\n",
      "    (dropout): Dropout(p=0.1, inplace=False)\n",
      "  )\n",
      "  (decoder): T5Stack(\n",
      "    (embed_tokens): Embedding(32128, 512)\n",
      "    (block): ModuleList(\n",
      "      (0): T5Block(\n",
      "        (layer): ModuleList(\n",
      "          (0): T5LayerSelfAttention(\n",
      "            (SelfAttention): T5Attention(\n",
      "              (q): Linear(in_features=512, out_features=512, bias=False)\n",
      "              (k): Linear(in_features=512, out_features=512, bias=False)\n",
      "              (v): Linear(in_features=512, out_features=512, bias=False)\n",
      "              (o): Linear(in_features=512, out_features=512, bias=False)\n",
      "              (relative_attention_bias): Embedding(32, 8)\n",
      "            )\n",
      "            (layer_norm): T5LayerNorm()\n",
      "            (dropout): Dropout(p=0.1, inplace=False)\n",
      "          )\n",
      "          (1): T5LayerCrossAttention(\n",
      "            (EncDecAttention): T5Attention(\n",
      "              (q): Linear(in_features=512, out_features=512, bias=False)\n",
      "              (k): Linear(in_features=512, out_features=512, bias=False)\n",
      "              (v): Linear(in_features=512, out_features=512, bias=False)\n",
      "              (o): Linear(in_features=512, out_features=512, bias=False)\n",
      "            )\n",
      "            (layer_norm): T5LayerNorm()\n",
      "            (dropout): Dropout(p=0.1, inplace=False)\n",
      "          )\n",
      "          (2): T5LayerFF(\n",
      "            (DenseReluDense): T5DenseActDense(\n",
      "              (wi): Linear(in_features=512, out_features=2048, bias=False)\n",
      "              (wo): Linear(in_features=2048, out_features=512, bias=False)\n",
      "              (dropout): Dropout(p=0.1, inplace=False)\n",
      "              (act): ReLU()\n",
      "            )\n",
      "            (layer_norm): T5LayerNorm()\n",
      "            (dropout): Dropout(p=0.1, inplace=False)\n",
      "          )\n",
      "        )\n",
      "      )\n",
      "      (1-5): 5 x T5Block(\n",
      "        (layer): ModuleList(\n",
      "          (0): T5LayerSelfAttention(\n",
      "            (SelfAttention): T5Attention(\n",
      "              (q): Linear(in_features=512, out_features=512, bias=False)\n",
      "              (k): Linear(in_features=512, out_features=512, bias=False)\n",
      "              (v): Linear(in_features=512, out_features=512, bias=False)\n",
      "              (o): Linear(in_features=512, out_features=512, bias=False)\n",
      "            )\n",
      "            (layer_norm): T5LayerNorm()\n",
      "            (dropout): Dropout(p=0.1, inplace=False)\n",
      "          )\n",
      "          (1): T5LayerCrossAttention(\n",
      "            (EncDecAttention): T5Attention(\n",
      "              (q): Linear(in_features=512, out_features=512, bias=False)\n",
      "              (k): Linear(in_features=512, out_features=512, bias=False)\n",
      "              (v): Linear(in_features=512, out_features=512, bias=False)\n",
      "              (o): Linear(in_features=512, out_features=512, bias=False)\n",
      "            )\n",
      "            (layer_norm): T5LayerNorm()\n",
      "            (dropout): Dropout(p=0.1, inplace=False)\n",
      "          )\n",
      "          (2): T5LayerFF(\n",
      "            (DenseReluDense): T5DenseActDense(\n",
      "              (wi): Linear(in_features=512, out_features=2048, bias=False)\n",
      "              (wo): Linear(in_features=2048, out_features=512, bias=False)\n",
      "              (dropout): Dropout(p=0.1, inplace=False)\n",
      "              (act): ReLU()\n",
      "            )\n",
      "            (layer_norm): T5LayerNorm()\n",
      "            (dropout): Dropout(p=0.1, inplace=False)\n",
      "          )\n",
      "        )\n",
      "      )\n",
      "    )\n",
      "    (final_layer_norm): T5LayerNorm()\n",
      "    (dropout): Dropout(p=0.1, inplace=False)\n",
      "  )\n",
      "  (lm_head): Linear(in_features=512, out_features=32128, bias=False)\n",
      ")>\n"
     ]
    }
   ],
   "source": [
    "\n",
    "if display_architecture==True:\n",
    "  print(model.forward)\n"
   ]
  },
  {
   "cell_type": "code",
   "execution_count": null,
   "metadata": {},
   "outputs": [
    {
     "name": "stdout",
     "output_type": "stream",
     "text": [
      "Number of characters: 5635\n",
      "Max Length 2817.5\n",
      "\n",
      "Summarized text: \n",
      " background:tokenization is the process of dividing a text corpus into\n",
      "smaller, manageable units, such as words or phrases. the goal of this\n",
      "task is to identify and classify named entities in predefined\n",
      "categories based on the context of the text.results:the aim of our\n",
      "project was to evaluate the nuances and ambiguities of each word in\n",
      "the syntactic structure.materials and methods:we aimed to demonstrate\n",
      "that QA systems were designed to provide accurate and relevant answers\n",
      "to user queries.objective:as, we have analyzed the data from the\n"
     ]
    }
   ],
   "source": [
    "\n",
    "##The Bill of Rights sample\n",
    "\n",
    "#Bill of Rights,V\n",
    "text =\"\"\"\n",
    "Tokenization:\n",
    "Tokenization is the process of dividing a text corpus into smaller, manageable units, such as words or phrases. Although it might seem like a straightforward task, tokenization is foundational to many NLP processes. For example, in languages like Japanese, where words are not naturally separated by spaces or punctuation marks, tokenization becomes a complex yet vital step. Proper tokenization ensures that subsequent NLP tasks, like syntactic parsing or machine translation, can be performed more accurately.\n",
    "\n",
    "Word-Sense Disambiguation (WSD):\n",
    "Word-Sense Disambiguation is a crucial NLP task that involves identifying the correct meaning of a word based on its context. For example, consider the sentences, \"The dog barked at the mailman,\" and \"Tree bark is sometimes used as a medicine.\" In these instances, the word \"bark\" has two distinct meanings—one as a sound a dog makes and the other as the outer covering of a tree. WSD is essential for various NLP applications, such as question answering and machine translation, where understanding the precise meaning of a word in context is critical for providing accurate responses or translations.\n",
    "\n",
    "Named Entity Recognition (NER):\n",
    "Named Entity Recognition focuses on identifying and classifying named entities within a text into predefined categories such as people, organizations, locations, and more. For example, in the sentence, \"John gave Mary two apples at school on Monday,\" NER would tag the entities as [John]name, [Mary]name, [two]number, [school]organization, and [Monday]time. NER is indispensable in fields such as information retrieval, where accurately identifying entities can significantly improve search results, and in knowledge representation, where structured data about entities is required.\n",
    "Part-of-Speech (PoS) Tagging:\n",
    "Part-of-Speech tagging involves assigning each word in a text to its corresponding part of speech, such as noun, verb, adjective, adverb, or preposition. This task can be conducted at varying levels of granularity, from basic tags like \"noun\" or \"verb\" to more specific tags like \"proper noun\" or \"phrasal verb.\" PoS tagging is a critical step in understanding the syntactic structure of a sentence, which in turn influences other NLP tasks like parsing, named entity recognition, and machine translation.\n",
    "\n",
    "Sentence/Synopsis Classification:\n",
    "Sentence or synopsis classification is a task that involves categorizing text into predefined classes. This has numerous applications, including spam detection, where the goal is to classify emails as spam or not; news article classification, where articles are categorized into topics like politics, technology, or sports; and product review ratings, where reviews are classified as positive or negative. This is typically achieved by training a classification model on labeled data—text annotated by humans with the appropriate labels. The model then learns to classify new, unseen text based on this training.\n",
    "\n",
    "Question Answering (QA):\n",
    "Question Answering is a highly valuable NLP task, especially in commercial applications. QA systems form the backbone of chatbots and virtual assistants, such as Google Assistant and Apple’s Siri. These systems are designed to provide accurate and relevant answers to user queries, often without requiring human intervention. For example, a chatbot might help a customer change their mobile plan or provide answers to frequently asked questions. Developing a QA system is particularly challenging because it involves multiple aspects of NLP, including information retrieval, natural language understanding, and knowledge representation.\n",
    "\n",
    "Limitations of Traditional Natural Language Processing Approach \n",
    "Traditional NLP methods struggled with complex language nuances and ambiguities. Deep learning has emerged as a game-changer, with architectures like RNNs, LSTMs, GRUs, and Transformers demonstrating remarkable performance on challenging NLP tasks such as machine translation, sentiment analysis, and text generation.  The preprocessing steps used in traditional NLP forces a trade-off of potentially useful information embedded in the text (for example, punctuation and tense information) in order to make the learning feasible by reducing the vocabulary. \n",
    "Though preprocessing is still used in modern deep-learning-based solutions, it is not as crucial as for the traditional NLP workflow due to the large representational capacity of deep networks.\n",
    "Feature engineering needs to be performed manually by hand. In order to design a reliable system, good features need to be devised. This process can be very tedious as different feature spaces need to be extensively explored. Additionally, in order to effectively explore robust features, domain expertise is required, which can be scarce for certain NLP tasks. Various external resources are needed for it to perform well, and there are not many freely available ones. \n",
    "Such external resources often consist of manually created information stored in large databases. Creating one for a particular task can take several years, depending on the severity of the task (for example, a machine translation rule base).\n",
    "These advancements have propelled NLP into various industries, revolutionizing operations and decision-making. However, addressing challenges like model explainability, bias mitigation, and ethical considerations remains essential for the continued growth of this field. For instance, when users search for today’s weather on Google or use Google Translate to discover how to say “How are you?” in French, they rely on specific NLP tasks working seamlessly behind the scenes. \n",
    "\"\"\"\n",
    "print(\"Number of characters:\",len(text))\n",
    "summary=summarize(text,len(text)/2)\n",
    "\n",
    "wrapped_summary = textwrap.fill(summary, width=70)\n",
    "print (\"\\nSummarized text: \\n\", wrapped_summary)\n",
    "\n"
   ]
  },
  {
   "cell_type": "code",
   "execution_count": null,
   "metadata": {},
   "outputs": [
    {
     "name": "stdout",
     "output_type": "stream",
     "text": [
      "Number of characters: 1816\n",
      "Max Length 908.0\n",
      "\n",
      "Summarized text: \n",
      " the law regarding corporations prescribes that a corporation can be\n",
      "incorporated in the state of Montana to serve any lawful purpose. the\n",
      "corporation has all the powers of an natural person for carrying out\n",
      "its business activities.the corporation cannot sue and be sued in its\n",
      "corporate name.it has perpetual succession. It can conduct business,\n",
      "carry on operations, and have offices and exercise its powers in ,\n",
      "territory or district in possession of the U.S.\n"
     ]
    }
   ],
   "source": [
    "\n",
    "##A corporate law sample\n",
    "\n",
    "#Montana Corporate Law\n",
    "#https://corporations.uslegal.com/state-corporation-law/montana-corporation-law/#:~:text=Montana%20Corporation%20Law,carrying%20out%20its%20business%20activities.\n",
    "\n",
    "text =\"\"\"The law regarding corporations prescribes that a corporation can be incorporated in the state of Montana to serve any lawful purpose.  In the state of Montana, a corporation has all the powers of a natural person for carrying out its business activities.  The corporation can sue and be sued in its corporate name.  It has perpetual succession.  The corporation can buy, sell or otherwise acquire an interest in a real or personal property.  It can conduct business, carry on operations, and have offices and exercise the powers in a state, territory or district in possession of the U.S., or in a foreign country.  It can appoint officers and agents of the corporation for various duties and fix their compensation.\n",
    "The name of a corporation must contain the word “corporation” or its abbreviation “corp.”  The name of a corporation should not be deceptively similar to the name of another corporation incorporated in the same state.  It should not be deceptively identical to the fictitious name adopted by a foreign corporation having business transactions in the state.\n",
    "The corporation is formed by one or more natural persons by executing and filing articles of incorporation to the secretary of state of filing.  The qualifications for directors are fixed either by articles of incorporation or bylaws.  The names and addresses of the initial directors and purpose of incorporation should be set forth in the articles of incorporation.  The articles of incorporation should contain the corporate name, the number of shares authorized to issue, a brief statement of the character of business carried out by the corporation, the names and addresses of the directors until successors are elected, and name and addresses of incorporators.  The shareholders have the power to change the size of board of directors.\n",
    "\"\"\"\n",
    "print(\"Number of characters:\",len(text))\n",
    "summary=summarize(text,len(text)/2)\n",
    "\n",
    "wrapped_summary = textwrap.fill(summary, width=70)\n",
    "print (\"\\nSummarized text: \\n\", wrapped_summary)"
   ]
  },
  {
   "cell_type": "code",
   "execution_count": null,
   "metadata": {},
   "outputs": [],
   "source": [
    "# model.save_pretrained('./textsum_model')\n",
    "# tokenizer.save_pretrained('./textsum_tokenizer')"
   ]
  },
  {
   "cell_type": "code",
   "execution_count": null,
   "metadata": {},
   "outputs": [],
   "source": []
  }
 ],
 "metadata": {
  "colab": {
   "provenance": [],
   "toc_visible": true
  },
  "kernelspec": {
   "display_name": "CUDA-GPU",
   "language": "python",
   "name": "python3"
  },
  "language_info": {
   "codemirror_mode": {
    "name": "ipython",
    "version": 3
   },
   "file_extension": ".py",
   "mimetype": "text/x-python",
   "name": "python",
   "nbconvert_exporter": "python",
   "pygments_lexer": "ipython3",
   "version": "3.8.19"
  },
  "widgets": {
   "application/vnd.jupyter.widget-state+json": {
    "0a14ce3252f3454fa0e9a90bbca59cf5": {
     "model_module": "@jupyter-widgets/controls",
     "model_module_version": "1.5.0",
     "model_name": "DescriptionStyleModel",
     "state": {
      "_model_module": "@jupyter-widgets/controls",
      "_model_module_version": "1.5.0",
      "_model_name": "DescriptionStyleModel",
      "_view_count": null,
      "_view_module": "@jupyter-widgets/base",
      "_view_module_version": "1.2.0",
      "_view_name": "StyleView",
      "description_width": ""
     }
    },
    "0d0bf69db59f40c883ad2f0d546d75fa": {
     "model_module": "@jupyter-widgets/controls",
     "model_module_version": "1.5.0",
     "model_name": "HBoxModel",
     "state": {
      "_dom_classes": [],
      "_model_module": "@jupyter-widgets/controls",
      "_model_module_version": "1.5.0",
      "_model_name": "HBoxModel",
      "_view_count": null,
      "_view_module": "@jupyter-widgets/controls",
      "_view_module_version": "1.5.0",
      "_view_name": "HBoxView",
      "box_style": "",
      "children": [
       "IPY_MODEL_472d96bef62d425d94b047b913d96095",
       "IPY_MODEL_7a27b0d0950147299d88e047a828c7a7",
       "IPY_MODEL_f1e63d34cdf545f2b4ccb818b7cac0b1"
      ],
      "layout": "IPY_MODEL_62681f605a6040f089acd547fb1a606b"
     }
    },
    "0f2eb4e37d134a8284682700b02a6b55": {
     "model_module": "@jupyter-widgets/base",
     "model_module_version": "1.2.0",
     "model_name": "LayoutModel",
     "state": {
      "_model_module": "@jupyter-widgets/base",
      "_model_module_version": "1.2.0",
      "_model_name": "LayoutModel",
      "_view_count": null,
      "_view_module": "@jupyter-widgets/base",
      "_view_module_version": "1.2.0",
      "_view_name": "LayoutView",
      "align_content": null,
      "align_items": null,
      "align_self": null,
      "border": null,
      "bottom": null,
      "display": null,
      "flex": null,
      "flex_flow": null,
      "grid_area": null,
      "grid_auto_columns": null,
      "grid_auto_flow": null,
      "grid_auto_rows": null,
      "grid_column": null,
      "grid_gap": null,
      "grid_row": null,
      "grid_template_areas": null,
      "grid_template_columns": null,
      "grid_template_rows": null,
      "height": null,
      "justify_content": null,
      "justify_items": null,
      "left": null,
      "margin": null,
      "max_height": null,
      "max_width": null,
      "min_height": null,
      "min_width": null,
      "object_fit": null,
      "object_position": null,
      "order": null,
      "overflow": null,
      "overflow_x": null,
      "overflow_y": null,
      "padding": null,
      "right": null,
      "top": null,
      "visibility": null,
      "width": null
     }
    },
    "10e2d855060a4910944e5b5b47d746d6": {
     "model_module": "@jupyter-widgets/controls",
     "model_module_version": "1.5.0",
     "model_name": "FloatProgressModel",
     "state": {
      "_dom_classes": [],
      "_model_module": "@jupyter-widgets/controls",
      "_model_module_version": "1.5.0",
      "_model_name": "FloatProgressModel",
      "_view_count": null,
      "_view_module": "@jupyter-widgets/controls",
      "_view_module_version": "1.5.0",
      "_view_name": "ProgressView",
      "bar_style": "success",
      "description": "",
      "description_tooltip": null,
      "layout": "IPY_MODEL_758ffcb63a0346bd8035d883d65e50bc",
      "max": 2950736730,
      "min": 0,
      "orientation": "horizontal",
      "style": "IPY_MODEL_9b2177ffd61044fe9da11258aeeaf810",
      "value": 2950736730
     }
    },
    "111e8615f56f487ea5ee7ce17b376d6e": {
     "model_module": "@jupyter-widgets/controls",
     "model_module_version": "1.5.0",
     "model_name": "DescriptionStyleModel",
     "state": {
      "_model_module": "@jupyter-widgets/controls",
      "_model_module_version": "1.5.0",
      "_model_name": "DescriptionStyleModel",
      "_view_count": null,
      "_view_module": "@jupyter-widgets/base",
      "_view_module_version": "1.2.0",
      "_view_name": "StyleView",
      "description_width": ""
     }
    },
    "186ade2b321c42dca0de6f0305c6a672": {
     "model_module": "@jupyter-widgets/controls",
     "model_module_version": "1.5.0",
     "model_name": "FloatProgressModel",
     "state": {
      "_dom_classes": [],
      "_model_module": "@jupyter-widgets/controls",
      "_model_module_version": "1.5.0",
      "_model_name": "FloatProgressModel",
      "_view_count": null,
      "_view_module": "@jupyter-widgets/controls",
      "_view_module_version": "1.5.0",
      "_view_name": "ProgressView",
      "bar_style": "success",
      "description": "",
      "description_tooltip": null,
      "layout": "IPY_MODEL_c524f3a59cbe4e9d8ea87f9c6bfcc016",
      "max": 791656,
      "min": 0,
      "orientation": "horizontal",
      "style": "IPY_MODEL_81faedeb2e2a4fb1bd3a415a33985040",
      "value": 791656
     }
    },
    "228d39d9c878454ab706833bfe0ff3e4": {
     "model_module": "@jupyter-widgets/controls",
     "model_module_version": "1.5.0",
     "model_name": "HTMLModel",
     "state": {
      "_dom_classes": [],
      "_model_module": "@jupyter-widgets/controls",
      "_model_module_version": "1.5.0",
      "_model_name": "HTMLModel",
      "_view_count": null,
      "_view_module": "@jupyter-widgets/controls",
      "_view_module_version": "1.5.0",
      "_view_name": "HTMLView",
      "description": "",
      "description_tooltip": null,
      "layout": "IPY_MODEL_fb7c959857214a2bbbc59c19dd0e83d8",
      "placeholder": "​",
      "style": "IPY_MODEL_111e8615f56f487ea5ee7ce17b376d6e",
      "value": " 147/147 [00:00&lt;00:00, 3.04kB/s]"
     }
    },
    "2394593201e34d4db4c4e3438f517f46": {
     "model_module": "@jupyter-widgets/base",
     "model_module_version": "1.2.0",
     "model_name": "LayoutModel",
     "state": {
      "_model_module": "@jupyter-widgets/base",
      "_model_module_version": "1.2.0",
      "_model_name": "LayoutModel",
      "_view_count": null,
      "_view_module": "@jupyter-widgets/base",
      "_view_module_version": "1.2.0",
      "_view_name": "LayoutView",
      "align_content": null,
      "align_items": null,
      "align_self": null,
      "border": null,
      "bottom": null,
      "display": null,
      "flex": null,
      "flex_flow": null,
      "grid_area": null,
      "grid_auto_columns": null,
      "grid_auto_flow": null,
      "grid_auto_rows": null,
      "grid_column": null,
      "grid_gap": null,
      "grid_row": null,
      "grid_template_areas": null,
      "grid_template_columns": null,
      "grid_template_rows": null,
      "height": null,
      "justify_content": null,
      "justify_items": null,
      "left": null,
      "margin": null,
      "max_height": null,
      "max_width": null,
      "min_height": null,
      "min_width": null,
      "object_fit": null,
      "object_position": null,
      "order": null,
      "overflow": null,
      "overflow_x": null,
      "overflow_y": null,
      "padding": null,
      "right": null,
      "top": null,
      "visibility": null,
      "width": null
     }
    },
    "273fc4f6be2e4b3cbeb540ed6925f408": {
     "model_module": "@jupyter-widgets/controls",
     "model_module_version": "1.5.0",
     "model_name": "DescriptionStyleModel",
     "state": {
      "_model_module": "@jupyter-widgets/controls",
      "_model_module_version": "1.5.0",
      "_model_name": "DescriptionStyleModel",
      "_view_count": null,
      "_view_module": "@jupyter-widgets/base",
      "_view_module_version": "1.2.0",
      "_view_name": "StyleView",
      "description_width": ""
     }
    },
    "27b90ed7398f45aebec1e2caf6114568": {
     "model_module": "@jupyter-widgets/controls",
     "model_module_version": "1.5.0",
     "model_name": "FloatProgressModel",
     "state": {
      "_dom_classes": [],
      "_model_module": "@jupyter-widgets/controls",
      "_model_module_version": "1.5.0",
      "_model_name": "FloatProgressModel",
      "_view_count": null,
      "_view_module": "@jupyter-widgets/controls",
      "_view_module_version": "1.5.0",
      "_view_name": "ProgressView",
      "bar_style": "success",
      "description": "",
      "description_tooltip": null,
      "layout": "IPY_MODEL_434b777b4aee44529e83f0e268d43125",
      "max": 147,
      "min": 0,
      "orientation": "horizontal",
      "style": "IPY_MODEL_eb5055a5064340a1b6b0fda577f00fb9",
      "value": 147
     }
    },
    "2b9af047fd3f46d79397978c094e0fad": {
     "model_module": "@jupyter-widgets/controls",
     "model_module_version": "1.5.0",
     "model_name": "HTMLModel",
     "state": {
      "_dom_classes": [],
      "_model_module": "@jupyter-widgets/controls",
      "_model_module_version": "1.5.0",
      "_model_name": "HTMLModel",
      "_view_count": null,
      "_view_module": "@jupyter-widgets/controls",
      "_view_module_version": "1.5.0",
      "_view_name": "HTMLView",
      "description": "",
      "description_tooltip": null,
      "layout": "IPY_MODEL_e8f3056b9d5147cbaf0cff9dfca1fd98",
      "placeholder": "​",
      "style": "IPY_MODEL_5e5f3add3de44892bdcf348b2c70cd0a",
      "value": " 1.39M/1.39M [00:00&lt;00:00, 3.84MB/s]"
     }
    },
    "3163abb66e154d8da92c6334d210496e": {
     "model_module": "@jupyter-widgets/base",
     "model_module_version": "1.2.0",
     "model_name": "LayoutModel",
     "state": {
      "_model_module": "@jupyter-widgets/base",
      "_model_module_version": "1.2.0",
      "_model_name": "LayoutModel",
      "_view_count": null,
      "_view_module": "@jupyter-widgets/base",
      "_view_module_version": "1.2.0",
      "_view_name": "LayoutView",
      "align_content": null,
      "align_items": null,
      "align_self": null,
      "border": null,
      "bottom": null,
      "display": null,
      "flex": null,
      "flex_flow": null,
      "grid_area": null,
      "grid_auto_columns": null,
      "grid_auto_flow": null,
      "grid_auto_rows": null,
      "grid_column": null,
      "grid_gap": null,
      "grid_row": null,
      "grid_template_areas": null,
      "grid_template_columns": null,
      "grid_template_rows": null,
      "height": null,
      "justify_content": null,
      "justify_items": null,
      "left": null,
      "margin": null,
      "max_height": null,
      "max_width": null,
      "min_height": null,
      "min_width": null,
      "object_fit": null,
      "object_position": null,
      "order": null,
      "overflow": null,
      "overflow_x": null,
      "overflow_y": null,
      "padding": null,
      "right": null,
      "top": null,
      "visibility": null,
      "width": null
     }
    },
    "3e1a78b779da42039d13b29d5121330f": {
     "model_module": "@jupyter-widgets/base",
     "model_module_version": "1.2.0",
     "model_name": "LayoutModel",
     "state": {
      "_model_module": "@jupyter-widgets/base",
      "_model_module_version": "1.2.0",
      "_model_name": "LayoutModel",
      "_view_count": null,
      "_view_module": "@jupyter-widgets/base",
      "_view_module_version": "1.2.0",
      "_view_name": "LayoutView",
      "align_content": null,
      "align_items": null,
      "align_self": null,
      "border": null,
      "bottom": null,
      "display": null,
      "flex": null,
      "flex_flow": null,
      "grid_area": null,
      "grid_auto_columns": null,
      "grid_auto_flow": null,
      "grid_auto_rows": null,
      "grid_column": null,
      "grid_gap": null,
      "grid_row": null,
      "grid_template_areas": null,
      "grid_template_columns": null,
      "grid_template_rows": null,
      "height": null,
      "justify_content": null,
      "justify_items": null,
      "left": null,
      "margin": null,
      "max_height": null,
      "max_width": null,
      "min_height": null,
      "min_width": null,
      "object_fit": null,
      "object_position": null,
      "order": null,
      "overflow": null,
      "overflow_x": null,
      "overflow_y": null,
      "padding": null,
      "right": null,
      "top": null,
      "visibility": null,
      "width": null
     }
    },
    "434b777b4aee44529e83f0e268d43125": {
     "model_module": "@jupyter-widgets/base",
     "model_module_version": "1.2.0",
     "model_name": "LayoutModel",
     "state": {
      "_model_module": "@jupyter-widgets/base",
      "_model_module_version": "1.2.0",
      "_model_name": "LayoutModel",
      "_view_count": null,
      "_view_module": "@jupyter-widgets/base",
      "_view_module_version": "1.2.0",
      "_view_name": "LayoutView",
      "align_content": null,
      "align_items": null,
      "align_self": null,
      "border": null,
      "bottom": null,
      "display": null,
      "flex": null,
      "flex_flow": null,
      "grid_area": null,
      "grid_auto_columns": null,
      "grid_auto_flow": null,
      "grid_auto_rows": null,
      "grid_column": null,
      "grid_gap": null,
      "grid_row": null,
      "grid_template_areas": null,
      "grid_template_columns": null,
      "grid_template_rows": null,
      "height": null,
      "justify_content": null,
      "justify_items": null,
      "left": null,
      "margin": null,
      "max_height": null,
      "max_width": null,
      "min_height": null,
      "min_width": null,
      "object_fit": null,
      "object_position": null,
      "order": null,
      "overflow": null,
      "overflow_x": null,
      "overflow_y": null,
      "padding": null,
      "right": null,
      "top": null,
      "visibility": null,
      "width": null
     }
    },
    "43eff624efe042f6b294867d17f24950": {
     "model_module": "@jupyter-widgets/controls",
     "model_module_version": "1.5.0",
     "model_name": "DescriptionStyleModel",
     "state": {
      "_model_module": "@jupyter-widgets/controls",
      "_model_module_version": "1.5.0",
      "_model_name": "DescriptionStyleModel",
      "_view_count": null,
      "_view_module": "@jupyter-widgets/base",
      "_view_module_version": "1.2.0",
      "_view_name": "StyleView",
      "description_width": ""
     }
    },
    "472d96bef62d425d94b047b913d96095": {
     "model_module": "@jupyter-widgets/controls",
     "model_module_version": "1.5.0",
     "model_name": "HTMLModel",
     "state": {
      "_dom_classes": [],
      "_model_module": "@jupyter-widgets/controls",
      "_model_module_version": "1.5.0",
      "_model_name": "HTMLModel",
      "_view_count": null,
      "_view_module": "@jupyter-widgets/controls",
      "_view_module_version": "1.5.0",
      "_view_name": "HTMLView",
      "description": "",
      "description_tooltip": null,
      "layout": "IPY_MODEL_c57f6c5ef49a48af9ca7faaf7c5fc4d2",
      "placeholder": "​",
      "style": "IPY_MODEL_273fc4f6be2e4b3cbeb540ed6925f408",
      "value": "config.json: 100%"
     }
    },
    "482c6bdc607741db9d430afe78b8f8c4": {
     "model_module": "@jupyter-widgets/controls",
     "model_module_version": "1.5.0",
     "model_name": "HTMLModel",
     "state": {
      "_dom_classes": [],
      "_model_module": "@jupyter-widgets/controls",
      "_model_module_version": "1.5.0",
      "_model_name": "HTMLModel",
      "_view_count": null,
      "_view_module": "@jupyter-widgets/controls",
      "_view_module_version": "1.5.0",
      "_view_name": "HTMLView",
      "description": "",
      "description_tooltip": null,
      "layout": "IPY_MODEL_4b21d800243543489820991b71f46e31",
      "placeholder": "​",
      "style": "IPY_MODEL_a2c9a6166cce461a96fdbd71d041e028",
      "value": " 2.95G/2.95G [00:37&lt;00:00, 99.2MB/s]"
     }
    },
    "4b21d800243543489820991b71f46e31": {
     "model_module": "@jupyter-widgets/base",
     "model_module_version": "1.2.0",
     "model_name": "LayoutModel",
     "state": {
      "_model_module": "@jupyter-widgets/base",
      "_model_module_version": "1.2.0",
      "_model_name": "LayoutModel",
      "_view_count": null,
      "_view_module": "@jupyter-widgets/base",
      "_view_module_version": "1.2.0",
      "_view_name": "LayoutView",
      "align_content": null,
      "align_items": null,
      "align_self": null,
      "border": null,
      "bottom": null,
      "display": null,
      "flex": null,
      "flex_flow": null,
      "grid_area": null,
      "grid_auto_columns": null,
      "grid_auto_flow": null,
      "grid_auto_rows": null,
      "grid_column": null,
      "grid_gap": null,
      "grid_row": null,
      "grid_template_areas": null,
      "grid_template_columns": null,
      "grid_template_rows": null,
      "height": null,
      "justify_content": null,
      "justify_items": null,
      "left": null,
      "margin": null,
      "max_height": null,
      "max_width": null,
      "min_height": null,
      "min_width": null,
      "object_fit": null,
      "object_position": null,
      "order": null,
      "overflow": null,
      "overflow_x": null,
      "overflow_y": null,
      "padding": null,
      "right": null,
      "top": null,
      "visibility": null,
      "width": null
     }
    },
    "4c02797b5d1c45539dbc06cfa9b4eabf": {
     "model_module": "@jupyter-widgets/base",
     "model_module_version": "1.2.0",
     "model_name": "LayoutModel",
     "state": {
      "_model_module": "@jupyter-widgets/base",
      "_model_module_version": "1.2.0",
      "_model_name": "LayoutModel",
      "_view_count": null,
      "_view_module": "@jupyter-widgets/base",
      "_view_module_version": "1.2.0",
      "_view_name": "LayoutView",
      "align_content": null,
      "align_items": null,
      "align_self": null,
      "border": null,
      "bottom": null,
      "display": null,
      "flex": null,
      "flex_flow": null,
      "grid_area": null,
      "grid_auto_columns": null,
      "grid_auto_flow": null,
      "grid_auto_rows": null,
      "grid_column": null,
      "grid_gap": null,
      "grid_row": null,
      "grid_template_areas": null,
      "grid_template_columns": null,
      "grid_template_rows": null,
      "height": null,
      "justify_content": null,
      "justify_items": null,
      "left": null,
      "margin": null,
      "max_height": null,
      "max_width": null,
      "min_height": null,
      "min_width": null,
      "object_fit": null,
      "object_position": null,
      "order": null,
      "overflow": null,
      "overflow_x": null,
      "overflow_y": null,
      "padding": null,
      "right": null,
      "top": null,
      "visibility": null,
      "width": null
     }
    },
    "53d84c09ff35412b989e34cf932a99e5": {
     "model_module": "@jupyter-widgets/controls",
     "model_module_version": "1.5.0",
     "model_name": "HTMLModel",
     "state": {
      "_dom_classes": [],
      "_model_module": "@jupyter-widgets/controls",
      "_model_module_version": "1.5.0",
      "_model_name": "HTMLModel",
      "_view_count": null,
      "_view_module": "@jupyter-widgets/controls",
      "_view_module_version": "1.5.0",
      "_view_name": "HTMLView",
      "description": "",
      "description_tooltip": null,
      "layout": "IPY_MODEL_e6f4decb4f0a46a4a62ad1c8f92f1b95",
      "placeholder": "​",
      "style": "IPY_MODEL_73d5561ec2ad486880e7cdc4a366e028",
      "value": "model.safetensors: 100%"
     }
    },
    "595bb22ca5f241cb9da57ec8c606ea96": {
     "model_module": "@jupyter-widgets/controls",
     "model_module_version": "1.5.0",
     "model_name": "HTMLModel",
     "state": {
      "_dom_classes": [],
      "_model_module": "@jupyter-widgets/controls",
      "_model_module_version": "1.5.0",
      "_model_name": "HTMLModel",
      "_view_count": null,
      "_view_module": "@jupyter-widgets/controls",
      "_view_module_version": "1.5.0",
      "_view_name": "HTMLView",
      "description": "",
      "description_tooltip": null,
      "layout": "IPY_MODEL_898aa9eeaa9d4c1ea7b1c94cc2be8ce6",
      "placeholder": "​",
      "style": "IPY_MODEL_43eff624efe042f6b294867d17f24950",
      "value": "tokenizer.json: 100%"
     }
    },
    "5e5f3add3de44892bdcf348b2c70cd0a": {
     "model_module": "@jupyter-widgets/controls",
     "model_module_version": "1.5.0",
     "model_name": "DescriptionStyleModel",
     "state": {
      "_model_module": "@jupyter-widgets/controls",
      "_model_module_version": "1.5.0",
      "_model_name": "DescriptionStyleModel",
      "_view_count": null,
      "_view_module": "@jupyter-widgets/base",
      "_view_module_version": "1.2.0",
      "_view_name": "StyleView",
      "description_width": ""
     }
    },
    "62681f605a6040f089acd547fb1a606b": {
     "model_module": "@jupyter-widgets/base",
     "model_module_version": "1.2.0",
     "model_name": "LayoutModel",
     "state": {
      "_model_module": "@jupyter-widgets/base",
      "_model_module_version": "1.2.0",
      "_model_name": "LayoutModel",
      "_view_count": null,
      "_view_module": "@jupyter-widgets/base",
      "_view_module_version": "1.2.0",
      "_view_name": "LayoutView",
      "align_content": null,
      "align_items": null,
      "align_self": null,
      "border": null,
      "bottom": null,
      "display": null,
      "flex": null,
      "flex_flow": null,
      "grid_area": null,
      "grid_auto_columns": null,
      "grid_auto_flow": null,
      "grid_auto_rows": null,
      "grid_column": null,
      "grid_gap": null,
      "grid_row": null,
      "grid_template_areas": null,
      "grid_template_columns": null,
      "grid_template_rows": null,
      "height": null,
      "justify_content": null,
      "justify_items": null,
      "left": null,
      "margin": null,
      "max_height": null,
      "max_width": null,
      "min_height": null,
      "min_width": null,
      "object_fit": null,
      "object_position": null,
      "order": null,
      "overflow": null,
      "overflow_x": null,
      "overflow_y": null,
      "padding": null,
      "right": null,
      "top": null,
      "visibility": null,
      "width": null
     }
    },
    "72837f74092a4a70acba6601b3202cad": {
     "model_module": "@jupyter-widgets/controls",
     "model_module_version": "1.5.0",
     "model_name": "ProgressStyleModel",
     "state": {
      "_model_module": "@jupyter-widgets/controls",
      "_model_module_version": "1.5.0",
      "_model_name": "ProgressStyleModel",
      "_view_count": null,
      "_view_module": "@jupyter-widgets/base",
      "_view_module_version": "1.2.0",
      "_view_name": "StyleView",
      "bar_color": null,
      "description_width": ""
     }
    },
    "73d5561ec2ad486880e7cdc4a366e028": {
     "model_module": "@jupyter-widgets/controls",
     "model_module_version": "1.5.0",
     "model_name": "DescriptionStyleModel",
     "state": {
      "_model_module": "@jupyter-widgets/controls",
      "_model_module_version": "1.5.0",
      "_model_name": "DescriptionStyleModel",
      "_view_count": null,
      "_view_module": "@jupyter-widgets/base",
      "_view_module_version": "1.2.0",
      "_view_name": "StyleView",
      "description_width": ""
     }
    },
    "758ffcb63a0346bd8035d883d65e50bc": {
     "model_module": "@jupyter-widgets/base",
     "model_module_version": "1.2.0",
     "model_name": "LayoutModel",
     "state": {
      "_model_module": "@jupyter-widgets/base",
      "_model_module_version": "1.2.0",
      "_model_name": "LayoutModel",
      "_view_count": null,
      "_view_module": "@jupyter-widgets/base",
      "_view_module_version": "1.2.0",
      "_view_name": "LayoutView",
      "align_content": null,
      "align_items": null,
      "align_self": null,
      "border": null,
      "bottom": null,
      "display": null,
      "flex": null,
      "flex_flow": null,
      "grid_area": null,
      "grid_auto_columns": null,
      "grid_auto_flow": null,
      "grid_auto_rows": null,
      "grid_column": null,
      "grid_gap": null,
      "grid_row": null,
      "grid_template_areas": null,
      "grid_template_columns": null,
      "grid_template_rows": null,
      "height": null,
      "justify_content": null,
      "justify_items": null,
      "left": null,
      "margin": null,
      "max_height": null,
      "max_width": null,
      "min_height": null,
      "min_width": null,
      "object_fit": null,
      "object_position": null,
      "order": null,
      "overflow": null,
      "overflow_x": null,
      "overflow_y": null,
      "padding": null,
      "right": null,
      "top": null,
      "visibility": null,
      "width": null
     }
    },
    "7a27b0d0950147299d88e047a828c7a7": {
     "model_module": "@jupyter-widgets/controls",
     "model_module_version": "1.5.0",
     "model_name": "FloatProgressModel",
     "state": {
      "_dom_classes": [],
      "_model_module": "@jupyter-widgets/controls",
      "_model_module_version": "1.5.0",
      "_model_name": "FloatProgressModel",
      "_view_count": null,
      "_view_module": "@jupyter-widgets/controls",
      "_view_module_version": "1.5.0",
      "_view_name": "ProgressView",
      "bar_style": "success",
      "description": "",
      "description_tooltip": null,
      "layout": "IPY_MODEL_3163abb66e154d8da92c6334d210496e",
      "max": 1209,
      "min": 0,
      "orientation": "horizontal",
      "style": "IPY_MODEL_ed47761e44d3483c9953deff3329814f",
      "value": 1209
     }
    },
    "81faedeb2e2a4fb1bd3a415a33985040": {
     "model_module": "@jupyter-widgets/controls",
     "model_module_version": "1.5.0",
     "model_name": "ProgressStyleModel",
     "state": {
      "_model_module": "@jupyter-widgets/controls",
      "_model_module_version": "1.5.0",
      "_model_name": "ProgressStyleModel",
      "_view_count": null,
      "_view_module": "@jupyter-widgets/base",
      "_view_module_version": "1.2.0",
      "_view_name": "StyleView",
      "bar_color": null,
      "description_width": ""
     }
    },
    "898aa9eeaa9d4c1ea7b1c94cc2be8ce6": {
     "model_module": "@jupyter-widgets/base",
     "model_module_version": "1.2.0",
     "model_name": "LayoutModel",
     "state": {
      "_model_module": "@jupyter-widgets/base",
      "_model_module_version": "1.2.0",
      "_model_name": "LayoutModel",
      "_view_count": null,
      "_view_module": "@jupyter-widgets/base",
      "_view_module_version": "1.2.0",
      "_view_name": "LayoutView",
      "align_content": null,
      "align_items": null,
      "align_self": null,
      "border": null,
      "bottom": null,
      "display": null,
      "flex": null,
      "flex_flow": null,
      "grid_area": null,
      "grid_auto_columns": null,
      "grid_auto_flow": null,
      "grid_auto_rows": null,
      "grid_column": null,
      "grid_gap": null,
      "grid_row": null,
      "grid_template_areas": null,
      "grid_template_columns": null,
      "grid_template_rows": null,
      "height": null,
      "justify_content": null,
      "justify_items": null,
      "left": null,
      "margin": null,
      "max_height": null,
      "max_width": null,
      "min_height": null,
      "min_width": null,
      "object_fit": null,
      "object_position": null,
      "order": null,
      "overflow": null,
      "overflow_x": null,
      "overflow_y": null,
      "padding": null,
      "right": null,
      "top": null,
      "visibility": null,
      "width": null
     }
    },
    "9b2177ffd61044fe9da11258aeeaf810": {
     "model_module": "@jupyter-widgets/controls",
     "model_module_version": "1.5.0",
     "model_name": "ProgressStyleModel",
     "state": {
      "_model_module": "@jupyter-widgets/controls",
      "_model_module_version": "1.5.0",
      "_model_name": "ProgressStyleModel",
      "_view_count": null,
      "_view_module": "@jupyter-widgets/base",
      "_view_module_version": "1.2.0",
      "_view_name": "StyleView",
      "bar_color": null,
      "description_width": ""
     }
    },
    "9e34ac4c6d9e41c480ce08b01f8815ae": {
     "model_module": "@jupyter-widgets/base",
     "model_module_version": "1.2.0",
     "model_name": "LayoutModel",
     "state": {
      "_model_module": "@jupyter-widgets/base",
      "_model_module_version": "1.2.0",
      "_model_name": "LayoutModel",
      "_view_count": null,
      "_view_module": "@jupyter-widgets/base",
      "_view_module_version": "1.2.0",
      "_view_name": "LayoutView",
      "align_content": null,
      "align_items": null,
      "align_self": null,
      "border": null,
      "bottom": null,
      "display": null,
      "flex": null,
      "flex_flow": null,
      "grid_area": null,
      "grid_auto_columns": null,
      "grid_auto_flow": null,
      "grid_auto_rows": null,
      "grid_column": null,
      "grid_gap": null,
      "grid_row": null,
      "grid_template_areas": null,
      "grid_template_columns": null,
      "grid_template_rows": null,
      "height": null,
      "justify_content": null,
      "justify_items": null,
      "left": null,
      "margin": null,
      "max_height": null,
      "max_width": null,
      "min_height": null,
      "min_width": null,
      "object_fit": null,
      "object_position": null,
      "order": null,
      "overflow": null,
      "overflow_x": null,
      "overflow_y": null,
      "padding": null,
      "right": null,
      "top": null,
      "visibility": null,
      "width": null
     }
    },
    "a2c9a6166cce461a96fdbd71d041e028": {
     "model_module": "@jupyter-widgets/controls",
     "model_module_version": "1.5.0",
     "model_name": "DescriptionStyleModel",
     "state": {
      "_model_module": "@jupyter-widgets/controls",
      "_model_module_version": "1.5.0",
      "_model_name": "DescriptionStyleModel",
      "_view_count": null,
      "_view_module": "@jupyter-widgets/base",
      "_view_module_version": "1.2.0",
      "_view_name": "StyleView",
      "description_width": ""
     }
    },
    "a9a14dc3e6ab41a3ae2d87d4eb22bd52": {
     "model_module": "@jupyter-widgets/controls",
     "model_module_version": "1.5.0",
     "model_name": "FloatProgressModel",
     "state": {
      "_dom_classes": [],
      "_model_module": "@jupyter-widgets/controls",
      "_model_module_version": "1.5.0",
      "_model_name": "FloatProgressModel",
      "_view_count": null,
      "_view_module": "@jupyter-widgets/controls",
      "_view_module_version": "1.5.0",
      "_view_name": "ProgressView",
      "bar_style": "success",
      "description": "",
      "description_tooltip": null,
      "layout": "IPY_MODEL_3e1a78b779da42039d13b29d5121330f",
      "max": 1389353,
      "min": 0,
      "orientation": "horizontal",
      "style": "IPY_MODEL_72837f74092a4a70acba6601b3202cad",
      "value": 1389353
     }
    },
    "ab6ccc19d336484990dfc52b164f7d37": {
     "model_module": "@jupyter-widgets/controls",
     "model_module_version": "1.5.0",
     "model_name": "HTMLModel",
     "state": {
      "_dom_classes": [],
      "_model_module": "@jupyter-widgets/controls",
      "_model_module_version": "1.5.0",
      "_model_name": "HTMLModel",
      "_view_count": null,
      "_view_module": "@jupyter-widgets/controls",
      "_view_module_version": "1.5.0",
      "_view_name": "HTMLView",
      "description": "",
      "description_tooltip": null,
      "layout": "IPY_MODEL_0f2eb4e37d134a8284682700b02a6b55",
      "placeholder": "​",
      "style": "IPY_MODEL_0a14ce3252f3454fa0e9a90bbca59cf5",
      "value": " 792k/792k [00:00&lt;00:00, 944kB/s]"
     }
    },
    "ae2ee2eea8b94b7cac6cf93a32972ce8": {
     "model_module": "@jupyter-widgets/base",
     "model_module_version": "1.2.0",
     "model_name": "LayoutModel",
     "state": {
      "_model_module": "@jupyter-widgets/base",
      "_model_module_version": "1.2.0",
      "_model_name": "LayoutModel",
      "_view_count": null,
      "_view_module": "@jupyter-widgets/base",
      "_view_module_version": "1.2.0",
      "_view_name": "LayoutView",
      "align_content": null,
      "align_items": null,
      "align_self": null,
      "border": null,
      "bottom": null,
      "display": null,
      "flex": null,
      "flex_flow": null,
      "grid_area": null,
      "grid_auto_columns": null,
      "grid_auto_flow": null,
      "grid_auto_rows": null,
      "grid_column": null,
      "grid_gap": null,
      "grid_row": null,
      "grid_template_areas": null,
      "grid_template_columns": null,
      "grid_template_rows": null,
      "height": null,
      "justify_content": null,
      "justify_items": null,
      "left": null,
      "margin": null,
      "max_height": null,
      "max_width": null,
      "min_height": null,
      "min_width": null,
      "object_fit": null,
      "object_position": null,
      "order": null,
      "overflow": null,
      "overflow_x": null,
      "overflow_y": null,
      "padding": null,
      "right": null,
      "top": null,
      "visibility": null,
      "width": null
     }
    },
    "bc1325eb7af342d99ca737ab02030651": {
     "model_module": "@jupyter-widgets/controls",
     "model_module_version": "1.5.0",
     "model_name": "HBoxModel",
     "state": {
      "_dom_classes": [],
      "_model_module": "@jupyter-widgets/controls",
      "_model_module_version": "1.5.0",
      "_model_name": "HBoxModel",
      "_view_count": null,
      "_view_module": "@jupyter-widgets/controls",
      "_view_module_version": "1.5.0",
      "_view_name": "HBoxView",
      "box_style": "",
      "children": [
       "IPY_MODEL_e968994f2bb34afcb3f6b1ab00f1d45a",
       "IPY_MODEL_186ade2b321c42dca0de6f0305c6a672",
       "IPY_MODEL_ab6ccc19d336484990dfc52b164f7d37"
      ],
      "layout": "IPY_MODEL_ae2ee2eea8b94b7cac6cf93a32972ce8"
     }
    },
    "be11c807ea0e445cb57f50971f20a7a8": {
     "model_module": "@jupyter-widgets/controls",
     "model_module_version": "1.5.0",
     "model_name": "DescriptionStyleModel",
     "state": {
      "_model_module": "@jupyter-widgets/controls",
      "_model_module_version": "1.5.0",
      "_model_name": "DescriptionStyleModel",
      "_view_count": null,
      "_view_module": "@jupyter-widgets/base",
      "_view_module_version": "1.2.0",
      "_view_name": "StyleView",
      "description_width": ""
     }
    },
    "c48edf2207404520a4b5f006b2128abf": {
     "model_module": "@jupyter-widgets/controls",
     "model_module_version": "1.5.0",
     "model_name": "HTMLModel",
     "state": {
      "_dom_classes": [],
      "_model_module": "@jupyter-widgets/controls",
      "_model_module_version": "1.5.0",
      "_model_name": "HTMLModel",
      "_view_count": null,
      "_view_module": "@jupyter-widgets/controls",
      "_view_module_version": "1.5.0",
      "_view_name": "HTMLView",
      "description": "",
      "description_tooltip": null,
      "layout": "IPY_MODEL_9e34ac4c6d9e41c480ce08b01f8815ae",
      "placeholder": "​",
      "style": "IPY_MODEL_f07be5602db2414585177fe3938df81f",
      "value": "generation_config.json: 100%"
     }
    },
    "c524f3a59cbe4e9d8ea87f9c6bfcc016": {
     "model_module": "@jupyter-widgets/base",
     "model_module_version": "1.2.0",
     "model_name": "LayoutModel",
     "state": {
      "_model_module": "@jupyter-widgets/base",
      "_model_module_version": "1.2.0",
      "_model_name": "LayoutModel",
      "_view_count": null,
      "_view_module": "@jupyter-widgets/base",
      "_view_module_version": "1.2.0",
      "_view_name": "LayoutView",
      "align_content": null,
      "align_items": null,
      "align_self": null,
      "border": null,
      "bottom": null,
      "display": null,
      "flex": null,
      "flex_flow": null,
      "grid_area": null,
      "grid_auto_columns": null,
      "grid_auto_flow": null,
      "grid_auto_rows": null,
      "grid_column": null,
      "grid_gap": null,
      "grid_row": null,
      "grid_template_areas": null,
      "grid_template_columns": null,
      "grid_template_rows": null,
      "height": null,
      "justify_content": null,
      "justify_items": null,
      "left": null,
      "margin": null,
      "max_height": null,
      "max_width": null,
      "min_height": null,
      "min_width": null,
      "object_fit": null,
      "object_position": null,
      "order": null,
      "overflow": null,
      "overflow_x": null,
      "overflow_y": null,
      "padding": null,
      "right": null,
      "top": null,
      "visibility": null,
      "width": null
     }
    },
    "c57f6c5ef49a48af9ca7faaf7c5fc4d2": {
     "model_module": "@jupyter-widgets/base",
     "model_module_version": "1.2.0",
     "model_name": "LayoutModel",
     "state": {
      "_model_module": "@jupyter-widgets/base",
      "_model_module_version": "1.2.0",
      "_model_name": "LayoutModel",
      "_view_count": null,
      "_view_module": "@jupyter-widgets/base",
      "_view_module_version": "1.2.0",
      "_view_name": "LayoutView",
      "align_content": null,
      "align_items": null,
      "align_self": null,
      "border": null,
      "bottom": null,
      "display": null,
      "flex": null,
      "flex_flow": null,
      "grid_area": null,
      "grid_auto_columns": null,
      "grid_auto_flow": null,
      "grid_auto_rows": null,
      "grid_column": null,
      "grid_gap": null,
      "grid_row": null,
      "grid_template_areas": null,
      "grid_template_columns": null,
      "grid_template_rows": null,
      "height": null,
      "justify_content": null,
      "justify_items": null,
      "left": null,
      "margin": null,
      "max_height": null,
      "max_width": null,
      "min_height": null,
      "min_width": null,
      "object_fit": null,
      "object_position": null,
      "order": null,
      "overflow": null,
      "overflow_x": null,
      "overflow_y": null,
      "padding": null,
      "right": null,
      "top": null,
      "visibility": null,
      "width": null
     }
    },
    "d1457e4a30ef46b29dac79303e542ada": {
     "model_module": "@jupyter-widgets/controls",
     "model_module_version": "1.5.0",
     "model_name": "HBoxModel",
     "state": {
      "_dom_classes": [],
      "_model_module": "@jupyter-widgets/controls",
      "_model_module_version": "1.5.0",
      "_model_name": "HBoxModel",
      "_view_count": null,
      "_view_module": "@jupyter-widgets/controls",
      "_view_module_version": "1.5.0",
      "_view_name": "HBoxView",
      "box_style": "",
      "children": [
       "IPY_MODEL_595bb22ca5f241cb9da57ec8c606ea96",
       "IPY_MODEL_a9a14dc3e6ab41a3ae2d87d4eb22bd52",
       "IPY_MODEL_2b9af047fd3f46d79397978c094e0fad"
      ],
      "layout": "IPY_MODEL_d7670d649f354b54b0c5608d83d4e258"
     }
    },
    "d1c5a46805cd439ba6e9c00ea92ea5d2": {
     "model_module": "@jupyter-widgets/controls",
     "model_module_version": "1.5.0",
     "model_name": "DescriptionStyleModel",
     "state": {
      "_model_module": "@jupyter-widgets/controls",
      "_model_module_version": "1.5.0",
      "_model_name": "DescriptionStyleModel",
      "_view_count": null,
      "_view_module": "@jupyter-widgets/base",
      "_view_module_version": "1.2.0",
      "_view_name": "StyleView",
      "description_width": ""
     }
    },
    "d4fb8045720f4f4eb5d0df4148e7b40f": {
     "model_module": "@jupyter-widgets/controls",
     "model_module_version": "1.5.0",
     "model_name": "HBoxModel",
     "state": {
      "_dom_classes": [],
      "_model_module": "@jupyter-widgets/controls",
      "_model_module_version": "1.5.0",
      "_model_name": "HBoxModel",
      "_view_count": null,
      "_view_module": "@jupyter-widgets/controls",
      "_view_module_version": "1.5.0",
      "_view_name": "HBoxView",
      "box_style": "",
      "children": [
       "IPY_MODEL_53d84c09ff35412b989e34cf932a99e5",
       "IPY_MODEL_10e2d855060a4910944e5b5b47d746d6",
       "IPY_MODEL_482c6bdc607741db9d430afe78b8f8c4"
      ],
      "layout": "IPY_MODEL_fbc4df0fa7d542e6b47c1d1f1c6326d9"
     }
    },
    "d7670d649f354b54b0c5608d83d4e258": {
     "model_module": "@jupyter-widgets/base",
     "model_module_version": "1.2.0",
     "model_name": "LayoutModel",
     "state": {
      "_model_module": "@jupyter-widgets/base",
      "_model_module_version": "1.2.0",
      "_model_name": "LayoutModel",
      "_view_count": null,
      "_view_module": "@jupyter-widgets/base",
      "_view_module_version": "1.2.0",
      "_view_name": "LayoutView",
      "align_content": null,
      "align_items": null,
      "align_self": null,
      "border": null,
      "bottom": null,
      "display": null,
      "flex": null,
      "flex_flow": null,
      "grid_area": null,
      "grid_auto_columns": null,
      "grid_auto_flow": null,
      "grid_auto_rows": null,
      "grid_column": null,
      "grid_gap": null,
      "grid_row": null,
      "grid_template_areas": null,
      "grid_template_columns": null,
      "grid_template_rows": null,
      "height": null,
      "justify_content": null,
      "justify_items": null,
      "left": null,
      "margin": null,
      "max_height": null,
      "max_width": null,
      "min_height": null,
      "min_width": null,
      "object_fit": null,
      "object_position": null,
      "order": null,
      "overflow": null,
      "overflow_x": null,
      "overflow_y": null,
      "padding": null,
      "right": null,
      "top": null,
      "visibility": null,
      "width": null
     }
    },
    "e6f4decb4f0a46a4a62ad1c8f92f1b95": {
     "model_module": "@jupyter-widgets/base",
     "model_module_version": "1.2.0",
     "model_name": "LayoutModel",
     "state": {
      "_model_module": "@jupyter-widgets/base",
      "_model_module_version": "1.2.0",
      "_model_name": "LayoutModel",
      "_view_count": null,
      "_view_module": "@jupyter-widgets/base",
      "_view_module_version": "1.2.0",
      "_view_name": "LayoutView",
      "align_content": null,
      "align_items": null,
      "align_self": null,
      "border": null,
      "bottom": null,
      "display": null,
      "flex": null,
      "flex_flow": null,
      "grid_area": null,
      "grid_auto_columns": null,
      "grid_auto_flow": null,
      "grid_auto_rows": null,
      "grid_column": null,
      "grid_gap": null,
      "grid_row": null,
      "grid_template_areas": null,
      "grid_template_columns": null,
      "grid_template_rows": null,
      "height": null,
      "justify_content": null,
      "justify_items": null,
      "left": null,
      "margin": null,
      "max_height": null,
      "max_width": null,
      "min_height": null,
      "min_width": null,
      "object_fit": null,
      "object_position": null,
      "order": null,
      "overflow": null,
      "overflow_x": null,
      "overflow_y": null,
      "padding": null,
      "right": null,
      "top": null,
      "visibility": null,
      "width": null
     }
    },
    "e8f3056b9d5147cbaf0cff9dfca1fd98": {
     "model_module": "@jupyter-widgets/base",
     "model_module_version": "1.2.0",
     "model_name": "LayoutModel",
     "state": {
      "_model_module": "@jupyter-widgets/base",
      "_model_module_version": "1.2.0",
      "_model_name": "LayoutModel",
      "_view_count": null,
      "_view_module": "@jupyter-widgets/base",
      "_view_module_version": "1.2.0",
      "_view_name": "LayoutView",
      "align_content": null,
      "align_items": null,
      "align_self": null,
      "border": null,
      "bottom": null,
      "display": null,
      "flex": null,
      "flex_flow": null,
      "grid_area": null,
      "grid_auto_columns": null,
      "grid_auto_flow": null,
      "grid_auto_rows": null,
      "grid_column": null,
      "grid_gap": null,
      "grid_row": null,
      "grid_template_areas": null,
      "grid_template_columns": null,
      "grid_template_rows": null,
      "height": null,
      "justify_content": null,
      "justify_items": null,
      "left": null,
      "margin": null,
      "max_height": null,
      "max_width": null,
      "min_height": null,
      "min_width": null,
      "object_fit": null,
      "object_position": null,
      "order": null,
      "overflow": null,
      "overflow_x": null,
      "overflow_y": null,
      "padding": null,
      "right": null,
      "top": null,
      "visibility": null,
      "width": null
     }
    },
    "e8ffa9ec46454853995480e25a97e193": {
     "model_module": "@jupyter-widgets/controls",
     "model_module_version": "1.5.0",
     "model_name": "HBoxModel",
     "state": {
      "_dom_classes": [],
      "_model_module": "@jupyter-widgets/controls",
      "_model_module_version": "1.5.0",
      "_model_name": "HBoxModel",
      "_view_count": null,
      "_view_module": "@jupyter-widgets/controls",
      "_view_module_version": "1.5.0",
      "_view_name": "HBoxView",
      "box_style": "",
      "children": [
       "IPY_MODEL_c48edf2207404520a4b5f006b2128abf",
       "IPY_MODEL_27b90ed7398f45aebec1e2caf6114568",
       "IPY_MODEL_228d39d9c878454ab706833bfe0ff3e4"
      ],
      "layout": "IPY_MODEL_4c02797b5d1c45539dbc06cfa9b4eabf"
     }
    },
    "e968994f2bb34afcb3f6b1ab00f1d45a": {
     "model_module": "@jupyter-widgets/controls",
     "model_module_version": "1.5.0",
     "model_name": "HTMLModel",
     "state": {
      "_dom_classes": [],
      "_model_module": "@jupyter-widgets/controls",
      "_model_module_version": "1.5.0",
      "_model_name": "HTMLModel",
      "_view_count": null,
      "_view_module": "@jupyter-widgets/controls",
      "_view_module_version": "1.5.0",
      "_view_name": "HTMLView",
      "description": "",
      "description_tooltip": null,
      "layout": "IPY_MODEL_2394593201e34d4db4c4e3438f517f46",
      "placeholder": "​",
      "style": "IPY_MODEL_be11c807ea0e445cb57f50971f20a7a8",
      "value": "spiece.model: 100%"
     }
    },
    "eb5055a5064340a1b6b0fda577f00fb9": {
     "model_module": "@jupyter-widgets/controls",
     "model_module_version": "1.5.0",
     "model_name": "ProgressStyleModel",
     "state": {
      "_model_module": "@jupyter-widgets/controls",
      "_model_module_version": "1.5.0",
      "_model_name": "ProgressStyleModel",
      "_view_count": null,
      "_view_module": "@jupyter-widgets/base",
      "_view_module_version": "1.2.0",
      "_view_name": "StyleView",
      "bar_color": null,
      "description_width": ""
     }
    },
    "ed47761e44d3483c9953deff3329814f": {
     "model_module": "@jupyter-widgets/controls",
     "model_module_version": "1.5.0",
     "model_name": "ProgressStyleModel",
     "state": {
      "_model_module": "@jupyter-widgets/controls",
      "_model_module_version": "1.5.0",
      "_model_name": "ProgressStyleModel",
      "_view_count": null,
      "_view_module": "@jupyter-widgets/base",
      "_view_module_version": "1.2.0",
      "_view_name": "StyleView",
      "bar_color": null,
      "description_width": ""
     }
    },
    "f07be5602db2414585177fe3938df81f": {
     "model_module": "@jupyter-widgets/controls",
     "model_module_version": "1.5.0",
     "model_name": "DescriptionStyleModel",
     "state": {
      "_model_module": "@jupyter-widgets/controls",
      "_model_module_version": "1.5.0",
      "_model_name": "DescriptionStyleModel",
      "_view_count": null,
      "_view_module": "@jupyter-widgets/base",
      "_view_module_version": "1.2.0",
      "_view_name": "StyleView",
      "description_width": ""
     }
    },
    "f1e63d34cdf545f2b4ccb818b7cac0b1": {
     "model_module": "@jupyter-widgets/controls",
     "model_module_version": "1.5.0",
     "model_name": "HTMLModel",
     "state": {
      "_dom_classes": [],
      "_model_module": "@jupyter-widgets/controls",
      "_model_module_version": "1.5.0",
      "_model_name": "HTMLModel",
      "_view_count": null,
      "_view_module": "@jupyter-widgets/controls",
      "_view_module_version": "1.5.0",
      "_view_name": "HTMLView",
      "description": "",
      "description_tooltip": null,
      "layout": "IPY_MODEL_fc847ed6e73145cfbdb2a9e92a21f162",
      "placeholder": "​",
      "style": "IPY_MODEL_d1c5a46805cd439ba6e9c00ea92ea5d2",
      "value": " 1.21k/1.21k [00:00&lt;00:00, 18.1kB/s]"
     }
    },
    "fb7c959857214a2bbbc59c19dd0e83d8": {
     "model_module": "@jupyter-widgets/base",
     "model_module_version": "1.2.0",
     "model_name": "LayoutModel",
     "state": {
      "_model_module": "@jupyter-widgets/base",
      "_model_module_version": "1.2.0",
      "_model_name": "LayoutModel",
      "_view_count": null,
      "_view_module": "@jupyter-widgets/base",
      "_view_module_version": "1.2.0",
      "_view_name": "LayoutView",
      "align_content": null,
      "align_items": null,
      "align_self": null,
      "border": null,
      "bottom": null,
      "display": null,
      "flex": null,
      "flex_flow": null,
      "grid_area": null,
      "grid_auto_columns": null,
      "grid_auto_flow": null,
      "grid_auto_rows": null,
      "grid_column": null,
      "grid_gap": null,
      "grid_row": null,
      "grid_template_areas": null,
      "grid_template_columns": null,
      "grid_template_rows": null,
      "height": null,
      "justify_content": null,
      "justify_items": null,
      "left": null,
      "margin": null,
      "max_height": null,
      "max_width": null,
      "min_height": null,
      "min_width": null,
      "object_fit": null,
      "object_position": null,
      "order": null,
      "overflow": null,
      "overflow_x": null,
      "overflow_y": null,
      "padding": null,
      "right": null,
      "top": null,
      "visibility": null,
      "width": null
     }
    },
    "fbc4df0fa7d542e6b47c1d1f1c6326d9": {
     "model_module": "@jupyter-widgets/base",
     "model_module_version": "1.2.0",
     "model_name": "LayoutModel",
     "state": {
      "_model_module": "@jupyter-widgets/base",
      "_model_module_version": "1.2.0",
      "_model_name": "LayoutModel",
      "_view_count": null,
      "_view_module": "@jupyter-widgets/base",
      "_view_module_version": "1.2.0",
      "_view_name": "LayoutView",
      "align_content": null,
      "align_items": null,
      "align_self": null,
      "border": null,
      "bottom": null,
      "display": null,
      "flex": null,
      "flex_flow": null,
      "grid_area": null,
      "grid_auto_columns": null,
      "grid_auto_flow": null,
      "grid_auto_rows": null,
      "grid_column": null,
      "grid_gap": null,
      "grid_row": null,
      "grid_template_areas": null,
      "grid_template_columns": null,
      "grid_template_rows": null,
      "height": null,
      "justify_content": null,
      "justify_items": null,
      "left": null,
      "margin": null,
      "max_height": null,
      "max_width": null,
      "min_height": null,
      "min_width": null,
      "object_fit": null,
      "object_position": null,
      "order": null,
      "overflow": null,
      "overflow_x": null,
      "overflow_y": null,
      "padding": null,
      "right": null,
      "top": null,
      "visibility": null,
      "width": null
     }
    },
    "fc847ed6e73145cfbdb2a9e92a21f162": {
     "model_module": "@jupyter-widgets/base",
     "model_module_version": "1.2.0",
     "model_name": "LayoutModel",
     "state": {
      "_model_module": "@jupyter-widgets/base",
      "_model_module_version": "1.2.0",
      "_model_name": "LayoutModel",
      "_view_count": null,
      "_view_module": "@jupyter-widgets/base",
      "_view_module_version": "1.2.0",
      "_view_name": "LayoutView",
      "align_content": null,
      "align_items": null,
      "align_self": null,
      "border": null,
      "bottom": null,
      "display": null,
      "flex": null,
      "flex_flow": null,
      "grid_area": null,
      "grid_auto_columns": null,
      "grid_auto_flow": null,
      "grid_auto_rows": null,
      "grid_column": null,
      "grid_gap": null,
      "grid_row": null,
      "grid_template_areas": null,
      "grid_template_columns": null,
      "grid_template_rows": null,
      "height": null,
      "justify_content": null,
      "justify_items": null,
      "left": null,
      "margin": null,
      "max_height": null,
      "max_width": null,
      "min_height": null,
      "min_width": null,
      "object_fit": null,
      "object_position": null,
      "order": null,
      "overflow": null,
      "overflow_x": null,
      "overflow_y": null,
      "padding": null,
      "right": null,
      "top": null,
      "visibility": null,
      "width": null
     }
    }
   }
  }
 },
 "nbformat": 4,
 "nbformat_minor": 4
}
